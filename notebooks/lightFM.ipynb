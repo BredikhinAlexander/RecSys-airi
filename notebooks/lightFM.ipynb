{
 "cells": [
  {
   "cell_type": "code",
   "execution_count": 17,
   "id": "5514b069",
   "metadata": {},
   "outputs": [],
   "source": [
    "import typing as tp\n",
    "from datetime import date, datetime\n",
    "\n",
    "import numpy as np\n",
    "import optuna\n",
    "import pandas as pd\n",
    "import scipy\n",
    "# from common_metrics.metrics.recsys import MAP, HitRate, NDCG, PrecisionRecall\n",
    "from lightfm import LightFM, data\n",
    "from loguru import logger\n",
    "from tqdm import tqdm"
   ]
  },
  {
   "cell_type": "code",
   "execution_count": 39,
   "id": "35fb1d0a",
   "metadata": {},
   "outputs": [],
   "source": [
    "train1 = pd.read_csv('../data/train1level.csv')\n",
    "test1 = pd.read_csv('../data/test1level.csv')\n",
    "holdout1 = pd.read_csv('../data/holdout1level.csv')"
   ]
  },
  {
   "cell_type": "code",
   "execution_count": 40,
   "id": "67b42344",
   "metadata": {},
   "outputs": [],
   "source": [
    "items = train1.movieid.unique()\n",
    "test1 = test1[test1.movieid.isin(items)]\n",
    "users_test = test1.userid.unique()\n",
    "holdout1 = holdout1[holdout1.userid.isin(users_test)]"
   ]
  },
  {
   "cell_type": "code",
   "execution_count": 41,
   "id": "107f4d4d",
   "metadata": {},
   "outputs": [],
   "source": [
    "train1 = train1[['userid','movieid']]\n",
    "test1 = test1[['userid','movieid']]\n",
    "holdout1 = holdout1[['userid','movieid']]"
   ]
  },
  {
   "cell_type": "code",
   "execution_count": 44,
   "id": "b1258ea7",
   "metadata": {},
   "outputs": [],
   "source": [
    "def build_interactions_matrix(\n",
    "        train: pd.DataFrame, test: pd.DataFrame\n",
    ") -> tp.Tuple[tp.Tuple[scipy.sparse.coo_matrix, scipy.sparse.coo_matrix], data.Dataset]:\n",
    "    \"\"\"\n",
    "    Builds interactions matrix for train, test and creats dataset\n",
    "    \"\"\"\n",
    "    logger.info(\"start building interactions\")\n",
    "    dataset = data.Dataset()\n",
    "    dataset.fit((train[\"userid\"].values), (train[\"movieid\"].values))\n",
    "    train_interact = dataset.build_interactions(train.to_numpy())\n",
    "    \n",
    "#     dataset.fit_partial((test[\"userid\"].values), (test[\"movieid\"].values))\n",
    "#     test_interact = dataset.build_interactions(test.to_numpy())\n",
    "    logger.info(\"end building interactions\")\n",
    "    return train_interact, dataset"
   ]
  },
  {
   "cell_type": "code",
   "execution_count": 45,
   "id": "8e0c72eb",
   "metadata": {},
   "outputs": [
    {
     "name": "stderr",
     "output_type": "stream",
     "text": [
      "2022-07-08 22:30:41.515 | INFO     | __main__:build_interactions_matrix:7 - start building interactions\n",
      "2022-07-08 22:31:04.963 | INFO     | __main__:build_interactions_matrix:14 - end building interactions\n"
     ]
    }
   ],
   "source": [
    "train_interact, dataset = build_interactions_matrix(train1, test1)"
   ]
  },
  {
   "cell_type": "code",
   "execution_count": 46,
   "id": "099de1fa",
   "metadata": {},
   "outputs": [],
   "source": [
    "def fit_lightfm(\n",
    "        train_interact: tp.Tuple[scipy.sparse.coo_matrix, scipy.sparse.coo_matrix], params: tp.Dict[str, tp.Any],\n",
    "    epoch_lightfm: int\n",
    ") -> tp.Tuple[LightFM, tp.Dict[str, tp.Any]]:\n",
    "    \"\"\"\n",
    "    Fits lightfm with given parameters\n",
    "    \"\"\"\n",
    "    model = LightFM(**params)\n",
    "    logger.info(\"start fitting\")\n",
    "    for i in tqdm(range(epoch_lightfm)):\n",
    "        model.fit_partial(\n",
    "            train_interact[0],\n",
    "            sample_weight=train_interact[1],\n",
    "            epochs=1,\n",
    "            num_threads=20,\n",
    "        )\n",
    "    logger.info(\"end fitting\")\n",
    "    return model, dict(params)"
   ]
  },
  {
   "cell_type": "code",
   "execution_count": 47,
   "id": "c3e99404",
   "metadata": {},
   "outputs": [
    {
     "name": "stderr",
     "output_type": "stream",
     "text": [
      "2022-07-08 22:31:04.991 | INFO     | __main__:fit_lightfm:9 - start fitting\n",
      "100%|████████████████████████████████████████████████████████████████████████████████████████████████████████████████████| 1/1 [01:13<00:00, 73.80s/it]\n",
      "2022-07-08 22:32:18.799 | INFO     | __main__:fit_lightfm:17 - end fitting\n"
     ]
    }
   ],
   "source": [
    "epoch_lightfm = 1\n",
    "\n",
    "params = {'no_components': 128,\n",
    "  'loss': 'warp',\n",
    "  'user_alpha': 9.99e-07, \n",
    "  'item_alpha': 5.44e-06, \n",
    "  'learning_rate': 0.024,\n",
    "  'max_sampled': 248}\n",
    "\n",
    "model, params = fit_lightfm(train_interact, params, epoch_lightfm)"
   ]
  },
  {
   "cell_type": "code",
   "execution_count": 49,
   "id": "20923b3f",
   "metadata": {},
   "outputs": [
    {
     "ename": "ValueError",
     "evalue": "The item feature matrix specifies more features than there are estimated feature embeddings: 9350 vs 9577.",
     "output_type": "error",
     "traceback": [
      "\u001b[0;31m---------------------------------------------------------------------------\u001b[0m",
      "\u001b[0;31mValueError\u001b[0m                                Traceback (most recent call last)",
      "Input \u001b[0;32mIn [49]\u001b[0m, in \u001b[0;36m<cell line: 3>\u001b[0;34m()\u001b[0m\n\u001b[1;32m      1\u001b[0m dataset\u001b[38;5;241m.\u001b[39mfit_partial((test1[\u001b[38;5;124m\"\u001b[39m\u001b[38;5;124muserid\u001b[39m\u001b[38;5;124m\"\u001b[39m]\u001b[38;5;241m.\u001b[39mvalues), (test1[\u001b[38;5;124m\"\u001b[39m\u001b[38;5;124mmovieid\u001b[39m\u001b[38;5;124m\"\u001b[39m]\u001b[38;5;241m.\u001b[39mvalues))\n\u001b[1;32m      2\u001b[0m \u001b[38;5;66;03m# test_interact = dataset.build_interactions(test.to_numpy())\u001b[39;00m\n\u001b[0;32m----> 3\u001b[0m \u001b[43mmodel\u001b[49m\u001b[38;5;241;43m.\u001b[39;49m\u001b[43mpredict\u001b[49m\u001b[43m(\u001b[49m\u001b[43m(\u001b[49m\u001b[43mtest1\u001b[49m\u001b[43m[\u001b[49m\u001b[38;5;124;43m\"\u001b[39;49m\u001b[38;5;124;43muserid\u001b[39;49m\u001b[38;5;124;43m\"\u001b[39;49m\u001b[43m]\u001b[49m\u001b[38;5;241;43m.\u001b[39;49m\u001b[43mvalues\u001b[49m\u001b[43m)\u001b[49m\u001b[43m,\u001b[49m\u001b[43m \u001b[49m\u001b[43m(\u001b[49m\u001b[43mtest1\u001b[49m\u001b[43m[\u001b[49m\u001b[38;5;124;43m\"\u001b[39;49m\u001b[38;5;124;43mmovieid\u001b[39;49m\u001b[38;5;124;43m\"\u001b[39;49m\u001b[43m]\u001b[49m\u001b[38;5;241;43m.\u001b[39;49m\u001b[43mvalues\u001b[49m\u001b[43m)\u001b[49m\u001b[43m)\u001b[49m\n",
      "File \u001b[0;32m~/Desktop/work_projects/RecSys-airi/.venv/lib/python3.9/site-packages/lightfm/lightfm.py:817\u001b[0m, in \u001b[0;36mLightFM.predict\u001b[0;34m(self, user_ids, item_ids, item_features, user_features, num_threads)\u001b[0m\n\u001b[1;32m    814\u001b[0m n_users \u001b[38;5;241m=\u001b[39m user_ids\u001b[38;5;241m.\u001b[39mmax() \u001b[38;5;241m+\u001b[39m \u001b[38;5;241m1\u001b[39m\n\u001b[1;32m    815\u001b[0m n_items \u001b[38;5;241m=\u001b[39m item_ids\u001b[38;5;241m.\u001b[39mmax() \u001b[38;5;241m+\u001b[39m \u001b[38;5;241m1\u001b[39m\n\u001b[0;32m--> 817\u001b[0m (user_features, item_features) \u001b[38;5;241m=\u001b[39m \u001b[38;5;28;43mself\u001b[39;49m\u001b[38;5;241;43m.\u001b[39;49m\u001b[43m_construct_feature_matrices\u001b[49m\u001b[43m(\u001b[49m\n\u001b[1;32m    818\u001b[0m \u001b[43m    \u001b[49m\u001b[43mn_users\u001b[49m\u001b[43m,\u001b[49m\u001b[43m \u001b[49m\u001b[43mn_items\u001b[49m\u001b[43m,\u001b[49m\u001b[43m \u001b[49m\u001b[43muser_features\u001b[49m\u001b[43m,\u001b[49m\u001b[43m \u001b[49m\u001b[43mitem_features\u001b[49m\n\u001b[1;32m    819\u001b[0m \u001b[43m\u001b[49m\u001b[43m)\u001b[49m\n\u001b[1;32m    821\u001b[0m lightfm_data \u001b[38;5;241m=\u001b[39m \u001b[38;5;28mself\u001b[39m\u001b[38;5;241m.\u001b[39m_get_lightfm_data()\n\u001b[1;32m    823\u001b[0m predictions \u001b[38;5;241m=\u001b[39m np\u001b[38;5;241m.\u001b[39mempty(\u001b[38;5;28mlen\u001b[39m(user_ids), dtype\u001b[38;5;241m=\u001b[39mnp\u001b[38;5;241m.\u001b[39mfloat32)\n",
      "File \u001b[0;32m~/Desktop/work_projects/RecSys-airi/.venv/lib/python3.9/site-packages/lightfm/lightfm.py:335\u001b[0m, in \u001b[0;36mLightFM._construct_feature_matrices\u001b[0;34m(self, n_users, n_items, user_features, item_features)\u001b[0m\n\u001b[1;32m    333\u001b[0m \u001b[38;5;28;01mif\u001b[39;00m \u001b[38;5;28mself\u001b[39m\u001b[38;5;241m.\u001b[39mitem_embeddings \u001b[38;5;129;01mis\u001b[39;00m \u001b[38;5;129;01mnot\u001b[39;00m \u001b[38;5;28;01mNone\u001b[39;00m:\n\u001b[1;32m    334\u001b[0m     \u001b[38;5;28;01mif\u001b[39;00m \u001b[38;5;129;01mnot\u001b[39;00m \u001b[38;5;28mself\u001b[39m\u001b[38;5;241m.\u001b[39mitem_embeddings\u001b[38;5;241m.\u001b[39mshape[\u001b[38;5;241m0\u001b[39m] \u001b[38;5;241m>\u001b[39m\u001b[38;5;241m=\u001b[39m item_features\u001b[38;5;241m.\u001b[39mshape[\u001b[38;5;241m1\u001b[39m]:\n\u001b[0;32m--> 335\u001b[0m         \u001b[38;5;28;01mraise\u001b[39;00m \u001b[38;5;167;01mValueError\u001b[39;00m(\n\u001b[1;32m    336\u001b[0m             \u001b[38;5;124m\"\u001b[39m\u001b[38;5;124mThe item feature matrix specifies more \u001b[39m\u001b[38;5;124m\"\u001b[39m\n\u001b[1;32m    337\u001b[0m             \u001b[38;5;124m\"\u001b[39m\u001b[38;5;124mfeatures than there are estimated \u001b[39m\u001b[38;5;124m\"\u001b[39m\n\u001b[1;32m    338\u001b[0m             \u001b[38;5;124m\"\u001b[39m\u001b[38;5;124mfeature embeddings: \u001b[39m\u001b[38;5;132;01m{}\u001b[39;00m\u001b[38;5;124m vs \u001b[39m\u001b[38;5;132;01m{}\u001b[39;00m\u001b[38;5;124m.\u001b[39m\u001b[38;5;124m\"\u001b[39m\u001b[38;5;241m.\u001b[39mformat(\n\u001b[1;32m    339\u001b[0m                 \u001b[38;5;28mself\u001b[39m\u001b[38;5;241m.\u001b[39mitem_embeddings\u001b[38;5;241m.\u001b[39mshape[\u001b[38;5;241m0\u001b[39m], item_features\u001b[38;5;241m.\u001b[39mshape[\u001b[38;5;241m1\u001b[39m]\n\u001b[1;32m    340\u001b[0m             )\n\u001b[1;32m    341\u001b[0m         )\n\u001b[1;32m    343\u001b[0m user_features \u001b[38;5;241m=\u001b[39m \u001b[38;5;28mself\u001b[39m\u001b[38;5;241m.\u001b[39m_to_cython_dtype(user_features)\n\u001b[1;32m    344\u001b[0m item_features \u001b[38;5;241m=\u001b[39m \u001b[38;5;28mself\u001b[39m\u001b[38;5;241m.\u001b[39m_to_cython_dtype(item_features)\n",
      "\u001b[0;31mValueError\u001b[0m: The item feature matrix specifies more features than there are estimated feature embeddings: 9350 vs 9577."
     ]
    }
   ],
   "source": [
    "dataset.fit_partial((test1[\"userid\"].values), (test1[\"movieid\"].values))\n",
    "# test_interact = dataset.build_interactions(test.to_numpy())\n",
    "model.predict((test1[\"userid\"].values), (test1[\"movieid\"].values))"
   ]
  },
  {
   "cell_type": "code",
   "execution_count": 50,
   "id": "dffc89c9",
   "metadata": {},
   "outputs": [
    {
     "data": {
      "text/plain": [
       "9350"
      ]
     },
     "execution_count": 50,
     "metadata": {},
     "output_type": "execute_result"
    }
   ],
   "source": [
    "len(train1.movieid.unique())"
   ]
  },
  {
   "cell_type": "code",
   "execution_count": 51,
   "id": "7fa05575",
   "metadata": {},
   "outputs": [
    {
     "data": {
      "text/plain": [
       "8028"
      ]
     },
     "execution_count": 51,
     "metadata": {},
     "output_type": "execute_result"
    }
   ],
   "source": [
    "len(test1.movieid.unique())"
   ]
  }
 ],
 "metadata": {
  "kernelspec": {
   "display_name": "Python 3 (ipykernel)",
   "language": "python",
   "name": "python3"
  },
  "language_info": {
   "codemirror_mode": {
    "name": "ipython",
    "version": 3
   },
   "file_extension": ".py",
   "mimetype": "text/x-python",
   "name": "python",
   "nbconvert_exporter": "python",
   "pygments_lexer": "ipython3",
   "version": "3.9.12"
  }
 },
 "nbformat": 4,
 "nbformat_minor": 5
}
