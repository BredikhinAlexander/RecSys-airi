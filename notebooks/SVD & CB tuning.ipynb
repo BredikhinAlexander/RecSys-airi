{
  "cells": [
    {
      "cell_type": "markdown",
      "metadata": {
        "id": "c68ZpX-67pDa"
      },
      "source": [
        "# Setting up Colab environment "
      ]
    },
    {
      "cell_type": "code",
      "execution_count": 1,
      "metadata": {
        "id": "ww5bjVot7oU0",
        "colab": {
          "base_uri": "https://localhost:8080/"
        },
        "outputId": "8f3b0380-6066-4ae4-e41d-282f57f25260"
      },
      "outputs": [
        {
          "output_type": "stream",
          "name": "stdout",
          "text": [
            "Looking in indexes: https://pypi.org/simple, https://us-python.pkg.dev/colab-wheels/public/simple/\n",
            "Collecting polara\n",
            "  Cloning https://github.com/evfro/polara.git (to revision develop) to /tmp/pip-install-30d8b3k4/polara_8dc7ce9223cb41a5a32c6351af158a42\n",
            "  Running command git clone -q https://github.com/evfro/polara.git /tmp/pip-install-30d8b3k4/polara_8dc7ce9223cb41a5a32c6351af158a42\n",
            "  Running command git checkout -b develop --track origin/develop\n",
            "  Switched to a new branch 'develop'\n",
            "  Branch 'develop' set up to track remote branch 'develop' from 'origin'.\n",
            "Building wheels for collected packages: polara\n",
            "  Building wheel for polara (setup.py) ... \u001b[?25l\u001b[?25hdone\n",
            "  Created wheel for polara: filename=polara-0.7.2.dev0-py3-none-any.whl size=88531 sha256=fe383f07a8d68a83d02ef6abca6aa589e8b15ed4f613882cfd5e04ce0869b82a\n",
            "  Stored in directory: /tmp/pip-ephem-wheel-cache-frkhmpsu/wheels/19/88/81/920c4189a6b0b92f19b02f18fcb44ded22ae852f7b09ab2e28\n",
            "Successfully built polara\n",
            "Installing collected packages: polara\n",
            "Successfully installed polara-0.7.2.dev0\n",
            "Looking in indexes: https://pypi.org/simple, https://us-python.pkg.dev/colab-wheels/public/simple/\n",
            "Collecting catboost\n",
            "  Downloading catboost-1.0.6-cp37-none-manylinux1_x86_64.whl (76.6 MB)\n",
            "\u001b[K     |████████████████████████████████| 76.6 MB 1.6 MB/s \n",
            "\u001b[?25hRequirement already satisfied: scipy in /usr/local/lib/python3.7/dist-packages (from catboost) (1.5.4)\n",
            "Requirement already satisfied: six in /usr/local/lib/python3.7/dist-packages (from catboost) (1.15.0)\n",
            "Requirement already satisfied: plotly in /usr/local/lib/python3.7/dist-packages (from catboost) (5.5.0)\n",
            "Requirement already satisfied: matplotlib in /usr/local/lib/python3.7/dist-packages (from catboost) (3.2.2)\n",
            "Requirement already satisfied: graphviz in /usr/local/lib/python3.7/dist-packages (from catboost) (0.10.1)\n",
            "Requirement already satisfied: pandas>=0.24.0 in /usr/local/lib/python3.7/dist-packages (from catboost) (1.3.5)\n",
            "Requirement already satisfied: numpy>=1.16.0 in /usr/local/lib/python3.7/dist-packages (from catboost) (1.21.6)\n",
            "Requirement already satisfied: python-dateutil>=2.7.3 in /usr/local/lib/python3.7/dist-packages (from pandas>=0.24.0->catboost) (2.8.2)\n",
            "Requirement already satisfied: pytz>=2017.3 in /usr/local/lib/python3.7/dist-packages (from pandas>=0.24.0->catboost) (2022.1)\n",
            "Requirement already satisfied: kiwisolver>=1.0.1 in /usr/local/lib/python3.7/dist-packages (from matplotlib->catboost) (1.4.3)\n",
            "Requirement already satisfied: cycler>=0.10 in /usr/local/lib/python3.7/dist-packages (from matplotlib->catboost) (0.11.0)\n",
            "Requirement already satisfied: pyparsing!=2.0.4,!=2.1.2,!=2.1.6,>=2.0.1 in /usr/local/lib/python3.7/dist-packages (from matplotlib->catboost) (3.0.9)\n",
            "Requirement already satisfied: typing-extensions in /usr/local/lib/python3.7/dist-packages (from kiwisolver>=1.0.1->matplotlib->catboost) (4.1.1)\n",
            "Requirement already satisfied: tenacity>=6.2.0 in /usr/local/lib/python3.7/dist-packages (from plotly->catboost) (8.0.1)\n",
            "Installing collected packages: catboost\n",
            "Successfully installed catboost-1.0.6\n"
          ]
        }
      ],
      "source": [
        "!pip install --no-cache-dir --upgrade git+https://github.com/evfro/polara.git@develop#egg=polara\n",
        "!pip install catboost"
      ]
    },
    {
      "cell_type": "markdown",
      "metadata": {
        "id": "gHYbjOj77T5B"
      },
      "source": [
        "# Mount drive and import modules"
      ]
    },
    {
      "cell_type": "code",
      "execution_count": 2,
      "metadata": {
        "colab": {
          "base_uri": "https://localhost:8080/"
        },
        "id": "Gr69vnoSzHEE",
        "outputId": "1b41771b-5ac2-4004-bda4-844973d99a57"
      },
      "outputs": [
        {
          "output_type": "stream",
          "name": "stdout",
          "text": [
            "Mounted at /content/drive\n"
          ]
        }
      ],
      "source": [
        "from google.colab import drive\n",
        "drive.mount('/content/drive')"
      ]
    },
    {
      "cell_type": "code",
      "execution_count": 3,
      "metadata": {
        "id": "Ef5n5dkC7ZvA"
      },
      "outputs": [],
      "source": [
        "# General\n",
        "import numpy as np\n",
        "import pandas as pd\n",
        "from tqdm.auto import tqdm\n",
        "\n",
        "# Math methods\n",
        "from scipy.sparse import csr_matrix\n",
        "\n",
        "# Data\n",
        "from polara import get_movielens_data\n",
        "from polara.preprocessing.dataframes import reindex, leave_one_out\n",
        "\n",
        "# Models"
      ]
    },
    {
      "cell_type": "markdown",
      "metadata": {
        "id": "nm6UQHLU_2N7"
      },
      "source": [
        "# Functions"
      ]
    },
    {
      "cell_type": "markdown",
      "metadata": {
        "id": "nqzJqU5ODhiQ"
      },
      "source": [
        "Заголовки матчатся с названиями .py файлов в данном репо\n",
        "\n",
        "https://github.com/skoltech-ai/Recommender-Systems-Intro-Sber-2022"
      ]
    },
    {
      "cell_type": "markdown",
      "metadata": {
        "id": "wdL8t0QXACjb"
      },
      "source": [
        "## dataprep"
      ]
    },
    {
      "cell_type": "code",
      "execution_count": 4,
      "metadata": {
        "id": "GN2IhhNCAFuC"
      },
      "outputs": [],
      "source": [
        "def transform_indices(data, users, items):\n",
        "    data_index = {}\n",
        "    for entity, field in zip(['users', 'items'], [users, items]):\n",
        "        idx, idx_map = to_numeric_id(data, field)\n",
        "        data_index[entity] = idx_map\n",
        "        data.loc[:, field] = idx\n",
        "    return data, data_index\n",
        "\n",
        "def to_numeric_id(data, field):\n",
        "    idx_data = data[field].astype(\"category\")\n",
        "    idx = idx_data.cat.codes\n",
        "    idx_map = idx_data.cat.categories.rename(field)\n",
        "    return idx, idx_map\n",
        "\n",
        "\n",
        "def matrix_from_data(data, data_description, dtype=None):\n",
        "    '''\n",
        "    Converts pandas DataFrame into sparse CSR matrix.\n",
        "    Assumes data in the DataFrame is alread normalized via `transform_indices`.\n",
        "    '''\n",
        "    # get indices of observed data\n",
        "    user_idx = data[data_description['users']].values\n",
        "    item_idx = data[data_description['items']].values\n",
        "    feedback_data = data_description.get('feedback', None)\n",
        "    if feedback_data is not None:\n",
        "        feedback = data[feedback_data].values\n",
        "    else:\n",
        "        feedback = np.ones(len(user_idx))\n",
        "    # construct rating matrix\n",
        "    shape = (data_description['n_users'], data_description['n_items'])\n",
        "    return csr_matrix((feedback, (user_idx, item_idx)), shape=shape, dtype=dtype)"
      ]
    },
    {
      "cell_type": "markdown",
      "metadata": {
        "id": "_fWJLGU5ACzw"
      },
      "source": [
        "## evaluation"
      ]
    },
    {
      "cell_type": "code",
      "execution_count": 5,
      "metadata": {
        "id": "TB6-YH-EATRh"
      },
      "outputs": [],
      "source": [
        "def downvote_seen_items(scores, data, data_description):\n",
        "    userid = data_description['users']\n",
        "    itemid = data_description['items']\n",
        "    # get indices of observed data\n",
        "    user_idx = data[userid].values\n",
        "    item_idx = data[itemid].values\n",
        "    # downvote scores at the corresponding positions\n",
        "    user_idx, _ = pd.factorize(user_idx, sort=True)\n",
        "    seen_idx_flat = np.ravel_multi_index((user_idx, item_idx), scores.shape)\n",
        "    np.put(scores, seen_idx_flat, -np.inf)\n",
        "\n",
        "\n",
        "def topn_recommendations(scores, topn=10):\n",
        "    recommendations = np.apply_along_axis(topidx, 1, scores, topn)\n",
        "    return recommendations\n",
        "\n",
        "\n",
        "def topidx(a, topn):\n",
        "    parted = np.argpartition(a, -topn)[-topn:]\n",
        "    return parted[np.argsort(-a[parted])]\n",
        "\n",
        "\n",
        "def model_evaluate(recommended_items, holdout, holdout_description, topn=10):\n",
        "    itemid = holdout_description['items']\n",
        "    holdout_items = holdout[itemid].values\n",
        "    \n",
        "    # Debug\n",
        "    print(recommended_items.shape)\n",
        "    print(len(holdout_items))\n",
        "\n",
        "    assert recommended_items.shape[0] == len(holdout_items)\n",
        "    hits_mask = recommended_items[:, :topn] == holdout_items.reshape(-1, 1)\n",
        "    # HR calculation\n",
        "    hr = np.mean(hits_mask.any(axis=1))\n",
        "    # MRR calculation\n",
        "    n_test_users = recommended_items.shape[0]\n",
        "    hit_rank = np.where(hits_mask)[1] + 1.0\n",
        "    mrr = np.sum(1 / hit_rank) / n_test_users\n",
        "    # coverage calculation\n",
        "    n_items = holdout_description['n_items']\n",
        "    cov = np.unique(recommended_items).size / n_items\n",
        "    return hr, mrr, cov"
      ]
    },
    {
      "cell_type": "markdown",
      "metadata": {
        "id": "JTycI28L8Nlq"
      },
      "source": [
        "# Preparing data"
      ]
    },
    {
      "cell_type": "code",
      "execution_count": 6,
      "metadata": {
        "id": "eQ3csd_68QaE"
      },
      "outputs": [],
      "source": [
        "mldata, genres = get_movielens_data(local_file='/content/drive/MyDrive/recSys_AIRI/ml-10M.zip', \n",
        "                                    include_time=True, get_genres=True)\n",
        "\n",
        "metadata = pd.read_csv('/content/drive/MyDrive/recSys_AIRI/meta_info_ml10m.csv', sep=';')"
      ]
    },
    {
      "cell_type": "code",
      "source": [
        "metadata = pd.merge(metadata, genres.drop('genreid', axis=1), on='movieid', how='left').drop_duplicates('movieid')"
      ],
      "metadata": {
        "id": "Zl3hdIu6J4bw"
      },
      "execution_count": 7,
      "outputs": []
    },
    {
      "cell_type": "code",
      "source": [
        "metadata.head()"
      ],
      "metadata": {
        "colab": {
          "base_uri": "https://localhost:8080/",
          "height": 337
        },
        "id": "uAiTOKcXJ1yv",
        "outputId": "5d144848-4627-4dd4-f05a-222574a4c127"
      },
      "execution_count": 8,
      "outputs": [
        {
          "output_type": "execute_result",
          "data": {
            "text/plain": [
              "    movieid                                               cast  \\\n",
              "0         1  Tom Hanks,Tim Allen,Don Rickles,Jim Varney,Wal...   \n",
              "5         2  Robin Williams,Jonathan Hyde,Kirsten Dunst,Bra...   \n",
              "8         3  Walter Matthau,Jack Lemmon,Ann-Margret,Sophia ...   \n",
              "10        4  Whitney Houston,Angela Bassett,Loretta Devine,...   \n",
              "13        5  Steve Martin,Diane Keaton,Martin Short,Kimberl...   \n",
              "\n",
              "           director               writer                    genres  \\\n",
              "0     John Lasseter                  NaN   Animation,Comedy,Family   \n",
              "5      Joe Johnston                  NaN  Adventure,Fantasy,Family   \n",
              "8     Howard Deutch  Mark Steven Johnson            Romance,Comedy   \n",
              "10  Forest Whitaker                  NaN      Comedy,Drama,Romance   \n",
              "13    Charles Shyer                  NaN                    Comedy   \n",
              "\n",
              "                               movienm  \n",
              "0                     Toy Story (1995)  \n",
              "5                       Jumanji (1995)  \n",
              "8              Grumpier Old Men (1995)  \n",
              "10            Waiting to Exhale (1995)  \n",
              "13  Father of the Bride Part II (1995)  "
            ],
            "text/html": [
              "\n",
              "  <div id=\"df-8e24a398-a0e8-48b6-ba3f-25c99caca298\">\n",
              "    <div class=\"colab-df-container\">\n",
              "      <div>\n",
              "<style scoped>\n",
              "    .dataframe tbody tr th:only-of-type {\n",
              "        vertical-align: middle;\n",
              "    }\n",
              "\n",
              "    .dataframe tbody tr th {\n",
              "        vertical-align: top;\n",
              "    }\n",
              "\n",
              "    .dataframe thead th {\n",
              "        text-align: right;\n",
              "    }\n",
              "</style>\n",
              "<table border=\"1\" class=\"dataframe\">\n",
              "  <thead>\n",
              "    <tr style=\"text-align: right;\">\n",
              "      <th></th>\n",
              "      <th>movieid</th>\n",
              "      <th>cast</th>\n",
              "      <th>director</th>\n",
              "      <th>writer</th>\n",
              "      <th>genres</th>\n",
              "      <th>movienm</th>\n",
              "    </tr>\n",
              "  </thead>\n",
              "  <tbody>\n",
              "    <tr>\n",
              "      <th>0</th>\n",
              "      <td>1</td>\n",
              "      <td>Tom Hanks,Tim Allen,Don Rickles,Jim Varney,Wal...</td>\n",
              "      <td>John Lasseter</td>\n",
              "      <td>NaN</td>\n",
              "      <td>Animation,Comedy,Family</td>\n",
              "      <td>Toy Story (1995)</td>\n",
              "    </tr>\n",
              "    <tr>\n",
              "      <th>5</th>\n",
              "      <td>2</td>\n",
              "      <td>Robin Williams,Jonathan Hyde,Kirsten Dunst,Bra...</td>\n",
              "      <td>Joe Johnston</td>\n",
              "      <td>NaN</td>\n",
              "      <td>Adventure,Fantasy,Family</td>\n",
              "      <td>Jumanji (1995)</td>\n",
              "    </tr>\n",
              "    <tr>\n",
              "      <th>8</th>\n",
              "      <td>3</td>\n",
              "      <td>Walter Matthau,Jack Lemmon,Ann-Margret,Sophia ...</td>\n",
              "      <td>Howard Deutch</td>\n",
              "      <td>Mark Steven Johnson</td>\n",
              "      <td>Romance,Comedy</td>\n",
              "      <td>Grumpier Old Men (1995)</td>\n",
              "    </tr>\n",
              "    <tr>\n",
              "      <th>10</th>\n",
              "      <td>4</td>\n",
              "      <td>Whitney Houston,Angela Bassett,Loretta Devine,...</td>\n",
              "      <td>Forest Whitaker</td>\n",
              "      <td>NaN</td>\n",
              "      <td>Comedy,Drama,Romance</td>\n",
              "      <td>Waiting to Exhale (1995)</td>\n",
              "    </tr>\n",
              "    <tr>\n",
              "      <th>13</th>\n",
              "      <td>5</td>\n",
              "      <td>Steve Martin,Diane Keaton,Martin Short,Kimberl...</td>\n",
              "      <td>Charles Shyer</td>\n",
              "      <td>NaN</td>\n",
              "      <td>Comedy</td>\n",
              "      <td>Father of the Bride Part II (1995)</td>\n",
              "    </tr>\n",
              "  </tbody>\n",
              "</table>\n",
              "</div>\n",
              "      <button class=\"colab-df-convert\" onclick=\"convertToInteractive('df-8e24a398-a0e8-48b6-ba3f-25c99caca298')\"\n",
              "              title=\"Convert this dataframe to an interactive table.\"\n",
              "              style=\"display:none;\">\n",
              "        \n",
              "  <svg xmlns=\"http://www.w3.org/2000/svg\" height=\"24px\"viewBox=\"0 0 24 24\"\n",
              "       width=\"24px\">\n",
              "    <path d=\"M0 0h24v24H0V0z\" fill=\"none\"/>\n",
              "    <path d=\"M18.56 5.44l.94 2.06.94-2.06 2.06-.94-2.06-.94-.94-2.06-.94 2.06-2.06.94zm-11 1L8.5 8.5l.94-2.06 2.06-.94-2.06-.94L8.5 2.5l-.94 2.06-2.06.94zm10 10l.94 2.06.94-2.06 2.06-.94-2.06-.94-.94-2.06-.94 2.06-2.06.94z\"/><path d=\"M17.41 7.96l-1.37-1.37c-.4-.4-.92-.59-1.43-.59-.52 0-1.04.2-1.43.59L10.3 9.45l-7.72 7.72c-.78.78-.78 2.05 0 2.83L4 21.41c.39.39.9.59 1.41.59.51 0 1.02-.2 1.41-.59l7.78-7.78 2.81-2.81c.8-.78.8-2.07 0-2.86zM5.41 20L4 18.59l7.72-7.72 1.47 1.35L5.41 20z\"/>\n",
              "  </svg>\n",
              "      </button>\n",
              "      \n",
              "  <style>\n",
              "    .colab-df-container {\n",
              "      display:flex;\n",
              "      flex-wrap:wrap;\n",
              "      gap: 12px;\n",
              "    }\n",
              "\n",
              "    .colab-df-convert {\n",
              "      background-color: #E8F0FE;\n",
              "      border: none;\n",
              "      border-radius: 50%;\n",
              "      cursor: pointer;\n",
              "      display: none;\n",
              "      fill: #1967D2;\n",
              "      height: 32px;\n",
              "      padding: 0 0 0 0;\n",
              "      width: 32px;\n",
              "    }\n",
              "\n",
              "    .colab-df-convert:hover {\n",
              "      background-color: #E2EBFA;\n",
              "      box-shadow: 0px 1px 2px rgba(60, 64, 67, 0.3), 0px 1px 3px 1px rgba(60, 64, 67, 0.15);\n",
              "      fill: #174EA6;\n",
              "    }\n",
              "\n",
              "    [theme=dark] .colab-df-convert {\n",
              "      background-color: #3B4455;\n",
              "      fill: #D2E3FC;\n",
              "    }\n",
              "\n",
              "    [theme=dark] .colab-df-convert:hover {\n",
              "      background-color: #434B5C;\n",
              "      box-shadow: 0px 1px 3px 1px rgba(0, 0, 0, 0.15);\n",
              "      filter: drop-shadow(0px 1px 2px rgba(0, 0, 0, 0.3));\n",
              "      fill: #FFFFFF;\n",
              "    }\n",
              "  </style>\n",
              "\n",
              "      <script>\n",
              "        const buttonEl =\n",
              "          document.querySelector('#df-8e24a398-a0e8-48b6-ba3f-25c99caca298 button.colab-df-convert');\n",
              "        buttonEl.style.display =\n",
              "          google.colab.kernel.accessAllowed ? 'block' : 'none';\n",
              "\n",
              "        async function convertToInteractive(key) {\n",
              "          const element = document.querySelector('#df-8e24a398-a0e8-48b6-ba3f-25c99caca298');\n",
              "          const dataTable =\n",
              "            await google.colab.kernel.invokeFunction('convertToInteractive',\n",
              "                                                     [key], {});\n",
              "          if (!dataTable) return;\n",
              "\n",
              "          const docLinkHtml = 'Like what you see? Visit the ' +\n",
              "            '<a target=\"_blank\" href=https://colab.research.google.com/notebooks/data_table.ipynb>data table notebook</a>'\n",
              "            + ' to learn more about interactive tables.';\n",
              "          element.innerHTML = '';\n",
              "          dataTable['output_type'] = 'display_data';\n",
              "          await google.colab.output.renderOutput(dataTable, element);\n",
              "          const docLink = document.createElement('div');\n",
              "          docLink.innerHTML = docLinkHtml;\n",
              "          element.appendChild(docLink);\n",
              "        }\n",
              "      </script>\n",
              "    </div>\n",
              "  </div>\n",
              "  "
            ]
          },
          "metadata": {},
          "execution_count": 8
        }
      ]
    },
    {
      "cell_type": "code",
      "source": [
        "meta2 = pd.read_csv('/content/drive/MyDrive/recSys_AIRI/movies_metadata.csv')\n",
        "meta2 = meta2[meta2.release_date.notnull()].reset_index(drop=True)\n",
        "meta2.release_date = meta2.release_date.astype(str)\n",
        "meta2['movienm'] = meta2.title + ' (' + meta2.release_date.apply(lambda x: x[:4]) + ')'"
      ],
      "metadata": {
        "colab": {
          "base_uri": "https://localhost:8080/"
        },
        "id": "fnKkekdqIzmq",
        "outputId": "78226c7a-1f11-4ff2-e1d3-062b460f3a03"
      },
      "execution_count": 9,
      "outputs": [
        {
          "output_type": "stream",
          "name": "stderr",
          "text": [
            "/usr/local/lib/python3.7/dist-packages/IPython/core/interactiveshell.py:2882: DtypeWarning: Columns (10) have mixed types.Specify dtype option on import or set low_memory=False.\n",
            "  exec(code_obj, self.user_global_ns, self.user_ns)\n"
          ]
        }
      ]
    },
    {
      "cell_type": "code",
      "source": [
        "# ..., The -> The ...\n",
        "# split by '('\n",
        "\n",
        "# Divide and Conquer (Why We Fight)\n",
        "\n",
        "# and / or\n",
        "\n",
        "for t in meta2.title:\n",
        "    if type(t) == str and 'Why We Fight' in t:\n",
        "        print(t)\n",
        "        # break"
      ],
      "metadata": {
        "colab": {
          "base_uri": "https://localhost:8080/"
        },
        "id": "5aLgKR-cKhqk",
        "outputId": "ec05553c-e111-463c-cba4-8c15835458ac"
      },
      "execution_count": 10,
      "outputs": [
        {
          "output_type": "stream",
          "name": "stdout",
          "text": [
            "Why We Fight: Prelude to War\n",
            "Why We Fight\n",
            "Why We Fight: The Nazis Strike\n",
            "Why We Fight: The Battle of Britain\n",
            "Why We Fight: The Battle of Russia\n",
            "Why We Fight: Divide and Conquer\n",
            "Why We Fight: The Battle of China\n",
            "Why We Fight: War Comes to America\n",
            "Why We Fight: Divide and Conquer\n"
          ]
        }
      ]
    },
    {
      "cell_type": "code",
      "source": [
        "metadata[~metadata.movienm.isin(meta2.movienm)]"
      ],
      "metadata": {
        "colab": {
          "base_uri": "https://localhost:8080/",
          "height": 659
        },
        "id": "79VeMLGcI8Bq",
        "outputId": "99f0b08c-1e4e-4d49-ef6e-99e7ad163945"
      },
      "execution_count": 11,
      "outputs": [
        {
          "output_type": "execute_result",
          "data": {
            "text/plain": [
              "       movieid                                               cast  \\\n",
              "25          11  Michael Douglas,Annette Bening,Michael J. Fox,...   \n",
              "69          29  Ron Perlman,Dominique Pinon,Judith Vittet,Dani...   \n",
              "74          30  Gong Li,Li Bao-Tian,Wang Xiaoxiao,Li Xuejian,C...   \n",
              "77          32  Bruce Willis,Madeleine Stowe,Brad Pitt,Christo...   \n",
              "79          33  Craig Sheffer,Elizabeth McGovern,Tom Hulce,Ken...   \n",
              "...        ...                                                ...   \n",
              "21528    64959  Knox Manning,Murray Alper,General Bergeret,Mon...   \n",
              "21538    64993  Kenji Mizuhashi,Yoshimi Kondou,Satomi Hanamura...   \n",
              "21543    65001                                                NaN   \n",
              "21546    65011  Vojin Ćetković,Катарина Радивојевић,Dragan Nik...   \n",
              "21550    65027  Lugosi Béla,Edward Van Sloan,David Manners,Adr...   \n",
              "\n",
              "                           director  \\\n",
              "25                       Rob Reiner   \n",
              "69     Jean-Pierre Jeunet,Marc Caro   \n",
              "74                      Zhang Yimou   \n",
              "77                    Terry Gilliam   \n",
              "79              Jean-Jacques Annaud   \n",
              "...                             ...   \n",
              "21528    Frank Capra,Anatole Litvak   \n",
              "21538                Makoto Shinkai   \n",
              "21543                   Oren Jacoby   \n",
              "21546                 Zdravko Šotra   \n",
              "21550                Edwin L. Marin   \n",
              "\n",
              "                                                  writer  \\\n",
              "25                                                   NaN   \n",
              "69                                                   NaN   \n",
              "74                                              Bi Feiyu   \n",
              "77                                                   NaN   \n",
              "79                                                   NaN   \n",
              "...                                                  ...   \n",
              "21528  Roger Q. Denny,Julius J. Epstein,Philip G. Eps...   \n",
              "21538                                     Makoto Shinkai   \n",
              "21543                          Oren Jacoby,James Carroll   \n",
              "21546                                                NaN   \n",
              "21550                                                NaN   \n",
              "\n",
              "                         genres  \\\n",
              "25         Comedy,Drama,Romance   \n",
              "69     Fantasy,Sci-Fi,Adventure   \n",
              "74                  Drama,Crime   \n",
              "77      Sci-Fi,Thriller,Mystery   \n",
              "79            Romance,Adventure   \n",
              "...                         ...   \n",
              "21528               Documentary   \n",
              "21538           Animation,Drama   \n",
              "21543               Documentary   \n",
              "21546                     Drama   \n",
              "21550   Horror,Mystery,Thriller   \n",
              "\n",
              "                                                 movienm  \n",
              "25                        American President, The (1995)  \n",
              "69     City of Lost Children, The (CitÃ© des enfants ...  \n",
              "74     Shanghai Triad (Yao a yao yao dao waipo qiao) ...  \n",
              "77                    12 Monkeys (Twelve Monkeys) (1995)  \n",
              "79                               Wings of Courage (1995)  \n",
              "...                                                  ...  \n",
              "21528        Divide and Conquer (Why We Fight, 3) (1943)  \n",
              "21538  5 Centimeters per Second (ByÃ´soku 5 senchimÃª...  \n",
              "21543                         Constantine's Sword (2007)  \n",
              "21546                              Zona Zamfirova (2002)  \n",
              "21550                             Death Kiss, The (1933)  \n",
              "\n",
              "[4427 rows x 6 columns]"
            ],
            "text/html": [
              "\n",
              "  <div id=\"df-43eec3d1-cd6a-43a7-8ba8-5fe941bc046c\">\n",
              "    <div class=\"colab-df-container\">\n",
              "      <div>\n",
              "<style scoped>\n",
              "    .dataframe tbody tr th:only-of-type {\n",
              "        vertical-align: middle;\n",
              "    }\n",
              "\n",
              "    .dataframe tbody tr th {\n",
              "        vertical-align: top;\n",
              "    }\n",
              "\n",
              "    .dataframe thead th {\n",
              "        text-align: right;\n",
              "    }\n",
              "</style>\n",
              "<table border=\"1\" class=\"dataframe\">\n",
              "  <thead>\n",
              "    <tr style=\"text-align: right;\">\n",
              "      <th></th>\n",
              "      <th>movieid</th>\n",
              "      <th>cast</th>\n",
              "      <th>director</th>\n",
              "      <th>writer</th>\n",
              "      <th>genres</th>\n",
              "      <th>movienm</th>\n",
              "    </tr>\n",
              "  </thead>\n",
              "  <tbody>\n",
              "    <tr>\n",
              "      <th>25</th>\n",
              "      <td>11</td>\n",
              "      <td>Michael Douglas,Annette Bening,Michael J. Fox,...</td>\n",
              "      <td>Rob Reiner</td>\n",
              "      <td>NaN</td>\n",
              "      <td>Comedy,Drama,Romance</td>\n",
              "      <td>American President, The (1995)</td>\n",
              "    </tr>\n",
              "    <tr>\n",
              "      <th>69</th>\n",
              "      <td>29</td>\n",
              "      <td>Ron Perlman,Dominique Pinon,Judith Vittet,Dani...</td>\n",
              "      <td>Jean-Pierre Jeunet,Marc Caro</td>\n",
              "      <td>NaN</td>\n",
              "      <td>Fantasy,Sci-Fi,Adventure</td>\n",
              "      <td>City of Lost Children, The (CitÃ© des enfants ...</td>\n",
              "    </tr>\n",
              "    <tr>\n",
              "      <th>74</th>\n",
              "      <td>30</td>\n",
              "      <td>Gong Li,Li Bao-Tian,Wang Xiaoxiao,Li Xuejian,C...</td>\n",
              "      <td>Zhang Yimou</td>\n",
              "      <td>Bi Feiyu</td>\n",
              "      <td>Drama,Crime</td>\n",
              "      <td>Shanghai Triad (Yao a yao yao dao waipo qiao) ...</td>\n",
              "    </tr>\n",
              "    <tr>\n",
              "      <th>77</th>\n",
              "      <td>32</td>\n",
              "      <td>Bruce Willis,Madeleine Stowe,Brad Pitt,Christo...</td>\n",
              "      <td>Terry Gilliam</td>\n",
              "      <td>NaN</td>\n",
              "      <td>Sci-Fi,Thriller,Mystery</td>\n",
              "      <td>12 Monkeys (Twelve Monkeys) (1995)</td>\n",
              "    </tr>\n",
              "    <tr>\n",
              "      <th>79</th>\n",
              "      <td>33</td>\n",
              "      <td>Craig Sheffer,Elizabeth McGovern,Tom Hulce,Ken...</td>\n",
              "      <td>Jean-Jacques Annaud</td>\n",
              "      <td>NaN</td>\n",
              "      <td>Romance,Adventure</td>\n",
              "      <td>Wings of Courage (1995)</td>\n",
              "    </tr>\n",
              "    <tr>\n",
              "      <th>...</th>\n",
              "      <td>...</td>\n",
              "      <td>...</td>\n",
              "      <td>...</td>\n",
              "      <td>...</td>\n",
              "      <td>...</td>\n",
              "      <td>...</td>\n",
              "    </tr>\n",
              "    <tr>\n",
              "      <th>21528</th>\n",
              "      <td>64959</td>\n",
              "      <td>Knox Manning,Murray Alper,General Bergeret,Mon...</td>\n",
              "      <td>Frank Capra,Anatole Litvak</td>\n",
              "      <td>Roger Q. Denny,Julius J. Epstein,Philip G. Eps...</td>\n",
              "      <td>Documentary</td>\n",
              "      <td>Divide and Conquer (Why We Fight, 3) (1943)</td>\n",
              "    </tr>\n",
              "    <tr>\n",
              "      <th>21538</th>\n",
              "      <td>64993</td>\n",
              "      <td>Kenji Mizuhashi,Yoshimi Kondou,Satomi Hanamura...</td>\n",
              "      <td>Makoto Shinkai</td>\n",
              "      <td>Makoto Shinkai</td>\n",
              "      <td>Animation,Drama</td>\n",
              "      <td>5 Centimeters per Second (ByÃ´soku 5 senchimÃª...</td>\n",
              "    </tr>\n",
              "    <tr>\n",
              "      <th>21543</th>\n",
              "      <td>65001</td>\n",
              "      <td>NaN</td>\n",
              "      <td>Oren Jacoby</td>\n",
              "      <td>Oren Jacoby,James Carroll</td>\n",
              "      <td>Documentary</td>\n",
              "      <td>Constantine's Sword (2007)</td>\n",
              "    </tr>\n",
              "    <tr>\n",
              "      <th>21546</th>\n",
              "      <td>65011</td>\n",
              "      <td>Vojin Ćetković,Катарина Радивојевић,Dragan Nik...</td>\n",
              "      <td>Zdravko Šotra</td>\n",
              "      <td>NaN</td>\n",
              "      <td>Drama</td>\n",
              "      <td>Zona Zamfirova (2002)</td>\n",
              "    </tr>\n",
              "    <tr>\n",
              "      <th>21550</th>\n",
              "      <td>65027</td>\n",
              "      <td>Lugosi Béla,Edward Van Sloan,David Manners,Adr...</td>\n",
              "      <td>Edwin L. Marin</td>\n",
              "      <td>NaN</td>\n",
              "      <td>Horror,Mystery,Thriller</td>\n",
              "      <td>Death Kiss, The (1933)</td>\n",
              "    </tr>\n",
              "  </tbody>\n",
              "</table>\n",
              "<p>4427 rows × 6 columns</p>\n",
              "</div>\n",
              "      <button class=\"colab-df-convert\" onclick=\"convertToInteractive('df-43eec3d1-cd6a-43a7-8ba8-5fe941bc046c')\"\n",
              "              title=\"Convert this dataframe to an interactive table.\"\n",
              "              style=\"display:none;\">\n",
              "        \n",
              "  <svg xmlns=\"http://www.w3.org/2000/svg\" height=\"24px\"viewBox=\"0 0 24 24\"\n",
              "       width=\"24px\">\n",
              "    <path d=\"M0 0h24v24H0V0z\" fill=\"none\"/>\n",
              "    <path d=\"M18.56 5.44l.94 2.06.94-2.06 2.06-.94-2.06-.94-.94-2.06-.94 2.06-2.06.94zm-11 1L8.5 8.5l.94-2.06 2.06-.94-2.06-.94L8.5 2.5l-.94 2.06-2.06.94zm10 10l.94 2.06.94-2.06 2.06-.94-2.06-.94-.94-2.06-.94 2.06-2.06.94z\"/><path d=\"M17.41 7.96l-1.37-1.37c-.4-.4-.92-.59-1.43-.59-.52 0-1.04.2-1.43.59L10.3 9.45l-7.72 7.72c-.78.78-.78 2.05 0 2.83L4 21.41c.39.39.9.59 1.41.59.51 0 1.02-.2 1.41-.59l7.78-7.78 2.81-2.81c.8-.78.8-2.07 0-2.86zM5.41 20L4 18.59l7.72-7.72 1.47 1.35L5.41 20z\"/>\n",
              "  </svg>\n",
              "      </button>\n",
              "      \n",
              "  <style>\n",
              "    .colab-df-container {\n",
              "      display:flex;\n",
              "      flex-wrap:wrap;\n",
              "      gap: 12px;\n",
              "    }\n",
              "\n",
              "    .colab-df-convert {\n",
              "      background-color: #E8F0FE;\n",
              "      border: none;\n",
              "      border-radius: 50%;\n",
              "      cursor: pointer;\n",
              "      display: none;\n",
              "      fill: #1967D2;\n",
              "      height: 32px;\n",
              "      padding: 0 0 0 0;\n",
              "      width: 32px;\n",
              "    }\n",
              "\n",
              "    .colab-df-convert:hover {\n",
              "      background-color: #E2EBFA;\n",
              "      box-shadow: 0px 1px 2px rgba(60, 64, 67, 0.3), 0px 1px 3px 1px rgba(60, 64, 67, 0.15);\n",
              "      fill: #174EA6;\n",
              "    }\n",
              "\n",
              "    [theme=dark] .colab-df-convert {\n",
              "      background-color: #3B4455;\n",
              "      fill: #D2E3FC;\n",
              "    }\n",
              "\n",
              "    [theme=dark] .colab-df-convert:hover {\n",
              "      background-color: #434B5C;\n",
              "      box-shadow: 0px 1px 3px 1px rgba(0, 0, 0, 0.15);\n",
              "      filter: drop-shadow(0px 1px 2px rgba(0, 0, 0, 0.3));\n",
              "      fill: #FFFFFF;\n",
              "    }\n",
              "  </style>\n",
              "\n",
              "      <script>\n",
              "        const buttonEl =\n",
              "          document.querySelector('#df-43eec3d1-cd6a-43a7-8ba8-5fe941bc046c button.colab-df-convert');\n",
              "        buttonEl.style.display =\n",
              "          google.colab.kernel.accessAllowed ? 'block' : 'none';\n",
              "\n",
              "        async function convertToInteractive(key) {\n",
              "          const element = document.querySelector('#df-43eec3d1-cd6a-43a7-8ba8-5fe941bc046c');\n",
              "          const dataTable =\n",
              "            await google.colab.kernel.invokeFunction('convertToInteractive',\n",
              "                                                     [key], {});\n",
              "          if (!dataTable) return;\n",
              "\n",
              "          const docLinkHtml = 'Like what you see? Visit the ' +\n",
              "            '<a target=\"_blank\" href=https://colab.research.google.com/notebooks/data_table.ipynb>data table notebook</a>'\n",
              "            + ' to learn more about interactive tables.';\n",
              "          element.innerHTML = '';\n",
              "          dataTable['output_type'] = 'display_data';\n",
              "          await google.colab.output.renderOutput(dataTable, element);\n",
              "          const docLink = document.createElement('div');\n",
              "          docLink.innerHTML = docLinkHtml;\n",
              "          element.appendChild(docLink);\n",
              "        }\n",
              "      </script>\n",
              "    </div>\n",
              "  </div>\n",
              "  "
            ]
          },
          "metadata": {},
          "execution_count": 11
        }
      ]
    },
    {
      "cell_type": "code",
      "source": [
        "meta2['title']"
      ],
      "metadata": {
        "colab": {
          "base_uri": "https://localhost:8080/"
        },
        "id": "gQMp3SXkJBIE",
        "outputId": "8eecca31-03f8-4fbe-8957-5354240aa358"
      },
      "execution_count": 12,
      "outputs": [
        {
          "output_type": "execute_result",
          "data": {
            "text/plain": [
              "0                          Toy Story\n",
              "1                            Jumanji\n",
              "2                   Grumpier Old Men\n",
              "3                  Waiting to Exhale\n",
              "4        Father of the Bride Part II\n",
              "                    ...             \n",
              "45374                     Robin Hood\n",
              "45375            Century of Birthing\n",
              "45376                       Betrayal\n",
              "45377               Satan Triumphant\n",
              "45378                       Queerama\n",
              "Name: title, Length: 45379, dtype: object"
            ]
          },
          "metadata": {},
          "execution_count": 12
        }
      ]
    },
    {
      "cell_type": "code",
      "execution_count": 13,
      "metadata": {
        "id": "W1nSF4W28VpT"
      },
      "outputs": [],
      "source": [
        "test_timepoint = mldata['timestamp'].quantile(\n",
        "    q=0.95, interpolation='nearest'\n",
        ")\n",
        "\n",
        "test_data_ = mldata.query('timestamp >= @test_timepoint')"
      ]
    },
    {
      "cell_type": "code",
      "execution_count": 14,
      "metadata": {
        "colab": {
          "base_uri": "https://localhost:8080/"
        },
        "id": "A7LMvAxjoy4v",
        "outputId": "38c7a83e-74e7-48d5-d38d-161b6268455e"
      },
      "outputs": [
        {
          "output_type": "execute_result",
          "data": {
            "text/plain": [
              "userid         5198\n",
              "movieid        9291\n",
              "rating           10\n",
              "timestamp    475010\n",
              "dtype: int64"
            ]
          },
          "metadata": {},
          "execution_count": 14
        }
      ],
      "source": [
        "test_data_.nunique()"
      ]
    },
    {
      "cell_type": "code",
      "execution_count": 15,
      "metadata": {
        "id": "ZNHPhzH0_NtK"
      },
      "outputs": [],
      "source": [
        "train_data_ = mldata.query(\n",
        "    'userid not in @test_data_.userid.unique() and timestamp < @test_timepoint'\n",
        ")\n",
        "\n",
        "training, data_index = transform_indices(train_data_.copy(), 'userid', 'movieid')"
      ]
    },
    {
      "cell_type": "code",
      "source": [
        "training.userid.nunique()"
      ],
      "metadata": {
        "id": "U6ByVKwxbsxW",
        "outputId": "3c5dff2e-26da-439b-9840-d2f5863bfeb4",
        "colab": {
          "base_uri": "https://localhost:8080/"
        }
      },
      "execution_count": 16,
      "outputs": [
        {
          "output_type": "execute_result",
          "data": {
            "text/plain": [
              "64680"
            ]
          },
          "metadata": {},
          "execution_count": 16
        }
      ]
    },
    {
      "cell_type": "code",
      "execution_count": 17,
      "metadata": {
        "colab": {
          "base_uri": "https://localhost:8080/"
        },
        "id": "2NT37YdO_0_6",
        "outputId": "4aa04542-1683-484f-e366-65166b880f58"
      },
      "outputs": [
        {
          "output_type": "stream",
          "name": "stdout",
          "text": [
            "Filtered 23202 invalid observations.\n"
          ]
        }
      ],
      "source": [
        "test_data = reindex(test_data_, data_index['items'])"
      ]
    },
    {
      "cell_type": "code",
      "execution_count": 18,
      "metadata": {
        "colab": {
          "base_uri": "https://localhost:8080/"
        },
        "id": "4ixpHG4RApuT",
        "outputId": "557b4752-2597-4941-b75a-2480fdbf2c45"
      },
      "outputs": [
        {
          "output_type": "execute_result",
          "data": {
            "text/plain": [
              "userid         5132\n",
              "movieid        8506\n",
              "rating           10\n",
              "timestamp    453219\n",
              "dtype: int64"
            ]
          },
          "metadata": {},
          "execution_count": 18
        }
      ],
      "source": [
        "test_data.nunique()"
      ]
    },
    {
      "cell_type": "markdown",
      "metadata": {
        "id": "uQW-2iK-A8cs"
      },
      "source": [
        "We sample the last item for each test user.\n",
        "As all these users are excluded from the training, and training is additionally filtered by timestamp, there will be no \"recommendation from future\" issue - our model is unaware of future correlations."
      ]
    },
    {
      "cell_type": "markdown",
      "metadata": {
        "id": "vQAOhcnBgpFD"
      },
      "source": [
        "## data for final test"
      ]
    },
    {
      "cell_type": "code",
      "execution_count": 19,
      "metadata": {
        "id": "e--LbWGZmblO"
      },
      "outputs": [],
      "source": [
        "testset_, holdout_ = leave_one_out(\n",
        "    test_data, target='timestamp', sample_top=True, random_state=0\n",
        ")"
      ]
    },
    {
      "cell_type": "code",
      "source": [
        "userid = data_index['users'].name\n",
        "test_users = pd.Index(\n",
        "    # ensure test users are the same across testing data\n",
        "    np.intersect1d(\n",
        "        testset_[userid].unique(),\n",
        "        holdout_[userid].unique()\n",
        "    )\n",
        ")\n",
        "testset = (\n",
        "    testset_\n",
        "    # reindex warm-start users for convenience\n",
        "    .assign(**{userid: lambda x: test_users.get_indexer(x[userid])})\n",
        "    .query(f'{userid} >= 0')\n",
        "    .sort_values('userid')\n",
        ")\n",
        "holdout = (\n",
        "    holdout_\n",
        "    # reindex warm-start users for convenience\n",
        "    .assign(**{userid: lambda x: test_users.get_indexer(x[userid])})\n",
        "    .query(f'{userid} >= 0')\n",
        "    .sort_values('userid')\n",
        ")"
      ],
      "metadata": {
        "id": "6gYNMTeSl8pw"
      },
      "execution_count": 20,
      "outputs": []
    },
    {
      "cell_type": "code",
      "execution_count": 21,
      "metadata": {
        "colab": {
          "base_uri": "https://localhost:8080/"
        },
        "id": "_CTpNaIqBczl",
        "outputId": "f0ef5d8c-3a83-4862-fa73-869426b94a54"
      },
      "outputs": [
        {
          "output_type": "stream",
          "name": "stdout",
          "text": [
            "(471670, 4)\n",
            "testset unique users: 4996\n",
            "(4996, 4)\n",
            "holdout unique users: 4996\n"
          ]
        }
      ],
      "source": [
        "print(testset.shape)\n",
        "print('testset unique users:', testset.userid.nunique())\n",
        "print(holdout.shape)\n",
        "print('holdout unique users:', holdout.userid.nunique())"
      ]
    },
    {
      "cell_type": "markdown",
      "metadata": {
        "id": "llrcWrSRg7pL"
      },
      "source": [
        "## data for svd and catboost"
      ]
    },
    {
      "cell_type": "code",
      "execution_count": 22,
      "metadata": {
        "colab": {
          "base_uri": "https://localhost:8080/"
        },
        "id": "ufrRCLZalBw7",
        "outputId": "ea33b965-2d2f-47e5-f2df-bca2195dd1f5"
      },
      "outputs": [
        {
          "output_type": "execute_result",
          "data": {
            "text/plain": [
              "1179203388"
            ]
          },
          "metadata": {},
          "execution_count": 22
        }
      ],
      "source": [
        "training['timestamp'].quantile(\n",
        "    q=0.95, interpolation='nearest'\n",
        ")"
      ]
    },
    {
      "cell_type": "code",
      "execution_count": 23,
      "metadata": {
        "id": "JYkNg_Z0A8uV"
      },
      "outputs": [],
      "source": [
        "valid_timepoint = training['timestamp'].quantile(\n",
        "    q=0.95, interpolation='nearest'\n",
        ")\n",
        "\n",
        "cb_data_ = training.query('timestamp >= @valid_timepoint')\n",
        "\n",
        "svd_data = training.query(\n",
        "    'userid not in @cb_data_.userid.unique() and timestamp < @test_timepoint'\n",
        ")\n",
        "\n",
        "# svd_data, svd_data_index = transform_indices(svd_data_.copy(), 'userid', 'movieid')\n",
        "# cb_data_ = reindex(cb_data_, svd_data_index['items'])\n",
        "\n",
        "cb_data, cb_holdout = leave_one_out(\n",
        "    cb_data_, target='timestamp', sample_top=True, random_state=0\n",
        ")"
      ]
    },
    {
      "cell_type": "code",
      "source": [
        "userid = data_index['users'].name\n",
        "cb_users = pd.Index(\n",
        "    # ensure test users are the same across testing data\n",
        "    np.intersect1d(\n",
        "        cb_data[userid].unique(),\n",
        "        cb_holdout[userid].unique()\n",
        "    )\n",
        ")\n",
        "cb_data = (\n",
        "    cb_data\n",
        "    # reindex warm-start users for convenience\n",
        "    .assign(**{userid: lambda x: cb_users.get_indexer(x[userid])})\n",
        "    .query(f'{userid} >= 0')\n",
        "    .sort_values('userid')\n",
        ")\n",
        "cb_holdout = (\n",
        "    cb_holdout\n",
        "    # reindex warm-start users for convenience\n",
        "    .assign(**{userid: lambda x: cb_users.get_indexer(x[userid])})\n",
        "    .query(f'{userid} >= 0')\n",
        "    .sort_values('userid')\n",
        ")"
      ],
      "metadata": {
        "id": "XfnhbBrLoNWj"
      },
      "execution_count": 24,
      "outputs": []
    },
    {
      "cell_type": "code",
      "execution_count": 25,
      "metadata": {
        "colab": {
          "base_uri": "https://localhost:8080/"
        },
        "id": "22atsAUIntWG",
        "outputId": "313d00a0-582f-475f-ea3b-5975c6ed2ace"
      },
      "outputs": [
        {
          "output_type": "stream",
          "name": "stdout",
          "text": [
            "(410184, 4)\n",
            "cb_data unique users: 4048\n",
            "(4048, 4)\n",
            "cb_holdout unique users: 4048\n"
          ]
        }
      ],
      "source": [
        "print(cb_data.shape)\n",
        "print('cb_data unique users:', cb_data.userid.nunique())\n",
        "print(cb_holdout.shape)\n",
        "print('cb_holdout unique users:', cb_holdout.userid.nunique())"
      ]
    },
    {
      "cell_type": "markdown",
      "metadata": {
        "id": "V_pDTILen-xX"
      },
      "source": [
        "## data_description"
      ]
    },
    {
      "cell_type": "code",
      "execution_count": 26,
      "metadata": {
        "colab": {
          "base_uri": "https://localhost:8080/"
        },
        "id": "owh1jT7-BdQ5",
        "outputId": "87ccb428-01c4-4fd7-bf84-80a138f63aca"
      },
      "outputs": [
        {
          "output_type": "execute_result",
          "data": {
            "text/plain": [
              "{'items': 'movieid',\n",
              " 'n_items': 9857,\n",
              " 'n_users': 64680,\n",
              " 'order': 'timestamp',\n",
              " 'users': 'userid'}"
            ]
          },
          "metadata": {},
          "execution_count": 26
        }
      ],
      "source": [
        "data_description = dict(\n",
        "    users = data_index['users'].name,\n",
        "    items = data_index['items'].name,\n",
        "    order = 'timestamp',\n",
        "    n_users = len(data_index['users']),\n",
        "    n_items = len(data_index['items']),\n",
        ")\n",
        "data_description"
      ]
    },
    {
      "cell_type": "code",
      "execution_count": 27,
      "metadata": {
        "id": "b6IimIqLryQr"
      },
      "outputs": [],
      "source": [
        "# svd_data_description = dict(\n",
        "#     users = svd_data_index['users'].name,\n",
        "#     items = svd_data_index['items'].name,\n",
        "#     order = 'timestamp',\n",
        "#     n_users = len(svd_data_index['users']),\n",
        "#     n_items = len(svd_data_index['items']),\n",
        "# )\n",
        "# svd_data_description"
      ]
    },
    {
      "cell_type": "markdown",
      "metadata": {
        "id": "c6vhwFDJNy-j"
      },
      "source": [
        "# First stage – SVD implementation"
      ]
    },
    {
      "cell_type": "code",
      "execution_count": 28,
      "metadata": {
        "id": "BQmgtjaWBdTc"
      },
      "outputs": [],
      "source": [
        "from scipy.sparse.linalg import svds"
      ]
    },
    {
      "cell_type": "code",
      "execution_count": 29,
      "metadata": {
        "id": "LnzohIhVEKSR"
      },
      "outputs": [],
      "source": [
        "def build_svd_model(config, data, data_description):\n",
        "    source_matrix = matrix_from_data(data, data_description)\n",
        "    _, s, vt = svds(source_matrix, k=config['rank'], return_singular_vectors='vh')\n",
        "    singular_values = s[::-1]\n",
        "    item_factors = np.ascontiguousarray(vt[::-1, :].T)\n",
        "    return item_factors, singular_values"
      ]
    },
    {
      "cell_type": "code",
      "source": [
        ""
      ],
      "metadata": {
        "id": "o50rl1YoYhwq"
      },
      "execution_count": 29,
      "outputs": []
    },
    {
      "cell_type": "code",
      "execution_count": 30,
      "metadata": {
        "id": "kby6n6jb4Qyq"
      },
      "outputs": [],
      "source": [
        "def svd_model_scoring(params, data, data_description):\n",
        "    item_factors, sigma = params\n",
        "    n_test_users = data[data_description['users']].nunique()\n",
        "    test_matrix = matrix_from_data(data, {**data_description, **{'n_users': n_test_users}})\n",
        "    scores = test_matrix.dot(item_factors) @ item_factors.T\n",
        "    return scores"
      ]
    },
    {
      "cell_type": "code",
      "execution_count": 31,
      "metadata": {
        "id": "-yhV4oVU4Q1C"
      },
      "outputs": [],
      "source": [
        "def evaluate_svd(params, data, data_description, holdout):\n",
        "    scores = svd_model_scoring(params, data, data_description)\n",
        "    downvote_seen_items(scores, data, data_description)\n",
        "    recs = topn_recommendations(scores, topn=10)\n",
        "    return model_evaluate(recs, holdout, data_description)"
      ]
    },
    {
      "cell_type": "code",
      "execution_count": 32,
      "metadata": {
        "id": "FebmhBhcqWkD"
      },
      "outputs": [],
      "source": [
        "# params = rank_params\n",
        "# item_factors, sigma = params\n",
        "# n_test_users = cb_data[data_description['users']].nunique()\n",
        "\n",
        "# user_idx = cb_data[data_description['users']].values\n",
        "# item_idx = cb_data[data_description['items']].values\n",
        "# feedback_data = data_description.get('feedback', None)\n",
        "# if feedback_data is not None:\n",
        "#     feedback = cb_data[feedback_data].values\n",
        "# else:\n",
        "#     feedback = np.ones(len(user_idx))\n",
        "\n",
        "# # construct rating matrix\n",
        "# shape = (len(user_idx), len(item_idx))\n",
        "# csr_matrix((feedback, (user_idx, item_idx)), shape=shape, dtype=float)"
      ]
    },
    {
      "cell_type": "code",
      "source": [
        "# [b*2**i for i in range(3, 9) for b in [2, 3]]"
      ],
      "metadata": {
        "id": "9YCd8JOhvzZp"
      },
      "execution_count": 33,
      "outputs": []
    },
    {
      "cell_type": "code",
      "execution_count": 34,
      "metadata": {
        "id": "fhFezPom4Q35",
        "colab": {
          "base_uri": "https://localhost:8080/",
          "height": 85,
          "referenced_widgets": [
            "df33efc403b64db7a279d1f69130655f",
            "ba5d43c1b8574cb1af8d1b330536b52f",
            "b35ec24fd22b49fd8b38255451fc43b8",
            "e957d0e43019458784afe28d19c0bd9d",
            "e18d518e773a4a24bbf6c53005dea35e",
            "4b8fbf02a86a4672ace1f9f13836bee0",
            "9d7e6c9f34ee4a4cad833bf5fd364477",
            "05e8ab8b1b1c4c18b09620bcf6fb92b5",
            "e74c6e7603a04f229054bc1059da6381",
            "80a8013d5b034f5ca6b4ab4ac8943a28",
            "845230555bd14955b1befa7b5d07ce45"
          ]
        },
        "outputId": "0b5b0285-52c3-47d8-a795-804ff72aabf8"
      },
      "outputs": [
        {
          "output_type": "display_data",
          "data": {
            "text/plain": [
              "  0%|          | 0/1 [00:00<?, ?it/s]"
            ],
            "application/vnd.jupyter.widget-view+json": {
              "version_major": 2,
              "version_minor": 0,
              "model_id": "df33efc403b64db7a279d1f69130655f"
            }
          },
          "metadata": {}
        },
        {
          "output_type": "stream",
          "name": "stdout",
          "text": [
            "(4048, 10)\n",
            "4048\n"
          ]
        }
      ],
      "source": [
        "# svd_tuning_ranks = [b*2**i for i in range(3, 10) for b in [2, 3]]\n",
        "svd_tuning_ranks = [64]\n",
        "svd_params = build_svd_model(\n",
        "    {'rank': max(svd_tuning_ranks)},\n",
        "    svd_data,\n",
        "    data_description\n",
        ")\n",
        "svd_tuning = {}\n",
        "for rank in tqdm(svd_tuning_ranks):\n",
        "    # standard model\n",
        "    item_factors, singvals = svd_params\n",
        "    rank_params = item_factors[:, :rank], singvals[:rank]\n",
        "    svd_tuning[rank] = evaluate_svd(rank_params, cb_data, data_description, cb_holdout)"
      ]
    },
    {
      "cell_type": "code",
      "execution_count": 35,
      "metadata": {
        "id": "DCdGMJub4aSD"
      },
      "outputs": [],
      "source": [
        "svd_results = (\n",
        "    pd.Series(svd_tuning)\n",
        "    .apply(pd.Series)\n",
        "    .rename(columns = ['HR', 'MRR', 'COV'].__getitem__)\n",
        ")"
      ]
    },
    {
      "cell_type": "code",
      "source": [
        "svd_results"
      ],
      "metadata": {
        "colab": {
          "base_uri": "https://localhost:8080/",
          "height": 81
        },
        "id": "nqxNRrwozPKw",
        "outputId": "2bbb0b2f-d358-4058-903f-5ea1db05ca59"
      },
      "execution_count": 36,
      "outputs": [
        {
          "output_type": "execute_result",
          "data": {
            "text/plain": [
              "         HR       MRR       COV\n",
              "64  0.07831  0.032143  0.088972"
            ],
            "text/html": [
              "\n",
              "  <div id=\"df-ee99c831-fdef-4fb1-9946-122a490d90ca\">\n",
              "    <div class=\"colab-df-container\">\n",
              "      <div>\n",
              "<style scoped>\n",
              "    .dataframe tbody tr th:only-of-type {\n",
              "        vertical-align: middle;\n",
              "    }\n",
              "\n",
              "    .dataframe tbody tr th {\n",
              "        vertical-align: top;\n",
              "    }\n",
              "\n",
              "    .dataframe thead th {\n",
              "        text-align: right;\n",
              "    }\n",
              "</style>\n",
              "<table border=\"1\" class=\"dataframe\">\n",
              "  <thead>\n",
              "    <tr style=\"text-align: right;\">\n",
              "      <th></th>\n",
              "      <th>HR</th>\n",
              "      <th>MRR</th>\n",
              "      <th>COV</th>\n",
              "    </tr>\n",
              "  </thead>\n",
              "  <tbody>\n",
              "    <tr>\n",
              "      <th>64</th>\n",
              "      <td>0.07831</td>\n",
              "      <td>0.032143</td>\n",
              "      <td>0.088972</td>\n",
              "    </tr>\n",
              "  </tbody>\n",
              "</table>\n",
              "</div>\n",
              "      <button class=\"colab-df-convert\" onclick=\"convertToInteractive('df-ee99c831-fdef-4fb1-9946-122a490d90ca')\"\n",
              "              title=\"Convert this dataframe to an interactive table.\"\n",
              "              style=\"display:none;\">\n",
              "        \n",
              "  <svg xmlns=\"http://www.w3.org/2000/svg\" height=\"24px\"viewBox=\"0 0 24 24\"\n",
              "       width=\"24px\">\n",
              "    <path d=\"M0 0h24v24H0V0z\" fill=\"none\"/>\n",
              "    <path d=\"M18.56 5.44l.94 2.06.94-2.06 2.06-.94-2.06-.94-.94-2.06-.94 2.06-2.06.94zm-11 1L8.5 8.5l.94-2.06 2.06-.94-2.06-.94L8.5 2.5l-.94 2.06-2.06.94zm10 10l.94 2.06.94-2.06 2.06-.94-2.06-.94-.94-2.06-.94 2.06-2.06.94z\"/><path d=\"M17.41 7.96l-1.37-1.37c-.4-.4-.92-.59-1.43-.59-.52 0-1.04.2-1.43.59L10.3 9.45l-7.72 7.72c-.78.78-.78 2.05 0 2.83L4 21.41c.39.39.9.59 1.41.59.51 0 1.02-.2 1.41-.59l7.78-7.78 2.81-2.81c.8-.78.8-2.07 0-2.86zM5.41 20L4 18.59l7.72-7.72 1.47 1.35L5.41 20z\"/>\n",
              "  </svg>\n",
              "      </button>\n",
              "      \n",
              "  <style>\n",
              "    .colab-df-container {\n",
              "      display:flex;\n",
              "      flex-wrap:wrap;\n",
              "      gap: 12px;\n",
              "    }\n",
              "\n",
              "    .colab-df-convert {\n",
              "      background-color: #E8F0FE;\n",
              "      border: none;\n",
              "      border-radius: 50%;\n",
              "      cursor: pointer;\n",
              "      display: none;\n",
              "      fill: #1967D2;\n",
              "      height: 32px;\n",
              "      padding: 0 0 0 0;\n",
              "      width: 32px;\n",
              "    }\n",
              "\n",
              "    .colab-df-convert:hover {\n",
              "      background-color: #E2EBFA;\n",
              "      box-shadow: 0px 1px 2px rgba(60, 64, 67, 0.3), 0px 1px 3px 1px rgba(60, 64, 67, 0.15);\n",
              "      fill: #174EA6;\n",
              "    }\n",
              "\n",
              "    [theme=dark] .colab-df-convert {\n",
              "      background-color: #3B4455;\n",
              "      fill: #D2E3FC;\n",
              "    }\n",
              "\n",
              "    [theme=dark] .colab-df-convert:hover {\n",
              "      background-color: #434B5C;\n",
              "      box-shadow: 0px 1px 3px 1px rgba(0, 0, 0, 0.15);\n",
              "      filter: drop-shadow(0px 1px 2px rgba(0, 0, 0, 0.3));\n",
              "      fill: #FFFFFF;\n",
              "    }\n",
              "  </style>\n",
              "\n",
              "      <script>\n",
              "        const buttonEl =\n",
              "          document.querySelector('#df-ee99c831-fdef-4fb1-9946-122a490d90ca button.colab-df-convert');\n",
              "        buttonEl.style.display =\n",
              "          google.colab.kernel.accessAllowed ? 'block' : 'none';\n",
              "\n",
              "        async function convertToInteractive(key) {\n",
              "          const element = document.querySelector('#df-ee99c831-fdef-4fb1-9946-122a490d90ca');\n",
              "          const dataTable =\n",
              "            await google.colab.kernel.invokeFunction('convertToInteractive',\n",
              "                                                     [key], {});\n",
              "          if (!dataTable) return;\n",
              "\n",
              "          const docLinkHtml = 'Like what you see? Visit the ' +\n",
              "            '<a target=\"_blank\" href=https://colab.research.google.com/notebooks/data_table.ipynb>data table notebook</a>'\n",
              "            + ' to learn more about interactive tables.';\n",
              "          element.innerHTML = '';\n",
              "          dataTable['output_type'] = 'display_data';\n",
              "          await google.colab.output.renderOutput(dataTable, element);\n",
              "          const docLink = document.createElement('div');\n",
              "          docLink.innerHTML = docLinkHtml;\n",
              "          element.appendChild(docLink);\n",
              "        }\n",
              "      </script>\n",
              "    </div>\n",
              "  </div>\n",
              "  "
            ]
          },
          "metadata": {},
          "execution_count": 36
        }
      ]
    },
    {
      "cell_type": "code",
      "execution_count": 37,
      "metadata": {
        "id": "SQpJQRHc4aVF",
        "colab": {
          "base_uri": "https://localhost:8080/",
          "height": 279
        },
        "outputId": "6be04098-50bb-43e9-a80e-639ef384431e"
      },
      "outputs": [
        {
          "output_type": "display_data",
          "data": {
            "text/plain": [
              "<Figure size 432x288 with 2 Axes>"
            ],
            "image/png": "[encoded data removed]"
          },
          "metadata": {
            "needs_background": "light"
          }
        }
      ],
      "source": [
        "svd_results['HR'].plot(label='HR', legend=True, ylabel='Metric', xlabel='rank')\n",
        "svd_results['MRR'].plot(secondary_y=True, label='MRR', legend=True);"
      ]
    },
    {
      "cell_type": "code",
      "execution_count": 38,
      "metadata": {
        "id": "F3-JVka1EKVE",
        "colab": {
          "base_uri": "https://localhost:8080/"
        },
        "outputId": "096bef8d-35b6-4dd3-d200-20e7b50ca677"
      },
      "outputs": [
        {
          "output_type": "execute_result",
          "data": {
            "text/plain": [
              "HR     0.078310\n",
              "MRR    0.032143\n",
              "COV    0.088972\n",
              "Name: 64, dtype: float64"
            ]
          },
          "metadata": {},
          "execution_count": 38
        }
      ],
      "source": [
        "svd_results.loc[svd_results['HR'].idxmax()]"
      ]
    },
    {
      "cell_type": "markdown",
      "metadata": {
        "id": "flAzgEyJPBTf"
      },
      "source": [
        "# Second stage – CatBoost implementation"
      ]
    },
    {
      "cell_type": "code",
      "source": [
        "data_description"
      ],
      "metadata": {
        "colab": {
          "base_uri": "https://localhost:8080/"
        },
        "id": "7HVhMwekvNm-",
        "outputId": "af430a90-483e-45ca-88c0-1e7b285350ac"
      },
      "execution_count": 39,
      "outputs": [
        {
          "output_type": "execute_result",
          "data": {
            "text/plain": [
              "{'items': 'movieid',\n",
              " 'n_items': 9857,\n",
              " 'n_users': 64680,\n",
              " 'order': 'timestamp',\n",
              " 'users': 'userid'}"
            ]
          },
          "metadata": {},
          "execution_count": 39
        }
      ]
    },
    {
      "cell_type": "code",
      "execution_count": 40,
      "metadata": {
        "id": "npa6WTjiEKXB"
      },
      "outputs": [],
      "source": [
        "cb_svd_recs = svd_model_scoring((item_factors[:, :64], singvals[:64]), cb_data, data_description)"
      ]
    },
    {
      "cell_type": "code",
      "source": [
        "cb_svd_recs.shape"
      ],
      "metadata": {
        "colab": {
          "base_uri": "https://localhost:8080/"
        },
        "id": "hfsulqmqzoho",
        "outputId": "f76e2f79-e22c-4bb1-899d-fb886e7199f4"
      },
      "execution_count": 41,
      "outputs": [
        {
          "output_type": "execute_result",
          "data": {
            "text/plain": [
              "(4048, 9857)"
            ]
          },
          "metadata": {},
          "execution_count": 41
        }
      ]
    },
    {
      "cell_type": "code",
      "source": [
        "# item_factors\n",
        "# embeddings for items\n",
        "\n",
        "# delete items from history"
      ],
      "metadata": {
        "id": "3eP71IL59WZ6"
      },
      "execution_count": 42,
      "outputs": []
    },
    {
      "cell_type": "code",
      "source": [
        "item_factors[:, :64]"
      ],
      "metadata": {
        "colab": {
          "base_uri": "https://localhost:8080/"
        },
        "id": "cJTmgOHq9f7n",
        "outputId": "168e42db-118c-4057-886a-857c3d901c96"
      },
      "execution_count": 43,
      "outputs": [
        {
          "output_type": "execute_result",
          "data": {
            "text/plain": [
              "array([[-7.77422723e-02,  2.39338168e-02, -3.12696687e-03, ...,\n",
              "         1.35442655e-02,  1.34148697e-01,  4.93994621e-02],\n",
              "       [-4.35285895e-02,  4.68047040e-02, -2.84548569e-02, ...,\n",
              "         2.76398159e-02,  2.29450497e-02,  1.98816254e-03],\n",
              "       [-2.45826641e-02,  2.19733275e-02,  2.33920786e-03, ...,\n",
              "         5.08038390e-03,  5.57212591e-02,  3.40081819e-02],\n",
              "       ...,\n",
              "       [-4.61398709e-19,  1.84928855e-18,  2.98761208e-18, ...,\n",
              "        -1.19148605e-17,  3.03289432e-17,  2.60633326e-17],\n",
              "       [ 2.22705764e-19, -1.31333776e-18, -2.44563174e-18, ...,\n",
              "         8.93516070e-18, -2.14790636e-17, -1.84788241e-17],\n",
              "       [ 2.59708711e-19, -1.33060038e-18, -1.84062154e-18, ...,\n",
              "         7.68679518e-18, -1.82262611e-17, -1.56332581e-17]])"
            ]
          },
          "metadata": {},
          "execution_count": 43
        }
      ]
    },
    {
      "cell_type": "code",
      "source": [
        "metadata"
      ],
      "metadata": {
        "colab": {
          "base_uri": "https://localhost:8080/",
          "height": 641
        },
        "id": "tZRABYb2_WYn",
        "outputId": "1cebb66c-71d4-4820-ab24-73eb66972de1"
      },
      "execution_count": 44,
      "outputs": [
        {
          "output_type": "execute_result",
          "data": {
            "text/plain": [
              "       movieid                                               cast  \\\n",
              "0            1  Tom Hanks,Tim Allen,Don Rickles,Jim Varney,Wal...   \n",
              "5            2  Robin Williams,Jonathan Hyde,Kirsten Dunst,Bra...   \n",
              "8            3  Walter Matthau,Jack Lemmon,Ann-Margret,Sophia ...   \n",
              "10           4  Whitney Houston,Angela Bassett,Loretta Devine,...   \n",
              "13           5  Steve Martin,Diane Keaton,Martin Short,Kimberl...   \n",
              "...        ...                                                ...   \n",
              "21553    65088  Adam Sandler,Keri Russell,Guy Pearce,Courteney...   \n",
              "21556    65091  Clark Gable,William Powell,Myrna Loy,Leo Carri...   \n",
              "21559    65126  Anjelica Huston,Kelly Macdonald,Sam Rockwell,C...   \n",
              "21561    65130  Leonardo DiCaprio,Kate Winslet,Michael Shannon...   \n",
              "21563    65133  Rowan Atkinson,Tony Robinson,Stephen Fry,Hugh ...   \n",
              "\n",
              "              director                    writer  \\\n",
              "0        John Lasseter                       NaN   \n",
              "5         Joe Johnston                       NaN   \n",
              "8        Howard Deutch       Mark Steven Johnson   \n",
              "10     Forest Whitaker                       NaN   \n",
              "13       Charles Shyer                       NaN   \n",
              "...                ...                       ...   \n",
              "21553    Adam Shankman                       NaN   \n",
              "21556    W.S. Van Dyke                       NaN   \n",
              "21559      Clark Gregg                       NaN   \n",
              "21561       Sam Mendes                       NaN   \n",
              "21563     Paul Weiland  Richard Curtis,Ben Elton   \n",
              "\n",
              "                              genres                             movienm  \n",
              "0            Animation,Comedy,Family                    Toy Story (1995)  \n",
              "5           Adventure,Fantasy,Family                      Jumanji (1995)  \n",
              "8                     Romance,Comedy             Grumpier Old Men (1995)  \n",
              "10              Comedy,Drama,Romance            Waiting to Exhale (1995)  \n",
              "13                            Comedy  Father of the Bride Part II (1995)  \n",
              "...                              ...                                 ...  \n",
              "21553  Fantasy,Comedy,Family,Romance              Bedtime Stories (2008)  \n",
              "21556            Crime,Drama,Romance          Manhattan Melodrama (1934)  \n",
              "21559                   Comedy,Drama                        Choke (2008)  \n",
              "21561                  Drama,Romance           Revolutionary Road (2008)  \n",
              "21563                 Comedy,History      Blackadder Back & Forth (1999)  \n",
              "\n",
              "[10681 rows x 6 columns]"
            ],
            "text/html": [
              "\n",
              "  <div id=\"df-5579bf16-5054-44e7-b52e-904fd8e19ff8\">\n",
              "    <div class=\"colab-df-container\">\n",
              "      <div>\n",
              "<style scoped>\n",
              "    .dataframe tbody tr th:only-of-type {\n",
              "        vertical-align: middle;\n",
              "    }\n",
              "\n",
              "    .dataframe tbody tr th {\n",
              "        vertical-align: top;\n",
              "    }\n",
              "\n",
              "    .dataframe thead th {\n",
              "        text-align: right;\n",
              "    }\n",
              "</style>\n",
              "<table border=\"1\" class=\"dataframe\">\n",
              "  <thead>\n",
              "    <tr style=\"text-align: right;\">\n",
              "      <th></th>\n",
              "      <th>movieid</th>\n",
              "      <th>cast</th>\n",
              "      <th>director</th>\n",
              "      <th>writer</th>\n",
              "      <th>genres</th>\n",
              "      <th>movienm</th>\n",
              "    </tr>\n",
              "  </thead>\n",
              "  <tbody>\n",
              "    <tr>\n",
              "      <th>0</th>\n",
              "      <td>1</td>\n",
              "      <td>Tom Hanks,Tim Allen,Don Rickles,Jim Varney,Wal...</td>\n",
              "      <td>John Lasseter</td>\n",
              "      <td>NaN</td>\n",
              "      <td>Animation,Comedy,Family</td>\n",
              "      <td>Toy Story (1995)</td>\n",
              "    </tr>\n",
              "    <tr>\n",
              "      <th>5</th>\n",
              "      <td>2</td>\n",
              "      <td>Robin Williams,Jonathan Hyde,Kirsten Dunst,Bra...</td>\n",
              "      <td>Joe Johnston</td>\n",
              "      <td>NaN</td>\n",
              "      <td>Adventure,Fantasy,Family</td>\n",
              "      <td>Jumanji (1995)</td>\n",
              "    </tr>\n",
              "    <tr>\n",
              "      <th>8</th>\n",
              "      <td>3</td>\n",
              "      <td>Walter Matthau,Jack Lemmon,Ann-Margret,Sophia ...</td>\n",
              "      <td>Howard Deutch</td>\n",
              "      <td>Mark Steven Johnson</td>\n",
              "      <td>Romance,Comedy</td>\n",
              "      <td>Grumpier Old Men (1995)</td>\n",
              "    </tr>\n",
              "    <tr>\n",
              "      <th>10</th>\n",
              "      <td>4</td>\n",
              "      <td>Whitney Houston,Angela Bassett,Loretta Devine,...</td>\n",
              "      <td>Forest Whitaker</td>\n",
              "      <td>NaN</td>\n",
              "      <td>Comedy,Drama,Romance</td>\n",
              "      <td>Waiting to Exhale (1995)</td>\n",
              "    </tr>\n",
              "    <tr>\n",
              "      <th>13</th>\n",
              "      <td>5</td>\n",
              "      <td>Steve Martin,Diane Keaton,Martin Short,Kimberl...</td>\n",
              "      <td>Charles Shyer</td>\n",
              "      <td>NaN</td>\n",
              "      <td>Comedy</td>\n",
              "      <td>Father of the Bride Part II (1995)</td>\n",
              "    </tr>\n",
              "    <tr>\n",
              "      <th>...</th>\n",
              "      <td>...</td>\n",
              "      <td>...</td>\n",
              "      <td>...</td>\n",
              "      <td>...</td>\n",
              "      <td>...</td>\n",
              "      <td>...</td>\n",
              "    </tr>\n",
              "    <tr>\n",
              "      <th>21553</th>\n",
              "      <td>65088</td>\n",
              "      <td>Adam Sandler,Keri Russell,Guy Pearce,Courteney...</td>\n",
              "      <td>Adam Shankman</td>\n",
              "      <td>NaN</td>\n",
              "      <td>Fantasy,Comedy,Family,Romance</td>\n",
              "      <td>Bedtime Stories (2008)</td>\n",
              "    </tr>\n",
              "    <tr>\n",
              "      <th>21556</th>\n",
              "      <td>65091</td>\n",
              "      <td>Clark Gable,William Powell,Myrna Loy,Leo Carri...</td>\n",
              "      <td>W.S. Van Dyke</td>\n",
              "      <td>NaN</td>\n",
              "      <td>Crime,Drama,Romance</td>\n",
              "      <td>Manhattan Melodrama (1934)</td>\n",
              "    </tr>\n",
              "    <tr>\n",
              "      <th>21559</th>\n",
              "      <td>65126</td>\n",
              "      <td>Anjelica Huston,Kelly Macdonald,Sam Rockwell,C...</td>\n",
              "      <td>Clark Gregg</td>\n",
              "      <td>NaN</td>\n",
              "      <td>Comedy,Drama</td>\n",
              "      <td>Choke (2008)</td>\n",
              "    </tr>\n",
              "    <tr>\n",
              "      <th>21561</th>\n",
              "      <td>65130</td>\n",
              "      <td>Leonardo DiCaprio,Kate Winslet,Michael Shannon...</td>\n",
              "      <td>Sam Mendes</td>\n",
              "      <td>NaN</td>\n",
              "      <td>Drama,Romance</td>\n",
              "      <td>Revolutionary Road (2008)</td>\n",
              "    </tr>\n",
              "    <tr>\n",
              "      <th>21563</th>\n",
              "      <td>65133</td>\n",
              "      <td>Rowan Atkinson,Tony Robinson,Stephen Fry,Hugh ...</td>\n",
              "      <td>Paul Weiland</td>\n",
              "      <td>Richard Curtis,Ben Elton</td>\n",
              "      <td>Comedy,History</td>\n",
              "      <td>Blackadder Back &amp; Forth (1999)</td>\n",
              "    </tr>\n",
              "  </tbody>\n",
              "</table>\n",
              "<p>10681 rows × 6 columns</p>\n",
              "</div>\n",
              "      <button class=\"colab-df-convert\" onclick=\"convertToInteractive('df-5579bf16-5054-44e7-b52e-904fd8e19ff8')\"\n",
              "              title=\"Convert this dataframe to an interactive table.\"\n",
              "              style=\"display:none;\">\n",
              "        \n",
              "  <svg xmlns=\"http://www.w3.org/2000/svg\" height=\"24px\"viewBox=\"0 0 24 24\"\n",
              "       width=\"24px\">\n",
              "    <path d=\"M0 0h24v24H0V0z\" fill=\"none\"/>\n",
              "    <path d=\"M18.56 5.44l.94 2.06.94-2.06 2.06-.94-2.06-.94-.94-2.06-.94 2.06-2.06.94zm-11 1L8.5 8.5l.94-2.06 2.06-.94-2.06-.94L8.5 2.5l-.94 2.06-2.06.94zm10 10l.94 2.06.94-2.06 2.06-.94-2.06-.94-.94-2.06-.94 2.06-2.06.94z\"/><path d=\"M17.41 7.96l-1.37-1.37c-.4-.4-.92-.59-1.43-.59-.52 0-1.04.2-1.43.59L10.3 9.45l-7.72 7.72c-.78.78-.78 2.05 0 2.83L4 21.41c.39.39.9.59 1.41.59.51 0 1.02-.2 1.41-.59l7.78-7.78 2.81-2.81c.8-.78.8-2.07 0-2.86zM5.41 20L4 18.59l7.72-7.72 1.47 1.35L5.41 20z\"/>\n",
              "  </svg>\n",
              "      </button>\n",
              "      \n",
              "  <style>\n",
              "    .colab-df-container {\n",
              "      display:flex;\n",
              "      flex-wrap:wrap;\n",
              "      gap: 12px;\n",
              "    }\n",
              "\n",
              "    .colab-df-convert {\n",
              "      background-color: #E8F0FE;\n",
              "      border: none;\n",
              "      border-radius: 50%;\n",
              "      cursor: pointer;\n",
              "      display: none;\n",
              "      fill: #1967D2;\n",
              "      height: 32px;\n",
              "      padding: 0 0 0 0;\n",
              "      width: 32px;\n",
              "    }\n",
              "\n",
              "    .colab-df-convert:hover {\n",
              "      background-color: #E2EBFA;\n",
              "      box-shadow: 0px 1px 2px rgba(60, 64, 67, 0.3), 0px 1px 3px 1px rgba(60, 64, 67, 0.15);\n",
              "      fill: #174EA6;\n",
              "    }\n",
              "\n",
              "    [theme=dark] .colab-df-convert {\n",
              "      background-color: #3B4455;\n",
              "      fill: #D2E3FC;\n",
              "    }\n",
              "\n",
              "    [theme=dark] .colab-df-convert:hover {\n",
              "      background-color: #434B5C;\n",
              "      box-shadow: 0px 1px 3px 1px rgba(0, 0, 0, 0.15);\n",
              "      filter: drop-shadow(0px 1px 2px rgba(0, 0, 0, 0.3));\n",
              "      fill: #FFFFFF;\n",
              "    }\n",
              "  </style>\n",
              "\n",
              "      <script>\n",
              "        const buttonEl =\n",
              "          document.querySelector('#df-5579bf16-5054-44e7-b52e-904fd8e19ff8 button.colab-df-convert');\n",
              "        buttonEl.style.display =\n",
              "          google.colab.kernel.accessAllowed ? 'block' : 'none';\n",
              "\n",
              "        async function convertToInteractive(key) {\n",
              "          const element = document.querySelector('#df-5579bf16-5054-44e7-b52e-904fd8e19ff8');\n",
              "          const dataTable =\n",
              "            await google.colab.kernel.invokeFunction('convertToInteractive',\n",
              "                                                     [key], {});\n",
              "          if (!dataTable) return;\n",
              "\n",
              "          const docLinkHtml = 'Like what you see? Visit the ' +\n",
              "            '<a target=\"_blank\" href=https://colab.research.google.com/notebooks/data_table.ipynb>data table notebook</a>'\n",
              "            + ' to learn more about interactive tables.';\n",
              "          element.innerHTML = '';\n",
              "          dataTable['output_type'] = 'display_data';\n",
              "          await google.colab.output.renderOutput(dataTable, element);\n",
              "          const docLink = document.createElement('div');\n",
              "          docLink.innerHTML = docLinkHtml;\n",
              "          element.appendChild(docLink);\n",
              "        }\n",
              "      </script>\n",
              "    </div>\n",
              "  </div>\n",
              "  "
            ]
          },
          "metadata": {},
          "execution_count": 44
        }
      ]
    },
    {
      "cell_type": "code",
      "source": [
        "cb_data"
      ],
      "metadata": {
        "colab": {
          "base_uri": "https://localhost:8080/",
          "height": 424
        },
        "id": "U6EJoTtY_Ms6",
        "outputId": "709122af-0911-4606-9351-a5034ebdc442"
      },
      "execution_count": 45,
      "outputs": [
        {
          "output_type": "execute_result",
          "data": {
            "text/plain": [
              "         userid  movieid  rating   timestamp\n",
              "4221          0      581     3.0  1208670024\n",
              "4435          0     9753     5.0  1208669800\n",
              "4433          0     9435     2.0  1208669698\n",
              "4432          0     9392     5.0  1208669977\n",
              "4431          0     9391     0.5  1208669967\n",
              "...         ...      ...     ...         ...\n",
              "9994837    4047     6750     3.5  1196056220\n",
              "9994784    4047     5692     2.5  1185740704\n",
              "9994914    4047     9522     4.0  1196056504\n",
              "9994904    4047     9350     3.0  1181567074\n",
              "9994915    4047     9525     4.5  1196055499\n",
              "\n",
              "[410184 rows x 4 columns]"
            ],
            "text/html": [
              "\n",
              "  <div id=\"df-2d7134d8-d80f-4889-8d7c-eb25aaa1edc9\">\n",
              "    <div class=\"colab-df-container\">\n",
              "      <div>\n",
              "<style scoped>\n",
              "    .dataframe tbody tr th:only-of-type {\n",
              "        vertical-align: middle;\n",
              "    }\n",
              "\n",
              "    .dataframe tbody tr th {\n",
              "        vertical-align: top;\n",
              "    }\n",
              "\n",
              "    .dataframe thead th {\n",
              "        text-align: right;\n",
              "    }\n",
              "</style>\n",
              "<table border=\"1\" class=\"dataframe\">\n",
              "  <thead>\n",
              "    <tr style=\"text-align: right;\">\n",
              "      <th></th>\n",
              "      <th>userid</th>\n",
              "      <th>movieid</th>\n",
              "      <th>rating</th>\n",
              "      <th>timestamp</th>\n",
              "    </tr>\n",
              "  </thead>\n",
              "  <tbody>\n",
              "    <tr>\n",
              "      <th>4221</th>\n",
              "      <td>0</td>\n",
              "      <td>581</td>\n",
              "      <td>3.0</td>\n",
              "      <td>1208670024</td>\n",
              "    </tr>\n",
              "    <tr>\n",
              "      <th>4435</th>\n",
              "      <td>0</td>\n",
              "      <td>9753</td>\n",
              "      <td>5.0</td>\n",
              "      <td>1208669800</td>\n",
              "    </tr>\n",
              "    <tr>\n",
              "      <th>4433</th>\n",
              "      <td>0</td>\n",
              "      <td>9435</td>\n",
              "      <td>2.0</td>\n",
              "      <td>1208669698</td>\n",
              "    </tr>\n",
              "    <tr>\n",
              "      <th>4432</th>\n",
              "      <td>0</td>\n",
              "      <td>9392</td>\n",
              "      <td>5.0</td>\n",
              "      <td>1208669977</td>\n",
              "    </tr>\n",
              "    <tr>\n",
              "      <th>4431</th>\n",
              "      <td>0</td>\n",
              "      <td>9391</td>\n",
              "      <td>0.5</td>\n",
              "      <td>1208669967</td>\n",
              "    </tr>\n",
              "    <tr>\n",
              "      <th>...</th>\n",
              "      <td>...</td>\n",
              "      <td>...</td>\n",
              "      <td>...</td>\n",
              "      <td>...</td>\n",
              "    </tr>\n",
              "    <tr>\n",
              "      <th>9994837</th>\n",
              "      <td>4047</td>\n",
              "      <td>6750</td>\n",
              "      <td>3.5</td>\n",
              "      <td>1196056220</td>\n",
              "    </tr>\n",
              "    <tr>\n",
              "      <th>9994784</th>\n",
              "      <td>4047</td>\n",
              "      <td>5692</td>\n",
              "      <td>2.5</td>\n",
              "      <td>1185740704</td>\n",
              "    </tr>\n",
              "    <tr>\n",
              "      <th>9994914</th>\n",
              "      <td>4047</td>\n",
              "      <td>9522</td>\n",
              "      <td>4.0</td>\n",
              "      <td>1196056504</td>\n",
              "    </tr>\n",
              "    <tr>\n",
              "      <th>9994904</th>\n",
              "      <td>4047</td>\n",
              "      <td>9350</td>\n",
              "      <td>3.0</td>\n",
              "      <td>1181567074</td>\n",
              "    </tr>\n",
              "    <tr>\n",
              "      <th>9994915</th>\n",
              "      <td>4047</td>\n",
              "      <td>9525</td>\n",
              "      <td>4.5</td>\n",
              "      <td>1196055499</td>\n",
              "    </tr>\n",
              "  </tbody>\n",
              "</table>\n",
              "<p>410184 rows × 4 columns</p>\n",
              "</div>\n",
              "      <button class=\"colab-df-convert\" onclick=\"convertToInteractive('df-2d7134d8-d80f-4889-8d7c-eb25aaa1edc9')\"\n",
              "              title=\"Convert this dataframe to an interactive table.\"\n",
              "              style=\"display:none;\">\n",
              "        \n",
              "  <svg xmlns=\"http://www.w3.org/2000/svg\" height=\"24px\"viewBox=\"0 0 24 24\"\n",
              "       width=\"24px\">\n",
              "    <path d=\"M0 0h24v24H0V0z\" fill=\"none\"/>\n",
              "    <path d=\"M18.56 5.44l.94 2.06.94-2.06 2.06-.94-2.06-.94-.94-2.06-.94 2.06-2.06.94zm-11 1L8.5 8.5l.94-2.06 2.06-.94-2.06-.94L8.5 2.5l-.94 2.06-2.06.94zm10 10l.94 2.06.94-2.06 2.06-.94-2.06-.94-.94-2.06-.94 2.06-2.06.94z\"/><path d=\"M17.41 7.96l-1.37-1.37c-.4-.4-.92-.59-1.43-.59-.52 0-1.04.2-1.43.59L10.3 9.45l-7.72 7.72c-.78.78-.78 2.05 0 2.83L4 21.41c.39.39.9.59 1.41.59.51 0 1.02-.2 1.41-.59l7.78-7.78 2.81-2.81c.8-.78.8-2.07 0-2.86zM5.41 20L4 18.59l7.72-7.72 1.47 1.35L5.41 20z\"/>\n",
              "  </svg>\n",
              "      </button>\n",
              "      \n",
              "  <style>\n",
              "    .colab-df-container {\n",
              "      display:flex;\n",
              "      flex-wrap:wrap;\n",
              "      gap: 12px;\n",
              "    }\n",
              "\n",
              "    .colab-df-convert {\n",
              "      background-color: #E8F0FE;\n",
              "      border: none;\n",
              "      border-radius: 50%;\n",
              "      cursor: pointer;\n",
              "      display: none;\n",
              "      fill: #1967D2;\n",
              "      height: 32px;\n",
              "      padding: 0 0 0 0;\n",
              "      width: 32px;\n",
              "    }\n",
              "\n",
              "    .colab-df-convert:hover {\n",
              "      background-color: #E2EBFA;\n",
              "      box-shadow: 0px 1px 2px rgba(60, 64, 67, 0.3), 0px 1px 3px 1px rgba(60, 64, 67, 0.15);\n",
              "      fill: #174EA6;\n",
              "    }\n",
              "\n",
              "    [theme=dark] .colab-df-convert {\n",
              "      background-color: #3B4455;\n",
              "      fill: #D2E3FC;\n",
              "    }\n",
              "\n",
              "    [theme=dark] .colab-df-convert:hover {\n",
              "      background-color: #434B5C;\n",
              "      box-shadow: 0px 1px 3px 1px rgba(0, 0, 0, 0.15);\n",
              "      filter: drop-shadow(0px 1px 2px rgba(0, 0, 0, 0.3));\n",
              "      fill: #FFFFFF;\n",
              "    }\n",
              "  </style>\n",
              "\n",
              "      <script>\n",
              "        const buttonEl =\n",
              "          document.querySelector('#df-2d7134d8-d80f-4889-8d7c-eb25aaa1edc9 button.colab-df-convert');\n",
              "        buttonEl.style.display =\n",
              "          google.colab.kernel.accessAllowed ? 'block' : 'none';\n",
              "\n",
              "        async function convertToInteractive(key) {\n",
              "          const element = document.querySelector('#df-2d7134d8-d80f-4889-8d7c-eb25aaa1edc9');\n",
              "          const dataTable =\n",
              "            await google.colab.kernel.invokeFunction('convertToInteractive',\n",
              "                                                     [key], {});\n",
              "          if (!dataTable) return;\n",
              "\n",
              "          const docLinkHtml = 'Like what you see? Visit the ' +\n",
              "            '<a target=\"_blank\" href=https://colab.research.google.com/notebooks/data_table.ipynb>data table notebook</a>'\n",
              "            + ' to learn more about interactive tables.';\n",
              "          element.innerHTML = '';\n",
              "          dataTable['output_type'] = 'display_data';\n",
              "          await google.colab.output.renderOutput(dataTable, element);\n",
              "          const docLink = document.createElement('div');\n",
              "          docLink.innerHTML = docLinkHtml;\n",
              "          element.appendChild(docLink);\n",
              "        }\n",
              "      </script>\n",
              "    </div>\n",
              "  </div>\n",
              "  "
            ]
          },
          "metadata": {},
          "execution_count": 45
        }
      ]
    },
    {
      "cell_type": "code",
      "source": [
        "recs_for_cb = pd.DataFrame()\n",
        "recs_for_cb['userid'] = np.repeat(np.sort(cb_data['userid'].unique()), 200) # [i for i in range(cb_data.userid.nunique()) for j in range(200)]\n",
        "recs_for_cb['movieid'] = topn_recommendations(cb_svd_recs, topn=200).reshape(-1)\n",
        "recs_for_cb['movie_rank'] = np.tile(np.arange(200), cb_data['userid'].nunique())"
      ],
      "metadata": {
        "id": "RM9bqIAb3hl6"
      },
      "execution_count": 46,
      "outputs": []
    },
    {
      "cell_type": "code",
      "source": [
        ""
      ],
      "metadata": {
        "id": "z1i_zIg2CQV8"
      },
      "execution_count": 46,
      "outputs": []
    },
    {
      "cell_type": "code",
      "source": [
        "cb_data_recs = pd.merge(cb_data, recs_for_cb,\n",
        "                        on=['userid', 'movieid'], how='right')"
      ],
      "metadata": {
        "id": "WwYP2p1C6RoM"
      },
      "execution_count": 47,
      "outputs": []
    },
    {
      "cell_type": "code",
      "source": [
        "cb_data_recs.shape"
      ],
      "metadata": {
        "colab": {
          "base_uri": "https://localhost:8080/"
        },
        "id": "G-8zIrhCE_Z0",
        "outputId": "be62221c-b8d5-41ba-a7ad-856e00d6bc02"
      },
      "execution_count": 48,
      "outputs": [
        {
          "output_type": "execute_result",
          "data": {
            "text/plain": [
              "(809600, 5)"
            ]
          },
          "metadata": {},
          "execution_count": 48
        }
      ]
    },
    {
      "cell_type": "code",
      "source": [
        "cb_data_recs['target'] = 0\n",
        "cb_data_recs['target'] += (~cb_data_recs['rating'].isna())"
      ],
      "metadata": {
        "id": "Oh_Kypql2Fm6"
      },
      "execution_count": 49,
      "outputs": []
    },
    {
      "cell_type": "code",
      "source": [
        "cb_data_recs"
      ],
      "metadata": {
        "colab": {
          "base_uri": "https://localhost:8080/",
          "height": 424
        },
        "id": "CN3VueNj1uqR",
        "outputId": "68e512b9-cca8-4da3-f2d8-00f413047cc8"
      },
      "execution_count": 50,
      "outputs": [
        {
          "output_type": "execute_result",
          "data": {
            "text/plain": [
              "        userid  movieid  rating     timestamp  movie_rank  target\n",
              "0            0     1661     3.0  1.208670e+09           0       1\n",
              "1            0      640     3.0  1.208670e+09           1       1\n",
              "2            0      724     NaN           NaN           2       0\n",
              "3            0      581     3.0  1.208670e+09           3       1\n",
              "4            0      591     NaN           NaN           4       0\n",
              "...        ...      ...     ...           ...         ...     ...\n",
              "809595    4047     6262     NaN           NaN         195       0\n",
              "809596    4047     6673     NaN           NaN         196       0\n",
              "809597    4047     6413     NaN           NaN         197       0\n",
              "809598    4047      290     NaN           NaN         198       0\n",
              "809599    4047     7910     NaN           NaN         199       0\n",
              "\n",
              "[809600 rows x 6 columns]"
            ],
            "text/html": [
              "\n",
              "  <div id=\"df-1f805700-95fc-4083-b797-81044c95d7df\">\n",
              "    <div class=\"colab-df-container\">\n",
              "      <div>\n",
              "<style scoped>\n",
              "    .dataframe tbody tr th:only-of-type {\n",
              "        vertical-align: middle;\n",
              "    }\n",
              "\n",
              "    .dataframe tbody tr th {\n",
              "        vertical-align: top;\n",
              "    }\n",
              "\n",
              "    .dataframe thead th {\n",
              "        text-align: right;\n",
              "    }\n",
              "</style>\n",
              "<table border=\"1\" class=\"dataframe\">\n",
              "  <thead>\n",
              "    <tr style=\"text-align: right;\">\n",
              "      <th></th>\n",
              "      <th>userid</th>\n",
              "      <th>movieid</th>\n",
              "      <th>rating</th>\n",
              "      <th>timestamp</th>\n",
              "      <th>movie_rank</th>\n",
              "      <th>target</th>\n",
              "    </tr>\n",
              "  </thead>\n",
              "  <tbody>\n",
              "    <tr>\n",
              "      <th>0</th>\n",
              "      <td>0</td>\n",
              "      <td>1661</td>\n",
              "      <td>3.0</td>\n",
              "      <td>1.208670e+09</td>\n",
              "      <td>0</td>\n",
              "      <td>1</td>\n",
              "    </tr>\n",
              "    <tr>\n",
              "      <th>1</th>\n",
              "      <td>0</td>\n",
              "      <td>640</td>\n",
              "      <td>3.0</td>\n",
              "      <td>1.208670e+09</td>\n",
              "      <td>1</td>\n",
              "      <td>1</td>\n",
              "    </tr>\n",
              "    <tr>\n",
              "      <th>2</th>\n",
              "      <td>0</td>\n",
              "      <td>724</td>\n",
              "      <td>NaN</td>\n",
              "      <td>NaN</td>\n",
              "      <td>2</td>\n",
              "      <td>0</td>\n",
              "    </tr>\n",
              "    <tr>\n",
              "      <th>3</th>\n",
              "      <td>0</td>\n",
              "      <td>581</td>\n",
              "      <td>3.0</td>\n",
              "      <td>1.208670e+09</td>\n",
              "      <td>3</td>\n",
              "      <td>1</td>\n",
              "    </tr>\n",
              "    <tr>\n",
              "      <th>4</th>\n",
              "      <td>0</td>\n",
              "      <td>591</td>\n",
              "      <td>NaN</td>\n",
              "      <td>NaN</td>\n",
              "      <td>4</td>\n",
              "      <td>0</td>\n",
              "    </tr>\n",
              "    <tr>\n",
              "      <th>...</th>\n",
              "      <td>...</td>\n",
              "      <td>...</td>\n",
              "      <td>...</td>\n",
              "      <td>...</td>\n",
              "      <td>...</td>\n",
              "      <td>...</td>\n",
              "    </tr>\n",
              "    <tr>\n",
              "      <th>809595</th>\n",
              "      <td>4047</td>\n",
              "      <td>6262</td>\n",
              "      <td>NaN</td>\n",
              "      <td>NaN</td>\n",
              "      <td>195</td>\n",
              "      <td>0</td>\n",
              "    </tr>\n",
              "    <tr>\n",
              "      <th>809596</th>\n",
              "      <td>4047</td>\n",
              "      <td>6673</td>\n",
              "      <td>NaN</td>\n",
              "      <td>NaN</td>\n",
              "      <td>196</td>\n",
              "      <td>0</td>\n",
              "    </tr>\n",
              "    <tr>\n",
              "      <th>809597</th>\n",
              "      <td>4047</td>\n",
              "      <td>6413</td>\n",
              "      <td>NaN</td>\n",
              "      <td>NaN</td>\n",
              "      <td>197</td>\n",
              "      <td>0</td>\n",
              "    </tr>\n",
              "    <tr>\n",
              "      <th>809598</th>\n",
              "      <td>4047</td>\n",
              "      <td>290</td>\n",
              "      <td>NaN</td>\n",
              "      <td>NaN</td>\n",
              "      <td>198</td>\n",
              "      <td>0</td>\n",
              "    </tr>\n",
              "    <tr>\n",
              "      <th>809599</th>\n",
              "      <td>4047</td>\n",
              "      <td>7910</td>\n",
              "      <td>NaN</td>\n",
              "      <td>NaN</td>\n",
              "      <td>199</td>\n",
              "      <td>0</td>\n",
              "    </tr>\n",
              "  </tbody>\n",
              "</table>\n",
              "<p>809600 rows × 6 columns</p>\n",
              "</div>\n",
              "      <button class=\"colab-df-convert\" onclick=\"convertToInteractive('df-1f805700-95fc-4083-b797-81044c95d7df')\"\n",
              "              title=\"Convert this dataframe to an interactive table.\"\n",
              "              style=\"display:none;\">\n",
              "        \n",
              "  <svg xmlns=\"http://www.w3.org/2000/svg\" height=\"24px\"viewBox=\"0 0 24 24\"\n",
              "       width=\"24px\">\n",
              "    <path d=\"M0 0h24v24H0V0z\" fill=\"none\"/>\n",
              "    <path d=\"M18.56 5.44l.94 2.06.94-2.06 2.06-.94-2.06-.94-.94-2.06-.94 2.06-2.06.94zm-11 1L8.5 8.5l.94-2.06 2.06-.94-2.06-.94L8.5 2.5l-.94 2.06-2.06.94zm10 10l.94 2.06.94-2.06 2.06-.94-2.06-.94-.94-2.06-.94 2.06-2.06.94z\"/><path d=\"M17.41 7.96l-1.37-1.37c-.4-.4-.92-.59-1.43-.59-.52 0-1.04.2-1.43.59L10.3 9.45l-7.72 7.72c-.78.78-.78 2.05 0 2.83L4 21.41c.39.39.9.59 1.41.59.51 0 1.02-.2 1.41-.59l7.78-7.78 2.81-2.81c.8-.78.8-2.07 0-2.86zM5.41 20L4 18.59l7.72-7.72 1.47 1.35L5.41 20z\"/>\n",
              "  </svg>\n",
              "      </button>\n",
              "      \n",
              "  <style>\n",
              "    .colab-df-container {\n",
              "      display:flex;\n",
              "      flex-wrap:wrap;\n",
              "      gap: 12px;\n",
              "    }\n",
              "\n",
              "    .colab-df-convert {\n",
              "      background-color: #E8F0FE;\n",
              "      border: none;\n",
              "      border-radius: 50%;\n",
              "      cursor: pointer;\n",
              "      display: none;\n",
              "      fill: #1967D2;\n",
              "      height: 32px;\n",
              "      padding: 0 0 0 0;\n",
              "      width: 32px;\n",
              "    }\n",
              "\n",
              "    .colab-df-convert:hover {\n",
              "      background-color: #E2EBFA;\n",
              "      box-shadow: 0px 1px 2px rgba(60, 64, 67, 0.3), 0px 1px 3px 1px rgba(60, 64, 67, 0.15);\n",
              "      fill: #174EA6;\n",
              "    }\n",
              "\n",
              "    [theme=dark] .colab-df-convert {\n",
              "      background-color: #3B4455;\n",
              "      fill: #D2E3FC;\n",
              "    }\n",
              "\n",
              "    [theme=dark] .colab-df-convert:hover {\n",
              "      background-color: #434B5C;\n",
              "      box-shadow: 0px 1px 3px 1px rgba(0, 0, 0, 0.15);\n",
              "      filter: drop-shadow(0px 1px 2px rgba(0, 0, 0, 0.3));\n",
              "      fill: #FFFFFF;\n",
              "    }\n",
              "  </style>\n",
              "\n",
              "      <script>\n",
              "        const buttonEl =\n",
              "          document.querySelector('#df-1f805700-95fc-4083-b797-81044c95d7df button.colab-df-convert');\n",
              "        buttonEl.style.display =\n",
              "          google.colab.kernel.accessAllowed ? 'block' : 'none';\n",
              "\n",
              "        async function convertToInteractive(key) {\n",
              "          const element = document.querySelector('#df-1f805700-95fc-4083-b797-81044c95d7df');\n",
              "          const dataTable =\n",
              "            await google.colab.kernel.invokeFunction('convertToInteractive',\n",
              "                                                     [key], {});\n",
              "          if (!dataTable) return;\n",
              "\n",
              "          const docLinkHtml = 'Like what you see? Visit the ' +\n",
              "            '<a target=\"_blank\" href=https://colab.research.google.com/notebooks/data_table.ipynb>data table notebook</a>'\n",
              "            + ' to learn more about interactive tables.';\n",
              "          element.innerHTML = '';\n",
              "          dataTable['output_type'] = 'display_data';\n",
              "          await google.colab.output.renderOutput(dataTable, element);\n",
              "          const docLink = document.createElement('div');\n",
              "          docLink.innerHTML = docLinkHtml;\n",
              "          element.appendChild(docLink);\n",
              "        }\n",
              "      </script>\n",
              "    </div>\n",
              "  </div>\n",
              "  "
            ]
          },
          "metadata": {},
          "execution_count": 50
        }
      ]
    },
    {
      "cell_type": "code",
      "source": [
        "mldata[mldata.movieid == 9753]"
      ],
      "metadata": {
        "colab": {
          "base_uri": "https://localhost:8080/",
          "height": 49
        },
        "id": "nw83K4S18kCK",
        "outputId": "42304bea-a858-43c2-bbf0-0520fb766e4d"
      },
      "execution_count": 51,
      "outputs": [
        {
          "output_type": "execute_result",
          "data": {
            "text/plain": [
              "Empty DataFrame\n",
              "Columns: [userid, movieid, rating, timestamp]\n",
              "Index: []"
            ],
            "text/html": [
              "\n",
              "  <div id=\"df-b9cf9def-a8c2-4aaf-ae0b-4885ad9262c4\">\n",
              "    <div class=\"colab-df-container\">\n",
              "      <div>\n",
              "<style scoped>\n",
              "    .dataframe tbody tr th:only-of-type {\n",
              "        vertical-align: middle;\n",
              "    }\n",
              "\n",
              "    .dataframe tbody tr th {\n",
              "        vertical-align: top;\n",
              "    }\n",
              "\n",
              "    .dataframe thead th {\n",
              "        text-align: right;\n",
              "    }\n",
              "</style>\n",
              "<table border=\"1\" class=\"dataframe\">\n",
              "  <thead>\n",
              "    <tr style=\"text-align: right;\">\n",
              "      <th></th>\n",
              "      <th>userid</th>\n",
              "      <th>movieid</th>\n",
              "      <th>rating</th>\n",
              "      <th>timestamp</th>\n",
              "    </tr>\n",
              "  </thead>\n",
              "  <tbody>\n",
              "  </tbody>\n",
              "</table>\n",
              "</div>\n",
              "      <button class=\"colab-df-convert\" onclick=\"convertToInteractive('df-b9cf9def-a8c2-4aaf-ae0b-4885ad9262c4')\"\n",
              "              title=\"Convert this dataframe to an interactive table.\"\n",
              "              style=\"display:none;\">\n",
              "        \n",
              "  <svg xmlns=\"http://www.w3.org/2000/svg\" height=\"24px\"viewBox=\"0 0 24 24\"\n",
              "       width=\"24px\">\n",
              "    <path d=\"M0 0h24v24H0V0z\" fill=\"none\"/>\n",
              "    <path d=\"M18.56 5.44l.94 2.06.94-2.06 2.06-.94-2.06-.94-.94-2.06-.94 2.06-2.06.94zm-11 1L8.5 8.5l.94-2.06 2.06-.94-2.06-.94L8.5 2.5l-.94 2.06-2.06.94zm10 10l.94 2.06.94-2.06 2.06-.94-2.06-.94-.94-2.06-.94 2.06-2.06.94z\"/><path d=\"M17.41 7.96l-1.37-1.37c-.4-.4-.92-.59-1.43-.59-.52 0-1.04.2-1.43.59L10.3 9.45l-7.72 7.72c-.78.78-.78 2.05 0 2.83L4 21.41c.39.39.9.59 1.41.59.51 0 1.02-.2 1.41-.59l7.78-7.78 2.81-2.81c.8-.78.8-2.07 0-2.86zM5.41 20L4 18.59l7.72-7.72 1.47 1.35L5.41 20z\"/>\n",
              "  </svg>\n",
              "      </button>\n",
              "      \n",
              "  <style>\n",
              "    .colab-df-container {\n",
              "      display:flex;\n",
              "      flex-wrap:wrap;\n",
              "      gap: 12px;\n",
              "    }\n",
              "\n",
              "    .colab-df-convert {\n",
              "      background-color: #E8F0FE;\n",
              "      border: none;\n",
              "      border-radius: 50%;\n",
              "      cursor: pointer;\n",
              "      display: none;\n",
              "      fill: #1967D2;\n",
              "      height: 32px;\n",
              "      padding: 0 0 0 0;\n",
              "      width: 32px;\n",
              "    }\n",
              "\n",
              "    .colab-df-convert:hover {\n",
              "      background-color: #E2EBFA;\n",
              "      box-shadow: 0px 1px 2px rgba(60, 64, 67, 0.3), 0px 1px 3px 1px rgba(60, 64, 67, 0.15);\n",
              "      fill: #174EA6;\n",
              "    }\n",
              "\n",
              "    [theme=dark] .colab-df-convert {\n",
              "      background-color: #3B4455;\n",
              "      fill: #D2E3FC;\n",
              "    }\n",
              "\n",
              "    [theme=dark] .colab-df-convert:hover {\n",
              "      background-color: #434B5C;\n",
              "      box-shadow: 0px 1px 3px 1px rgba(0, 0, 0, 0.15);\n",
              "      filter: drop-shadow(0px 1px 2px rgba(0, 0, 0, 0.3));\n",
              "      fill: #FFFFFF;\n",
              "    }\n",
              "  </style>\n",
              "\n",
              "      <script>\n",
              "        const buttonEl =\n",
              "          document.querySelector('#df-b9cf9def-a8c2-4aaf-ae0b-4885ad9262c4 button.colab-df-convert');\n",
              "        buttonEl.style.display =\n",
              "          google.colab.kernel.accessAllowed ? 'block' : 'none';\n",
              "\n",
              "        async function convertToInteractive(key) {\n",
              "          const element = document.querySelector('#df-b9cf9def-a8c2-4aaf-ae0b-4885ad9262c4');\n",
              "          const dataTable =\n",
              "            await google.colab.kernel.invokeFunction('convertToInteractive',\n",
              "                                                     [key], {});\n",
              "          if (!dataTable) return;\n",
              "\n",
              "          const docLinkHtml = 'Like what you see? Visit the ' +\n",
              "            '<a target=\"_blank\" href=https://colab.research.google.com/notebooks/data_table.ipynb>data table notebook</a>'\n",
              "            + ' to learn more about interactive tables.';\n",
              "          element.innerHTML = '';\n",
              "          dataTable['output_type'] = 'display_data';\n",
              "          await google.colab.output.renderOutput(dataTable, element);\n",
              "          const docLink = document.createElement('div');\n",
              "          docLink.innerHTML = docLinkHtml;\n",
              "          element.appendChild(docLink);\n",
              "        }\n",
              "      </script>\n",
              "    </div>\n",
              "  </div>\n",
              "  "
            ]
          },
          "metadata": {},
          "execution_count": 51
        }
      ]
    },
    {
      "cell_type": "code",
      "source": [
        "pd.merge(cb_data_recs.drop(['rating'], axis=1), \n",
        "         training[['movieid', 'rating']].drop_duplicates('movieid'),\n",
        "         on='movieid', how='left').isnull().sum()"
      ],
      "metadata": {
        "colab": {
          "base_uri": "https://localhost:8080/"
        },
        "id": "gVKki9vw7VRN",
        "outputId": "2372a3dd-b7d1-4caf-fcfd-f5b20017a710"
      },
      "execution_count": 52,
      "outputs": [
        {
          "output_type": "execute_result",
          "data": {
            "text/plain": [
              "userid             0\n",
              "movieid            0\n",
              "timestamp     612392\n",
              "movie_rank         0\n",
              "target             0\n",
              "rating             0\n",
              "dtype: int64"
            ]
          },
          "metadata": {},
          "execution_count": 52
        }
      ]
    },
    {
      "cell_type": "code",
      "source": [
        "cb_data_recs"
      ],
      "metadata": {
        "colab": {
          "base_uri": "https://localhost:8080/",
          "height": 424
        },
        "id": "WFPk4Zvh7T-b",
        "outputId": "75202bef-f318-407d-9761-cd69c7b29a81"
      },
      "execution_count": 53,
      "outputs": [
        {
          "output_type": "execute_result",
          "data": {
            "text/plain": [
              "        userid  movieid  rating     timestamp  movie_rank  target\n",
              "0            0     1661     3.0  1.208670e+09           0       1\n",
              "1            0      640     3.0  1.208670e+09           1       1\n",
              "2            0      724     NaN           NaN           2       0\n",
              "3            0      581     3.0  1.208670e+09           3       1\n",
              "4            0      591     NaN           NaN           4       0\n",
              "...        ...      ...     ...           ...         ...     ...\n",
              "809595    4047     6262     NaN           NaN         195       0\n",
              "809596    4047     6673     NaN           NaN         196       0\n",
              "809597    4047     6413     NaN           NaN         197       0\n",
              "809598    4047      290     NaN           NaN         198       0\n",
              "809599    4047     7910     NaN           NaN         199       0\n",
              "\n",
              "[809600 rows x 6 columns]"
            ],
            "text/html": [
              "\n",
              "  <div id=\"df-e2f7fad1-16bc-457b-9f31-7b2cbf173ab4\">\n",
              "    <div class=\"colab-df-container\">\n",
              "      <div>\n",
              "<style scoped>\n",
              "    .dataframe tbody tr th:only-of-type {\n",
              "        vertical-align: middle;\n",
              "    }\n",
              "\n",
              "    .dataframe tbody tr th {\n",
              "        vertical-align: top;\n",
              "    }\n",
              "\n",
              "    .dataframe thead th {\n",
              "        text-align: right;\n",
              "    }\n",
              "</style>\n",
              "<table border=\"1\" class=\"dataframe\">\n",
              "  <thead>\n",
              "    <tr style=\"text-align: right;\">\n",
              "      <th></th>\n",
              "      <th>userid</th>\n",
              "      <th>movieid</th>\n",
              "      <th>rating</th>\n",
              "      <th>timestamp</th>\n",
              "      <th>movie_rank</th>\n",
              "      <th>target</th>\n",
              "    </tr>\n",
              "  </thead>\n",
              "  <tbody>\n",
              "    <tr>\n",
              "      <th>0</th>\n",
              "      <td>0</td>\n",
              "      <td>1661</td>\n",
              "      <td>3.0</td>\n",
              "      <td>1.208670e+09</td>\n",
              "      <td>0</td>\n",
              "      <td>1</td>\n",
              "    </tr>\n",
              "    <tr>\n",
              "      <th>1</th>\n",
              "      <td>0</td>\n",
              "      <td>640</td>\n",
              "      <td>3.0</td>\n",
              "      <td>1.208670e+09</td>\n",
              "      <td>1</td>\n",
              "      <td>1</td>\n",
              "    </tr>\n",
              "    <tr>\n",
              "      <th>2</th>\n",
              "      <td>0</td>\n",
              "      <td>724</td>\n",
              "      <td>NaN</td>\n",
              "      <td>NaN</td>\n",
              "      <td>2</td>\n",
              "      <td>0</td>\n",
              "    </tr>\n",
              "    <tr>\n",
              "      <th>3</th>\n",
              "      <td>0</td>\n",
              "      <td>581</td>\n",
              "      <td>3.0</td>\n",
              "      <td>1.208670e+09</td>\n",
              "      <td>3</td>\n",
              "      <td>1</td>\n",
              "    </tr>\n",
              "    <tr>\n",
              "      <th>4</th>\n",
              "      <td>0</td>\n",
              "      <td>591</td>\n",
              "      <td>NaN</td>\n",
              "      <td>NaN</td>\n",
              "      <td>4</td>\n",
              "      <td>0</td>\n",
              "    </tr>\n",
              "    <tr>\n",
              "      <th>...</th>\n",
              "      <td>...</td>\n",
              "      <td>...</td>\n",
              "      <td>...</td>\n",
              "      <td>...</td>\n",
              "      <td>...</td>\n",
              "      <td>...</td>\n",
              "    </tr>\n",
              "    <tr>\n",
              "      <th>809595</th>\n",
              "      <td>4047</td>\n",
              "      <td>6262</td>\n",
              "      <td>NaN</td>\n",
              "      <td>NaN</td>\n",
              "      <td>195</td>\n",
              "      <td>0</td>\n",
              "    </tr>\n",
              "    <tr>\n",
              "      <th>809596</th>\n",
              "      <td>4047</td>\n",
              "      <td>6673</td>\n",
              "      <td>NaN</td>\n",
              "      <td>NaN</td>\n",
              "      <td>196</td>\n",
              "      <td>0</td>\n",
              "    </tr>\n",
              "    <tr>\n",
              "      <th>809597</th>\n",
              "      <td>4047</td>\n",
              "      <td>6413</td>\n",
              "      <td>NaN</td>\n",
              "      <td>NaN</td>\n",
              "      <td>197</td>\n",
              "      <td>0</td>\n",
              "    </tr>\n",
              "    <tr>\n",
              "      <th>809598</th>\n",
              "      <td>4047</td>\n",
              "      <td>290</td>\n",
              "      <td>NaN</td>\n",
              "      <td>NaN</td>\n",
              "      <td>198</td>\n",
              "      <td>0</td>\n",
              "    </tr>\n",
              "    <tr>\n",
              "      <th>809599</th>\n",
              "      <td>4047</td>\n",
              "      <td>7910</td>\n",
              "      <td>NaN</td>\n",
              "      <td>NaN</td>\n",
              "      <td>199</td>\n",
              "      <td>0</td>\n",
              "    </tr>\n",
              "  </tbody>\n",
              "</table>\n",
              "<p>809600 rows × 6 columns</p>\n",
              "</div>\n",
              "      <button class=\"colab-df-convert\" onclick=\"convertToInteractive('df-e2f7fad1-16bc-457b-9f31-7b2cbf173ab4')\"\n",
              "              title=\"Convert this dataframe to an interactive table.\"\n",
              "              style=\"display:none;\">\n",
              "        \n",
              "  <svg xmlns=\"http://www.w3.org/2000/svg\" height=\"24px\"viewBox=\"0 0 24 24\"\n",
              "       width=\"24px\">\n",
              "    <path d=\"M0 0h24v24H0V0z\" fill=\"none\"/>\n",
              "    <path d=\"M18.56 5.44l.94 2.06.94-2.06 2.06-.94-2.06-.94-.94-2.06-.94 2.06-2.06.94zm-11 1L8.5 8.5l.94-2.06 2.06-.94-2.06-.94L8.5 2.5l-.94 2.06-2.06.94zm10 10l.94 2.06.94-2.06 2.06-.94-2.06-.94-.94-2.06-.94 2.06-2.06.94z\"/><path d=\"M17.41 7.96l-1.37-1.37c-.4-.4-.92-.59-1.43-.59-.52 0-1.04.2-1.43.59L10.3 9.45l-7.72 7.72c-.78.78-.78 2.05 0 2.83L4 21.41c.39.39.9.59 1.41.59.51 0 1.02-.2 1.41-.59l7.78-7.78 2.81-2.81c.8-.78.8-2.07 0-2.86zM5.41 20L4 18.59l7.72-7.72 1.47 1.35L5.41 20z\"/>\n",
              "  </svg>\n",
              "      </button>\n",
              "      \n",
              "  <style>\n",
              "    .colab-df-container {\n",
              "      display:flex;\n",
              "      flex-wrap:wrap;\n",
              "      gap: 12px;\n",
              "    }\n",
              "\n",
              "    .colab-df-convert {\n",
              "      background-color: #E8F0FE;\n",
              "      border: none;\n",
              "      border-radius: 50%;\n",
              "      cursor: pointer;\n",
              "      display: none;\n",
              "      fill: #1967D2;\n",
              "      height: 32px;\n",
              "      padding: 0 0 0 0;\n",
              "      width: 32px;\n",
              "    }\n",
              "\n",
              "    .colab-df-convert:hover {\n",
              "      background-color: #E2EBFA;\n",
              "      box-shadow: 0px 1px 2px rgba(60, 64, 67, 0.3), 0px 1px 3px 1px rgba(60, 64, 67, 0.15);\n",
              "      fill: #174EA6;\n",
              "    }\n",
              "\n",
              "    [theme=dark] .colab-df-convert {\n",
              "      background-color: #3B4455;\n",
              "      fill: #D2E3FC;\n",
              "    }\n",
              "\n",
              "    [theme=dark] .colab-df-convert:hover {\n",
              "      background-color: #434B5C;\n",
              "      box-shadow: 0px 1px 3px 1px rgba(0, 0, 0, 0.15);\n",
              "      filter: drop-shadow(0px 1px 2px rgba(0, 0, 0, 0.3));\n",
              "      fill: #FFFFFF;\n",
              "    }\n",
              "  </style>\n",
              "\n",
              "      <script>\n",
              "        const buttonEl =\n",
              "          document.querySelector('#df-e2f7fad1-16bc-457b-9f31-7b2cbf173ab4 button.colab-df-convert');\n",
              "        buttonEl.style.display =\n",
              "          google.colab.kernel.accessAllowed ? 'block' : 'none';\n",
              "\n",
              "        async function convertToInteractive(key) {\n",
              "          const element = document.querySelector('#df-e2f7fad1-16bc-457b-9f31-7b2cbf173ab4');\n",
              "          const dataTable =\n",
              "            await google.colab.kernel.invokeFunction('convertToInteractive',\n",
              "                                                     [key], {});\n",
              "          if (!dataTable) return;\n",
              "\n",
              "          const docLinkHtml = 'Like what you see? Visit the ' +\n",
              "            '<a target=\"_blank\" href=https://colab.research.google.com/notebooks/data_table.ipynb>data table notebook</a>'\n",
              "            + ' to learn more about interactive tables.';\n",
              "          element.innerHTML = '';\n",
              "          dataTable['output_type'] = 'display_data';\n",
              "          await google.colab.output.renderOutput(dataTable, element);\n",
              "          const docLink = document.createElement('div');\n",
              "          docLink.innerHTML = docLinkHtml;\n",
              "          element.appendChild(docLink);\n",
              "        }\n",
              "      </script>\n",
              "    </div>\n",
              "  </div>\n",
              "  "
            ]
          },
          "metadata": {},
          "execution_count": 53
        }
      ]
    },
    {
      "cell_type": "code",
      "source": [
        "cb_data_recs.sample(frac=1)"
      ],
      "metadata": {
        "colab": {
          "base_uri": "https://localhost:8080/",
          "height": 424
        },
        "id": "658oM0HmxYgJ",
        "outputId": "1338d41a-a0d9-4af9-bd3e-4c53d8ad6f1d"
      },
      "execution_count": 54,
      "outputs": [
        {
          "output_type": "execute_result",
          "data": {
            "text/plain": [
              "        userid  movieid  rating     timestamp  movie_rank  target\n",
              "612627    3063      376     3.0  1.208820e+09          27       1\n",
              "93206      466      148     NaN           NaN           6       0\n",
              "443345    2216     5514     NaN           NaN         145       0\n",
              "773781    3868      467     NaN           NaN         181       0\n",
              "126448     632     1067     5.0  1.206534e+09          48       1\n",
              "...        ...      ...     ...           ...         ...     ...\n",
              "545126    2725     1023     NaN           NaN         126       0\n",
              "100401     502      843     3.5  1.187033e+09           1       1\n",
              "119151     595      582     NaN           NaN         151       0\n",
              "632993    3164     1112     NaN           NaN         193       0\n",
              "611897    3059     2418     NaN           NaN          97       0\n",
              "\n",
              "[809600 rows x 6 columns]"
            ],
            "text/html": [
              "\n",
              "  <div id=\"df-1cffeffc-af2f-4abb-91d7-07a02c8a46e4\">\n",
              "    <div class=\"colab-df-container\">\n",
              "      <div>\n",
              "<style scoped>\n",
              "    .dataframe tbody tr th:only-of-type {\n",
              "        vertical-align: middle;\n",
              "    }\n",
              "\n",
              "    .dataframe tbody tr th {\n",
              "        vertical-align: top;\n",
              "    }\n",
              "\n",
              "    .dataframe thead th {\n",
              "        text-align: right;\n",
              "    }\n",
              "</style>\n",
              "<table border=\"1\" class=\"dataframe\">\n",
              "  <thead>\n",
              "    <tr style=\"text-align: right;\">\n",
              "      <th></th>\n",
              "      <th>userid</th>\n",
              "      <th>movieid</th>\n",
              "      <th>rating</th>\n",
              "      <th>timestamp</th>\n",
              "      <th>movie_rank</th>\n",
              "      <th>target</th>\n",
              "    </tr>\n",
              "  </thead>\n",
              "  <tbody>\n",
              "    <tr>\n",
              "      <th>612627</th>\n",
              "      <td>3063</td>\n",
              "      <td>376</td>\n",
              "      <td>3.0</td>\n",
              "      <td>1.208820e+09</td>\n",
              "      <td>27</td>\n",
              "      <td>1</td>\n",
              "    </tr>\n",
              "    <tr>\n",
              "      <th>93206</th>\n",
              "      <td>466</td>\n",
              "      <td>148</td>\n",
              "      <td>NaN</td>\n",
              "      <td>NaN</td>\n",
              "      <td>6</td>\n",
              "      <td>0</td>\n",
              "    </tr>\n",
              "    <tr>\n",
              "      <th>443345</th>\n",
              "      <td>2216</td>\n",
              "      <td>5514</td>\n",
              "      <td>NaN</td>\n",
              "      <td>NaN</td>\n",
              "      <td>145</td>\n",
              "      <td>0</td>\n",
              "    </tr>\n",
              "    <tr>\n",
              "      <th>773781</th>\n",
              "      <td>3868</td>\n",
              "      <td>467</td>\n",
              "      <td>NaN</td>\n",
              "      <td>NaN</td>\n",
              "      <td>181</td>\n",
              "      <td>0</td>\n",
              "    </tr>\n",
              "    <tr>\n",
              "      <th>126448</th>\n",
              "      <td>632</td>\n",
              "      <td>1067</td>\n",
              "      <td>5.0</td>\n",
              "      <td>1.206534e+09</td>\n",
              "      <td>48</td>\n",
              "      <td>1</td>\n",
              "    </tr>\n",
              "    <tr>\n",
              "      <th>...</th>\n",
              "      <td>...</td>\n",
              "      <td>...</td>\n",
              "      <td>...</td>\n",
              "      <td>...</td>\n",
              "      <td>...</td>\n",
              "      <td>...</td>\n",
              "    </tr>\n",
              "    <tr>\n",
              "      <th>545126</th>\n",
              "      <td>2725</td>\n",
              "      <td>1023</td>\n",
              "      <td>NaN</td>\n",
              "      <td>NaN</td>\n",
              "      <td>126</td>\n",
              "      <td>0</td>\n",
              "    </tr>\n",
              "    <tr>\n",
              "      <th>100401</th>\n",
              "      <td>502</td>\n",
              "      <td>843</td>\n",
              "      <td>3.5</td>\n",
              "      <td>1.187033e+09</td>\n",
              "      <td>1</td>\n",
              "      <td>1</td>\n",
              "    </tr>\n",
              "    <tr>\n",
              "      <th>119151</th>\n",
              "      <td>595</td>\n",
              "      <td>582</td>\n",
              "      <td>NaN</td>\n",
              "      <td>NaN</td>\n",
              "      <td>151</td>\n",
              "      <td>0</td>\n",
              "    </tr>\n",
              "    <tr>\n",
              "      <th>632993</th>\n",
              "      <td>3164</td>\n",
              "      <td>1112</td>\n",
              "      <td>NaN</td>\n",
              "      <td>NaN</td>\n",
              "      <td>193</td>\n",
              "      <td>0</td>\n",
              "    </tr>\n",
              "    <tr>\n",
              "      <th>611897</th>\n",
              "      <td>3059</td>\n",
              "      <td>2418</td>\n",
              "      <td>NaN</td>\n",
              "      <td>NaN</td>\n",
              "      <td>97</td>\n",
              "      <td>0</td>\n",
              "    </tr>\n",
              "  </tbody>\n",
              "</table>\n",
              "<p>809600 rows × 6 columns</p>\n",
              "</div>\n",
              "      <button class=\"colab-df-convert\" onclick=\"convertToInteractive('df-1cffeffc-af2f-4abb-91d7-07a02c8a46e4')\"\n",
              "              title=\"Convert this dataframe to an interactive table.\"\n",
              "              style=\"display:none;\">\n",
              "        \n",
              "  <svg xmlns=\"http://www.w3.org/2000/svg\" height=\"24px\"viewBox=\"0 0 24 24\"\n",
              "       width=\"24px\">\n",
              "    <path d=\"M0 0h24v24H0V0z\" fill=\"none\"/>\n",
              "    <path d=\"M18.56 5.44l.94 2.06.94-2.06 2.06-.94-2.06-.94-.94-2.06-.94 2.06-2.06.94zm-11 1L8.5 8.5l.94-2.06 2.06-.94-2.06-.94L8.5 2.5l-.94 2.06-2.06.94zm10 10l.94 2.06.94-2.06 2.06-.94-2.06-.94-.94-2.06-.94 2.06-2.06.94z\"/><path d=\"M17.41 7.96l-1.37-1.37c-.4-.4-.92-.59-1.43-.59-.52 0-1.04.2-1.43.59L10.3 9.45l-7.72 7.72c-.78.78-.78 2.05 0 2.83L4 21.41c.39.39.9.59 1.41.59.51 0 1.02-.2 1.41-.59l7.78-7.78 2.81-2.81c.8-.78.8-2.07 0-2.86zM5.41 20L4 18.59l7.72-7.72 1.47 1.35L5.41 20z\"/>\n",
              "  </svg>\n",
              "      </button>\n",
              "      \n",
              "  <style>\n",
              "    .colab-df-container {\n",
              "      display:flex;\n",
              "      flex-wrap:wrap;\n",
              "      gap: 12px;\n",
              "    }\n",
              "\n",
              "    .colab-df-convert {\n",
              "      background-color: #E8F0FE;\n",
              "      border: none;\n",
              "      border-radius: 50%;\n",
              "      cursor: pointer;\n",
              "      display: none;\n",
              "      fill: #1967D2;\n",
              "      height: 32px;\n",
              "      padding: 0 0 0 0;\n",
              "      width: 32px;\n",
              "    }\n",
              "\n",
              "    .colab-df-convert:hover {\n",
              "      background-color: #E2EBFA;\n",
              "      box-shadow: 0px 1px 2px rgba(60, 64, 67, 0.3), 0px 1px 3px 1px rgba(60, 64, 67, 0.15);\n",
              "      fill: #174EA6;\n",
              "    }\n",
              "\n",
              "    [theme=dark] .colab-df-convert {\n",
              "      background-color: #3B4455;\n",
              "      fill: #D2E3FC;\n",
              "    }\n",
              "\n",
              "    [theme=dark] .colab-df-convert:hover {\n",
              "      background-color: #434B5C;\n",
              "      box-shadow: 0px 1px 3px 1px rgba(0, 0, 0, 0.15);\n",
              "      filter: drop-shadow(0px 1px 2px rgba(0, 0, 0, 0.3));\n",
              "      fill: #FFFFFF;\n",
              "    }\n",
              "  </style>\n",
              "\n",
              "      <script>\n",
              "        const buttonEl =\n",
              "          document.querySelector('#df-1cffeffc-af2f-4abb-91d7-07a02c8a46e4 button.colab-df-convert');\n",
              "        buttonEl.style.display =\n",
              "          google.colab.kernel.accessAllowed ? 'block' : 'none';\n",
              "\n",
              "        async function convertToInteractive(key) {\n",
              "          const element = document.querySelector('#df-1cffeffc-af2f-4abb-91d7-07a02c8a46e4');\n",
              "          const dataTable =\n",
              "            await google.colab.kernel.invokeFunction('convertToInteractive',\n",
              "                                                     [key], {});\n",
              "          if (!dataTable) return;\n",
              "\n",
              "          const docLinkHtml = 'Like what you see? Visit the ' +\n",
              "            '<a target=\"_blank\" href=https://colab.research.google.com/notebooks/data_table.ipynb>data table notebook</a>'\n",
              "            + ' to learn more about interactive tables.';\n",
              "          element.innerHTML = '';\n",
              "          dataTable['output_type'] = 'display_data';\n",
              "          await google.colab.output.renderOutput(dataTable, element);\n",
              "          const docLink = document.createElement('div');\n",
              "          docLink.innerHTML = docLinkHtml;\n",
              "          element.appendChild(docLink);\n",
              "        }\n",
              "      </script>\n",
              "    </div>\n",
              "  </div>\n",
              "  "
            ]
          },
          "metadata": {},
          "execution_count": 54
        }
      ]
    },
    {
      "cell_type": "code",
      "source": [
        "metadata"
      ],
      "metadata": {
        "colab": {
          "base_uri": "https://localhost:8080/",
          "height": 641
        },
        "id": "mCcMJgPZ6Cp6",
        "outputId": "d884f7aa-84a6-45a2-e329-f18d235ec126"
      },
      "execution_count": 55,
      "outputs": [
        {
          "output_type": "execute_result",
          "data": {
            "text/plain": [
              "       movieid                                               cast  \\\n",
              "0            1  Tom Hanks,Tim Allen,Don Rickles,Jim Varney,Wal...   \n",
              "5            2  Robin Williams,Jonathan Hyde,Kirsten Dunst,Bra...   \n",
              "8            3  Walter Matthau,Jack Lemmon,Ann-Margret,Sophia ...   \n",
              "10           4  Whitney Houston,Angela Bassett,Loretta Devine,...   \n",
              "13           5  Steve Martin,Diane Keaton,Martin Short,Kimberl...   \n",
              "...        ...                                                ...   \n",
              "21553    65088  Adam Sandler,Keri Russell,Guy Pearce,Courteney...   \n",
              "21556    65091  Clark Gable,William Powell,Myrna Loy,Leo Carri...   \n",
              "21559    65126  Anjelica Huston,Kelly Macdonald,Sam Rockwell,C...   \n",
              "21561    65130  Leonardo DiCaprio,Kate Winslet,Michael Shannon...   \n",
              "21563    65133  Rowan Atkinson,Tony Robinson,Stephen Fry,Hugh ...   \n",
              "\n",
              "              director                    writer  \\\n",
              "0        John Lasseter                       NaN   \n",
              "5         Joe Johnston                       NaN   \n",
              "8        Howard Deutch       Mark Steven Johnson   \n",
              "10     Forest Whitaker                       NaN   \n",
              "13       Charles Shyer                       NaN   \n",
              "...                ...                       ...   \n",
              "21553    Adam Shankman                       NaN   \n",
              "21556    W.S. Van Dyke                       NaN   \n",
              "21559      Clark Gregg                       NaN   \n",
              "21561       Sam Mendes                       NaN   \n",
              "21563     Paul Weiland  Richard Curtis,Ben Elton   \n",
              "\n",
              "                              genres                             movienm  \n",
              "0            Animation,Comedy,Family                    Toy Story (1995)  \n",
              "5           Adventure,Fantasy,Family                      Jumanji (1995)  \n",
              "8                     Romance,Comedy             Grumpier Old Men (1995)  \n",
              "10              Comedy,Drama,Romance            Waiting to Exhale (1995)  \n",
              "13                            Comedy  Father of the Bride Part II (1995)  \n",
              "...                              ...                                 ...  \n",
              "21553  Fantasy,Comedy,Family,Romance              Bedtime Stories (2008)  \n",
              "21556            Crime,Drama,Romance          Manhattan Melodrama (1934)  \n",
              "21559                   Comedy,Drama                        Choke (2008)  \n",
              "21561                  Drama,Romance           Revolutionary Road (2008)  \n",
              "21563                 Comedy,History      Blackadder Back & Forth (1999)  \n",
              "\n",
              "[10681 rows x 6 columns]"
            ],
            "text/html": [
              "\n",
              "  <div id=\"df-44c433c3-d952-4439-9a8a-d5ab92dadfc4\">\n",
              "    <div class=\"colab-df-container\">\n",
              "      <div>\n",
              "<style scoped>\n",
              "    .dataframe tbody tr th:only-of-type {\n",
              "        vertical-align: middle;\n",
              "    }\n",
              "\n",
              "    .dataframe tbody tr th {\n",
              "        vertical-align: top;\n",
              "    }\n",
              "\n",
              "    .dataframe thead th {\n",
              "        text-align: right;\n",
              "    }\n",
              "</style>\n",
              "<table border=\"1\" class=\"dataframe\">\n",
              "  <thead>\n",
              "    <tr style=\"text-align: right;\">\n",
              "      <th></th>\n",
              "      <th>movieid</th>\n",
              "      <th>cast</th>\n",
              "      <th>director</th>\n",
              "      <th>writer</th>\n",
              "      <th>genres</th>\n",
              "      <th>movienm</th>\n",
              "    </tr>\n",
              "  </thead>\n",
              "  <tbody>\n",
              "    <tr>\n",
              "      <th>0</th>\n",
              "      <td>1</td>\n",
              "      <td>Tom Hanks,Tim Allen,Don Rickles,Jim Varney,Wal...</td>\n",
              "      <td>John Lasseter</td>\n",
              "      <td>NaN</td>\n",
              "      <td>Animation,Comedy,Family</td>\n",
              "      <td>Toy Story (1995)</td>\n",
              "    </tr>\n",
              "    <tr>\n",
              "      <th>5</th>\n",
              "      <td>2</td>\n",
              "      <td>Robin Williams,Jonathan Hyde,Kirsten Dunst,Bra...</td>\n",
              "      <td>Joe Johnston</td>\n",
              "      <td>NaN</td>\n",
              "      <td>Adventure,Fantasy,Family</td>\n",
              "      <td>Jumanji (1995)</td>\n",
              "    </tr>\n",
              "    <tr>\n",
              "      <th>8</th>\n",
              "      <td>3</td>\n",
              "      <td>Walter Matthau,Jack Lemmon,Ann-Margret,Sophia ...</td>\n",
              "      <td>Howard Deutch</td>\n",
              "      <td>Mark Steven Johnson</td>\n",
              "      <td>Romance,Comedy</td>\n",
              "      <td>Grumpier Old Men (1995)</td>\n",
              "    </tr>\n",
              "    <tr>\n",
              "      <th>10</th>\n",
              "      <td>4</td>\n",
              "      <td>Whitney Houston,Angela Bassett,Loretta Devine,...</td>\n",
              "      <td>Forest Whitaker</td>\n",
              "      <td>NaN</td>\n",
              "      <td>Comedy,Drama,Romance</td>\n",
              "      <td>Waiting to Exhale (1995)</td>\n",
              "    </tr>\n",
              "    <tr>\n",
              "      <th>13</th>\n",
              "      <td>5</td>\n",
              "      <td>Steve Martin,Diane Keaton,Martin Short,Kimberl...</td>\n",
              "      <td>Charles Shyer</td>\n",
              "      <td>NaN</td>\n",
              "      <td>Comedy</td>\n",
              "      <td>Father of the Bride Part II (1995)</td>\n",
              "    </tr>\n",
              "    <tr>\n",
              "      <th>...</th>\n",
              "      <td>...</td>\n",
              "      <td>...</td>\n",
              "      <td>...</td>\n",
              "      <td>...</td>\n",
              "      <td>...</td>\n",
              "      <td>...</td>\n",
              "    </tr>\n",
              "    <tr>\n",
              "      <th>21553</th>\n",
              "      <td>65088</td>\n",
              "      <td>Adam Sandler,Keri Russell,Guy Pearce,Courteney...</td>\n",
              "      <td>Adam Shankman</td>\n",
              "      <td>NaN</td>\n",
              "      <td>Fantasy,Comedy,Family,Romance</td>\n",
              "      <td>Bedtime Stories (2008)</td>\n",
              "    </tr>\n",
              "    <tr>\n",
              "      <th>21556</th>\n",
              "      <td>65091</td>\n",
              "      <td>Clark Gable,William Powell,Myrna Loy,Leo Carri...</td>\n",
              "      <td>W.S. Van Dyke</td>\n",
              "      <td>NaN</td>\n",
              "      <td>Crime,Drama,Romance</td>\n",
              "      <td>Manhattan Melodrama (1934)</td>\n",
              "    </tr>\n",
              "    <tr>\n",
              "      <th>21559</th>\n",
              "      <td>65126</td>\n",
              "      <td>Anjelica Huston,Kelly Macdonald,Sam Rockwell,C...</td>\n",
              "      <td>Clark Gregg</td>\n",
              "      <td>NaN</td>\n",
              "      <td>Comedy,Drama</td>\n",
              "      <td>Choke (2008)</td>\n",
              "    </tr>\n",
              "    <tr>\n",
              "      <th>21561</th>\n",
              "      <td>65130</td>\n",
              "      <td>Leonardo DiCaprio,Kate Winslet,Michael Shannon...</td>\n",
              "      <td>Sam Mendes</td>\n",
              "      <td>NaN</td>\n",
              "      <td>Drama,Romance</td>\n",
              "      <td>Revolutionary Road (2008)</td>\n",
              "    </tr>\n",
              "    <tr>\n",
              "      <th>21563</th>\n",
              "      <td>65133</td>\n",
              "      <td>Rowan Atkinson,Tony Robinson,Stephen Fry,Hugh ...</td>\n",
              "      <td>Paul Weiland</td>\n",
              "      <td>Richard Curtis,Ben Elton</td>\n",
              "      <td>Comedy,History</td>\n",
              "      <td>Blackadder Back &amp; Forth (1999)</td>\n",
              "    </tr>\n",
              "  </tbody>\n",
              "</table>\n",
              "<p>10681 rows × 6 columns</p>\n",
              "</div>\n",
              "      <button class=\"colab-df-convert\" onclick=\"convertToInteractive('df-44c433c3-d952-4439-9a8a-d5ab92dadfc4')\"\n",
              "              title=\"Convert this dataframe to an interactive table.\"\n",
              "              style=\"display:none;\">\n",
              "        \n",
              "  <svg xmlns=\"http://www.w3.org/2000/svg\" height=\"24px\"viewBox=\"0 0 24 24\"\n",
              "       width=\"24px\">\n",
              "    <path d=\"M0 0h24v24H0V0z\" fill=\"none\"/>\n",
              "    <path d=\"M18.56 5.44l.94 2.06.94-2.06 2.06-.94-2.06-.94-.94-2.06-.94 2.06-2.06.94zm-11 1L8.5 8.5l.94-2.06 2.06-.94-2.06-.94L8.5 2.5l-.94 2.06-2.06.94zm10 10l.94 2.06.94-2.06 2.06-.94-2.06-.94-.94-2.06-.94 2.06-2.06.94z\"/><path d=\"M17.41 7.96l-1.37-1.37c-.4-.4-.92-.59-1.43-.59-.52 0-1.04.2-1.43.59L10.3 9.45l-7.72 7.72c-.78.78-.78 2.05 0 2.83L4 21.41c.39.39.9.59 1.41.59.51 0 1.02-.2 1.41-.59l7.78-7.78 2.81-2.81c.8-.78.8-2.07 0-2.86zM5.41 20L4 18.59l7.72-7.72 1.47 1.35L5.41 20z\"/>\n",
              "  </svg>\n",
              "      </button>\n",
              "      \n",
              "  <style>\n",
              "    .colab-df-container {\n",
              "      display:flex;\n",
              "      flex-wrap:wrap;\n",
              "      gap: 12px;\n",
              "    }\n",
              "\n",
              "    .colab-df-convert {\n",
              "      background-color: #E8F0FE;\n",
              "      border: none;\n",
              "      border-radius: 50%;\n",
              "      cursor: pointer;\n",
              "      display: none;\n",
              "      fill: #1967D2;\n",
              "      height: 32px;\n",
              "      padding: 0 0 0 0;\n",
              "      width: 32px;\n",
              "    }\n",
              "\n",
              "    .colab-df-convert:hover {\n",
              "      background-color: #E2EBFA;\n",
              "      box-shadow: 0px 1px 2px rgba(60, 64, 67, 0.3), 0px 1px 3px 1px rgba(60, 64, 67, 0.15);\n",
              "      fill: #174EA6;\n",
              "    }\n",
              "\n",
              "    [theme=dark] .colab-df-convert {\n",
              "      background-color: #3B4455;\n",
              "      fill: #D2E3FC;\n",
              "    }\n",
              "\n",
              "    [theme=dark] .colab-df-convert:hover {\n",
              "      background-color: #434B5C;\n",
              "      box-shadow: 0px 1px 3px 1px rgba(0, 0, 0, 0.15);\n",
              "      filter: drop-shadow(0px 1px 2px rgba(0, 0, 0, 0.3));\n",
              "      fill: #FFFFFF;\n",
              "    }\n",
              "  </style>\n",
              "\n",
              "      <script>\n",
              "        const buttonEl =\n",
              "          document.querySelector('#df-44c433c3-d952-4439-9a8a-d5ab92dadfc4 button.colab-df-convert');\n",
              "        buttonEl.style.display =\n",
              "          google.colab.kernel.accessAllowed ? 'block' : 'none';\n",
              "\n",
              "        async function convertToInteractive(key) {\n",
              "          const element = document.querySelector('#df-44c433c3-d952-4439-9a8a-d5ab92dadfc4');\n",
              "          const dataTable =\n",
              "            await google.colab.kernel.invokeFunction('convertToInteractive',\n",
              "                                                     [key], {});\n",
              "          if (!dataTable) return;\n",
              "\n",
              "          const docLinkHtml = 'Like what you see? Visit the ' +\n",
              "            '<a target=\"_blank\" href=https://colab.research.google.com/notebooks/data_table.ipynb>data table notebook</a>'\n",
              "            + ' to learn more about interactive tables.';\n",
              "          element.innerHTML = '';\n",
              "          dataTable['output_type'] = 'display_data';\n",
              "          await google.colab.output.renderOutput(dataTable, element);\n",
              "          const docLink = document.createElement('div');\n",
              "          docLink.innerHTML = docLinkHtml;\n",
              "          element.appendChild(docLink);\n",
              "        }\n",
              "      </script>\n",
              "    </div>\n",
              "  </div>\n",
              "  "
            ]
          },
          "metadata": {},
          "execution_count": 55
        }
      ]
    },
    {
      "cell_type": "code",
      "source": [
        "mldata.nunique()"
      ],
      "metadata": {
        "colab": {
          "base_uri": "https://localhost:8080/"
        },
        "id": "0stKp7Au6Dc8",
        "outputId": "1cf7c4f6-8dc8-4915-d9c6-50aeebf16f98"
      },
      "execution_count": 56,
      "outputs": [
        {
          "output_type": "execute_result",
          "data": {
            "text/plain": [
              "userid         69878\n",
              "movieid        10677\n",
              "rating            10\n",
              "timestamp    7096905\n",
              "dtype: int64"
            ]
          },
          "metadata": {},
          "execution_count": 56
        }
      ]
    },
    {
      "cell_type": "code",
      "source": [
        ""
      ],
      "metadata": {
        "id": "u_IwOtFL6Dgf"
      },
      "execution_count": 56,
      "outputs": []
    },
    {
      "cell_type": "code",
      "source": [
        "genres"
      ],
      "metadata": {
        "colab": {
          "base_uri": "https://localhost:8080/",
          "height": 424
        },
        "id": "GfcsINhY6Dls",
        "outputId": "e1ad0d8c-d557-4a1b-e574-51216b68682c"
      },
      "execution_count": 57,
      "outputs": [
        {
          "output_type": "execute_result",
          "data": {
            "text/plain": [
              "       movieid                         movienm    genreid\n",
              "0            1                Toy Story (1995)  Adventure\n",
              "1            1                Toy Story (1995)  Animation\n",
              "2            1                Toy Story (1995)   Children\n",
              "3            1                Toy Story (1995)     Comedy\n",
              "4            1                Toy Story (1995)    Fantasy\n",
              "...        ...                             ...        ...\n",
              "21559    65126                    Choke (2008)     Comedy\n",
              "21560    65126                    Choke (2008)      Drama\n",
              "21561    65130       Revolutionary Road (2008)      Drama\n",
              "21562    65130       Revolutionary Road (2008)    Romance\n",
              "21563    65133  Blackadder Back & Forth (1999)     Comedy\n",
              "\n",
              "[21564 rows x 3 columns]"
            ],
            "text/html": [
              "\n",
              "  <div id=\"df-b898aaaa-e1ee-41ec-83c5-bf2794777666\">\n",
              "    <div class=\"colab-df-container\">\n",
              "      <div>\n",
              "<style scoped>\n",
              "    .dataframe tbody tr th:only-of-type {\n",
              "        vertical-align: middle;\n",
              "    }\n",
              "\n",
              "    .dataframe tbody tr th {\n",
              "        vertical-align: top;\n",
              "    }\n",
              "\n",
              "    .dataframe thead th {\n",
              "        text-align: right;\n",
              "    }\n",
              "</style>\n",
              "<table border=\"1\" class=\"dataframe\">\n",
              "  <thead>\n",
              "    <tr style=\"text-align: right;\">\n",
              "      <th></th>\n",
              "      <th>movieid</th>\n",
              "      <th>movienm</th>\n",
              "      <th>genreid</th>\n",
              "    </tr>\n",
              "  </thead>\n",
              "  <tbody>\n",
              "    <tr>\n",
              "      <th>0</th>\n",
              "      <td>1</td>\n",
              "      <td>Toy Story (1995)</td>\n",
              "      <td>Adventure</td>\n",
              "    </tr>\n",
              "    <tr>\n",
              "      <th>1</th>\n",
              "      <td>1</td>\n",
              "      <td>Toy Story (1995)</td>\n",
              "      <td>Animation</td>\n",
              "    </tr>\n",
              "    <tr>\n",
              "      <th>2</th>\n",
              "      <td>1</td>\n",
              "      <td>Toy Story (1995)</td>\n",
              "      <td>Children</td>\n",
              "    </tr>\n",
              "    <tr>\n",
              "      <th>3</th>\n",
              "      <td>1</td>\n",
              "      <td>Toy Story (1995)</td>\n",
              "      <td>Comedy</td>\n",
              "    </tr>\n",
              "    <tr>\n",
              "      <th>4</th>\n",
              "      <td>1</td>\n",
              "      <td>Toy Story (1995)</td>\n",
              "      <td>Fantasy</td>\n",
              "    </tr>\n",
              "    <tr>\n",
              "      <th>...</th>\n",
              "      <td>...</td>\n",
              "      <td>...</td>\n",
              "      <td>...</td>\n",
              "    </tr>\n",
              "    <tr>\n",
              "      <th>21559</th>\n",
              "      <td>65126</td>\n",
              "      <td>Choke (2008)</td>\n",
              "      <td>Comedy</td>\n",
              "    </tr>\n",
              "    <tr>\n",
              "      <th>21560</th>\n",
              "      <td>65126</td>\n",
              "      <td>Choke (2008)</td>\n",
              "      <td>Drama</td>\n",
              "    </tr>\n",
              "    <tr>\n",
              "      <th>21561</th>\n",
              "      <td>65130</td>\n",
              "      <td>Revolutionary Road (2008)</td>\n",
              "      <td>Drama</td>\n",
              "    </tr>\n",
              "    <tr>\n",
              "      <th>21562</th>\n",
              "      <td>65130</td>\n",
              "      <td>Revolutionary Road (2008)</td>\n",
              "      <td>Romance</td>\n",
              "    </tr>\n",
              "    <tr>\n",
              "      <th>21563</th>\n",
              "      <td>65133</td>\n",
              "      <td>Blackadder Back &amp; Forth (1999)</td>\n",
              "      <td>Comedy</td>\n",
              "    </tr>\n",
              "  </tbody>\n",
              "</table>\n",
              "<p>21564 rows × 3 columns</p>\n",
              "</div>\n",
              "      <button class=\"colab-df-convert\" onclick=\"convertToInteractive('df-b898aaaa-e1ee-41ec-83c5-bf2794777666')\"\n",
              "              title=\"Convert this dataframe to an interactive table.\"\n",
              "              style=\"display:none;\">\n",
              "        \n",
              "  <svg xmlns=\"http://www.w3.org/2000/svg\" height=\"24px\"viewBox=\"0 0 24 24\"\n",
              "       width=\"24px\">\n",
              "    <path d=\"M0 0h24v24H0V0z\" fill=\"none\"/>\n",
              "    <path d=\"M18.56 5.44l.94 2.06.94-2.06 2.06-.94-2.06-.94-.94-2.06-.94 2.06-2.06.94zm-11 1L8.5 8.5l.94-2.06 2.06-.94-2.06-.94L8.5 2.5l-.94 2.06-2.06.94zm10 10l.94 2.06.94-2.06 2.06-.94-2.06-.94-.94-2.06-.94 2.06-2.06.94z\"/><path d=\"M17.41 7.96l-1.37-1.37c-.4-.4-.92-.59-1.43-.59-.52 0-1.04.2-1.43.59L10.3 9.45l-7.72 7.72c-.78.78-.78 2.05 0 2.83L4 21.41c.39.39.9.59 1.41.59.51 0 1.02-.2 1.41-.59l7.78-7.78 2.81-2.81c.8-.78.8-2.07 0-2.86zM5.41 20L4 18.59l7.72-7.72 1.47 1.35L5.41 20z\"/>\n",
              "  </svg>\n",
              "      </button>\n",
              "      \n",
              "  <style>\n",
              "    .colab-df-container {\n",
              "      display:flex;\n",
              "      flex-wrap:wrap;\n",
              "      gap: 12px;\n",
              "    }\n",
              "\n",
              "    .colab-df-convert {\n",
              "      background-color: #E8F0FE;\n",
              "      border: none;\n",
              "      border-radius: 50%;\n",
              "      cursor: pointer;\n",
              "      display: none;\n",
              "      fill: #1967D2;\n",
              "      height: 32px;\n",
              "      padding: 0 0 0 0;\n",
              "      width: 32px;\n",
              "    }\n",
              "\n",
              "    .colab-df-convert:hover {\n",
              "      background-color: #E2EBFA;\n",
              "      box-shadow: 0px 1px 2px rgba(60, 64, 67, 0.3), 0px 1px 3px 1px rgba(60, 64, 67, 0.15);\n",
              "      fill: #174EA6;\n",
              "    }\n",
              "\n",
              "    [theme=dark] .colab-df-convert {\n",
              "      background-color: #3B4455;\n",
              "      fill: #D2E3FC;\n",
              "    }\n",
              "\n",
              "    [theme=dark] .colab-df-convert:hover {\n",
              "      background-color: #434B5C;\n",
              "      box-shadow: 0px 1px 3px 1px rgba(0, 0, 0, 0.15);\n",
              "      filter: drop-shadow(0px 1px 2px rgba(0, 0, 0, 0.3));\n",
              "      fill: #FFFFFF;\n",
              "    }\n",
              "  </style>\n",
              "\n",
              "      <script>\n",
              "        const buttonEl =\n",
              "          document.querySelector('#df-b898aaaa-e1ee-41ec-83c5-bf2794777666 button.colab-df-convert');\n",
              "        buttonEl.style.display =\n",
              "          google.colab.kernel.accessAllowed ? 'block' : 'none';\n",
              "\n",
              "        async function convertToInteractive(key) {\n",
              "          const element = document.querySelector('#df-b898aaaa-e1ee-41ec-83c5-bf2794777666');\n",
              "          const dataTable =\n",
              "            await google.colab.kernel.invokeFunction('convertToInteractive',\n",
              "                                                     [key], {});\n",
              "          if (!dataTable) return;\n",
              "\n",
              "          const docLinkHtml = 'Like what you see? Visit the ' +\n",
              "            '<a target=\"_blank\" href=https://colab.research.google.com/notebooks/data_table.ipynb>data table notebook</a>'\n",
              "            + ' to learn more about interactive tables.';\n",
              "          element.innerHTML = '';\n",
              "          dataTable['output_type'] = 'display_data';\n",
              "          await google.colab.output.renderOutput(dataTable, element);\n",
              "          const docLink = document.createElement('div');\n",
              "          docLink.innerHTML = docLinkHtml;\n",
              "          element.appendChild(docLink);\n",
              "        }\n",
              "      </script>\n",
              "    </div>\n",
              "  </div>\n",
              "  "
            ]
          },
          "metadata": {},
          "execution_count": 57
        }
      ]
    },
    {
      "cell_type": "code",
      "source": [
        ""
      ],
      "metadata": {
        "id": "wmKEIIUU6Dqp"
      },
      "execution_count": 57,
      "outputs": []
    },
    {
      "cell_type": "code",
      "source": [
        "cb_data_recs"
      ],
      "metadata": {
        "colab": {
          "base_uri": "https://localhost:8080/",
          "height": 424
        },
        "id": "oh3jshU7Blur",
        "outputId": "cd4d0e56-05c8-447d-fc38-390dc448ad07"
      },
      "execution_count": 58,
      "outputs": [
        {
          "output_type": "execute_result",
          "data": {
            "text/plain": [
              "        userid  movieid  rating     timestamp  movie_rank  target\n",
              "0            0     1661     3.0  1.208670e+09           0       1\n",
              "1            0      640     3.0  1.208670e+09           1       1\n",
              "2            0      724     NaN           NaN           2       0\n",
              "3            0      581     3.0  1.208670e+09           3       1\n",
              "4            0      591     NaN           NaN           4       0\n",
              "...        ...      ...     ...           ...         ...     ...\n",
              "809595    4047     6262     NaN           NaN         195       0\n",
              "809596    4047     6673     NaN           NaN         196       0\n",
              "809597    4047     6413     NaN           NaN         197       0\n",
              "809598    4047      290     NaN           NaN         198       0\n",
              "809599    4047     7910     NaN           NaN         199       0\n",
              "\n",
              "[809600 rows x 6 columns]"
            ],
            "text/html": [
              "\n",
              "  <div id=\"df-8b665058-1ae9-452d-a475-11a7dfe21065\">\n",
              "    <div class=\"colab-df-container\">\n",
              "      <div>\n",
              "<style scoped>\n",
              "    .dataframe tbody tr th:only-of-type {\n",
              "        vertical-align: middle;\n",
              "    }\n",
              "\n",
              "    .dataframe tbody tr th {\n",
              "        vertical-align: top;\n",
              "    }\n",
              "\n",
              "    .dataframe thead th {\n",
              "        text-align: right;\n",
              "    }\n",
              "</style>\n",
              "<table border=\"1\" class=\"dataframe\">\n",
              "  <thead>\n",
              "    <tr style=\"text-align: right;\">\n",
              "      <th></th>\n",
              "      <th>userid</th>\n",
              "      <th>movieid</th>\n",
              "      <th>rating</th>\n",
              "      <th>timestamp</th>\n",
              "      <th>movie_rank</th>\n",
              "      <th>target</th>\n",
              "    </tr>\n",
              "  </thead>\n",
              "  <tbody>\n",
              "    <tr>\n",
              "      <th>0</th>\n",
              "      <td>0</td>\n",
              "      <td>1661</td>\n",
              "      <td>3.0</td>\n",
              "      <td>1.208670e+09</td>\n",
              "      <td>0</td>\n",
              "      <td>1</td>\n",
              "    </tr>\n",
              "    <tr>\n",
              "      <th>1</th>\n",
              "      <td>0</td>\n",
              "      <td>640</td>\n",
              "      <td>3.0</td>\n",
              "      <td>1.208670e+09</td>\n",
              "      <td>1</td>\n",
              "      <td>1</td>\n",
              "    </tr>\n",
              "    <tr>\n",
              "      <th>2</th>\n",
              "      <td>0</td>\n",
              "      <td>724</td>\n",
              "      <td>NaN</td>\n",
              "      <td>NaN</td>\n",
              "      <td>2</td>\n",
              "      <td>0</td>\n",
              "    </tr>\n",
              "    <tr>\n",
              "      <th>3</th>\n",
              "      <td>0</td>\n",
              "      <td>581</td>\n",
              "      <td>3.0</td>\n",
              "      <td>1.208670e+09</td>\n",
              "      <td>3</td>\n",
              "      <td>1</td>\n",
              "    </tr>\n",
              "    <tr>\n",
              "      <th>4</th>\n",
              "      <td>0</td>\n",
              "      <td>591</td>\n",
              "      <td>NaN</td>\n",
              "      <td>NaN</td>\n",
              "      <td>4</td>\n",
              "      <td>0</td>\n",
              "    </tr>\n",
              "    <tr>\n",
              "      <th>...</th>\n",
              "      <td>...</td>\n",
              "      <td>...</td>\n",
              "      <td>...</td>\n",
              "      <td>...</td>\n",
              "      <td>...</td>\n",
              "      <td>...</td>\n",
              "    </tr>\n",
              "    <tr>\n",
              "      <th>809595</th>\n",
              "      <td>4047</td>\n",
              "      <td>6262</td>\n",
              "      <td>NaN</td>\n",
              "      <td>NaN</td>\n",
              "      <td>195</td>\n",
              "      <td>0</td>\n",
              "    </tr>\n",
              "    <tr>\n",
              "      <th>809596</th>\n",
              "      <td>4047</td>\n",
              "      <td>6673</td>\n",
              "      <td>NaN</td>\n",
              "      <td>NaN</td>\n",
              "      <td>196</td>\n",
              "      <td>0</td>\n",
              "    </tr>\n",
              "    <tr>\n",
              "      <th>809597</th>\n",
              "      <td>4047</td>\n",
              "      <td>6413</td>\n",
              "      <td>NaN</td>\n",
              "      <td>NaN</td>\n",
              "      <td>197</td>\n",
              "      <td>0</td>\n",
              "    </tr>\n",
              "    <tr>\n",
              "      <th>809598</th>\n",
              "      <td>4047</td>\n",
              "      <td>290</td>\n",
              "      <td>NaN</td>\n",
              "      <td>NaN</td>\n",
              "      <td>198</td>\n",
              "      <td>0</td>\n",
              "    </tr>\n",
              "    <tr>\n",
              "      <th>809599</th>\n",
              "      <td>4047</td>\n",
              "      <td>7910</td>\n",
              "      <td>NaN</td>\n",
              "      <td>NaN</td>\n",
              "      <td>199</td>\n",
              "      <td>0</td>\n",
              "    </tr>\n",
              "  </tbody>\n",
              "</table>\n",
              "<p>809600 rows × 6 columns</p>\n",
              "</div>\n",
              "      <button class=\"colab-df-convert\" onclick=\"convertToInteractive('df-8b665058-1ae9-452d-a475-11a7dfe21065')\"\n",
              "              title=\"Convert this dataframe to an interactive table.\"\n",
              "              style=\"display:none;\">\n",
              "        \n",
              "  <svg xmlns=\"http://www.w3.org/2000/svg\" height=\"24px\"viewBox=\"0 0 24 24\"\n",
              "       width=\"24px\">\n",
              "    <path d=\"M0 0h24v24H0V0z\" fill=\"none\"/>\n",
              "    <path d=\"M18.56 5.44l.94 2.06.94-2.06 2.06-.94-2.06-.94-.94-2.06-.94 2.06-2.06.94zm-11 1L8.5 8.5l.94-2.06 2.06-.94-2.06-.94L8.5 2.5l-.94 2.06-2.06.94zm10 10l.94 2.06.94-2.06 2.06-.94-2.06-.94-.94-2.06-.94 2.06-2.06.94z\"/><path d=\"M17.41 7.96l-1.37-1.37c-.4-.4-.92-.59-1.43-.59-.52 0-1.04.2-1.43.59L10.3 9.45l-7.72 7.72c-.78.78-.78 2.05 0 2.83L4 21.41c.39.39.9.59 1.41.59.51 0 1.02-.2 1.41-.59l7.78-7.78 2.81-2.81c.8-.78.8-2.07 0-2.86zM5.41 20L4 18.59l7.72-7.72 1.47 1.35L5.41 20z\"/>\n",
              "  </svg>\n",
              "      </button>\n",
              "      \n",
              "  <style>\n",
              "    .colab-df-container {\n",
              "      display:flex;\n",
              "      flex-wrap:wrap;\n",
              "      gap: 12px;\n",
              "    }\n",
              "\n",
              "    .colab-df-convert {\n",
              "      background-color: #E8F0FE;\n",
              "      border: none;\n",
              "      border-radius: 50%;\n",
              "      cursor: pointer;\n",
              "      display: none;\n",
              "      fill: #1967D2;\n",
              "      height: 32px;\n",
              "      padding: 0 0 0 0;\n",
              "      width: 32px;\n",
              "    }\n",
              "\n",
              "    .colab-df-convert:hover {\n",
              "      background-color: #E2EBFA;\n",
              "      box-shadow: 0px 1px 2px rgba(60, 64, 67, 0.3), 0px 1px 3px 1px rgba(60, 64, 67, 0.15);\n",
              "      fill: #174EA6;\n",
              "    }\n",
              "\n",
              "    [theme=dark] .colab-df-convert {\n",
              "      background-color: #3B4455;\n",
              "      fill: #D2E3FC;\n",
              "    }\n",
              "\n",
              "    [theme=dark] .colab-df-convert:hover {\n",
              "      background-color: #434B5C;\n",
              "      box-shadow: 0px 1px 3px 1px rgba(0, 0, 0, 0.15);\n",
              "      filter: drop-shadow(0px 1px 2px rgba(0, 0, 0, 0.3));\n",
              "      fill: #FFFFFF;\n",
              "    }\n",
              "  </style>\n",
              "\n",
              "      <script>\n",
              "        const buttonEl =\n",
              "          document.querySelector('#df-8b665058-1ae9-452d-a475-11a7dfe21065 button.colab-df-convert');\n",
              "        buttonEl.style.display =\n",
              "          google.colab.kernel.accessAllowed ? 'block' : 'none';\n",
              "\n",
              "        async function convertToInteractive(key) {\n",
              "          const element = document.querySelector('#df-8b665058-1ae9-452d-a475-11a7dfe21065');\n",
              "          const dataTable =\n",
              "            await google.colab.kernel.invokeFunction('convertToInteractive',\n",
              "                                                     [key], {});\n",
              "          if (!dataTable) return;\n",
              "\n",
              "          const docLinkHtml = 'Like what you see? Visit the ' +\n",
              "            '<a target=\"_blank\" href=https://colab.research.google.com/notebooks/data_table.ipynb>data table notebook</a>'\n",
              "            + ' to learn more about interactive tables.';\n",
              "          element.innerHTML = '';\n",
              "          dataTable['output_type'] = 'display_data';\n",
              "          await google.colab.output.renderOutput(dataTable, element);\n",
              "          const docLink = document.createElement('div');\n",
              "          docLink.innerHTML = docLinkHtml;\n",
              "          element.appendChild(docLink);\n",
              "        }\n",
              "      </script>\n",
              "    </div>\n",
              "  </div>\n",
              "  "
            ]
          },
          "metadata": {},
          "execution_count": 58
        }
      ]
    },
    {
      "cell_type": "markdown",
      "source": [
        "AY PART"
      ],
      "metadata": {
        "id": "xkxkP5zD4ANl"
      }
    },
    {
      "cell_type": "code",
      "source": [
        "cb_data_recs = pd.merge(cb_data_recs, metadata[['movieid', 'director', 'genres']], on='movieid', how='left')"
      ],
      "metadata": {
        "id": "swmV86ErP4L6"
      },
      "execution_count": 59,
      "outputs": []
    },
    {
      "cell_type": "code",
      "source": [
        "cb_data_recs['director'] = cb_data_recs['director'].fillna('None')\n",
        "cb_data_recs['genres'] = cb_data_recs['genres'].fillna('None')\n",
        "# cb_data_recs = cb_data_recs[cb_data_recs['timestamp'].notnull()]"
      ],
      "metadata": {
        "id": "YZKybVx1PmPb"
      },
      "execution_count": 60,
      "outputs": []
    },
    {
      "cell_type": "code",
      "source": [
        "import catboost"
      ],
      "metadata": {
        "id": "p2nGe9ai4LXs"
      },
      "execution_count": 61,
      "outputs": []
    },
    {
      "cell_type": "code",
      "source": [
        "# rnd = np.random.rand(len(cb_data_recs))\n",
        "\n",
        "# train_msk = rnd < 0.8\n",
        "# val_msk = (0.8 <= rnd) & (rnd < 0.9)\n",
        "# test_msk = rnd >= 0.9\n",
        "\n",
        "# train_df = cb_data_recs[train_msk]\n",
        "# val_df = cb_data_recs[val_msk]\n",
        "# test_df = cb_data_recs[test_msk]\n",
        "\n",
        "# columns = ['movie_rank', 'director', 'genres']\n",
        "\n",
        "# train_pool = catboost.Pool(\n",
        "#     train_df[columns],\n",
        "#     label=train_df['target'],\n",
        "#     cat_features=['director', 'genres']\n",
        "# )\n",
        "\n",
        "# test_pool = catboost.Pool(\n",
        "#     test_df[columns],\n",
        "#     label=test_df['target'],\n",
        "#     cat_features=['director', 'genres']\n",
        "# )\n",
        "\n",
        "# val_pool = catboost.Pool(\n",
        "#     val_df[columns],\n",
        "#     label=val_df['target'],\n",
        "#     cat_features=['director', 'genres']\n",
        "# )"
      ],
      "metadata": {
        "id": "t_ZH0iKN41PZ"
      },
      "execution_count": 62,
      "outputs": []
    },
    {
      "cell_type": "code",
      "source": [
        "# cb = catboost.CatBoostClassifier(loss_function='Logloss', iterations=1000, early_stopping_rounds=100)\n",
        "# cb.fit(train_pool, eval_set=val_pool)"
      ],
      "metadata": {
        "id": "Bgpqh71D51BH"
      },
      "execution_count": 63,
      "outputs": []
    },
    {
      "cell_type": "code",
      "source": [
        "# preds = cb.predict_proba(test_pool)"
      ],
      "metadata": {
        "id": "3jZjETcW7RQh"
      },
      "execution_count": 64,
      "outputs": []
    },
    {
      "cell_type": "code",
      "source": [
        "# preds.shape"
      ],
      "metadata": {
        "id": "k4BzqPR9JVut"
      },
      "execution_count": 65,
      "outputs": []
    },
    {
      "cell_type": "code",
      "source": [
        "# THRESHOLD = 0.5\n",
        "\n",
        "# pred = preds[:, 1] > THRESHOLD\n",
        "# is_correct = (pred == test_df['target'])\n",
        "# is_correct.sum() / len(pred)"
      ],
      "metadata": {
        "id": "kYKxgO0h7nhh"
      },
      "execution_count": 66,
      "outputs": []
    },
    {
      "cell_type": "markdown",
      "source": [
        "RETRAIN SVD & CB ON WHOLE DATASET"
      ],
      "metadata": {
        "id": "9LJcC_UPSROn"
      }
    },
    {
      "cell_type": "code",
      "source": [
        "# from sklearn.base import BaseEstimator"
      ],
      "metadata": {
        "id": "Yva_XjPImObH"
      },
      "execution_count": 67,
      "outputs": []
    },
    {
      "cell_type": "code",
      "source": [
        "# class TwoLevelRecommender(BaseEstimator):\n",
        "#   def __init__(self, svd_rank, data_description):\n",
        "#     super().__init__()\n",
        "#     self.svd_rank = svd_rank\n",
        "#     self.data_description = data_description\n",
        "#     self.svd_model = None\n",
        "#     self.cb_model = None\n",
        "\n",
        "#   def fit(self, X, y):\n",
        "#     # First level\n",
        "#     item_factors, singvals = build_svd_model(\n",
        "#       {'rank': self.svd_rank},\n",
        "#       X,\n",
        "#       self.data_description\n",
        "#     )\n",
        "#     svd_recs = svd_model_scoring((item_factors, singvals), X, self.data_description)\n",
        "\n",
        "#     cands = pd.DataFrame()\n",
        "#     cands['userid'] = np.repeat(np.sort(X['userid'].unique()), 200)\n",
        "#     cands['movieid'] = topn_recommendations(svd_recs, topn=200).reshape(-1)\n",
        "#     cands['movie_rank'] = np.tile(np.arange(200), X['userid'].nunique())\n",
        "\n",
        "#     # Second level\n",
        "#     data_recs = pd.merge(X, cands, on=['userid', 'movieid'], how='right')\n",
        "#     data_recs['target'] = 0\n",
        "#     data_recs['target'] += (~data_recs['rating'].isna())\n",
        "\n",
        "#     data_recs = pd.merge(data_recs, metadata[['movieid', 'director', 'genres']], on='movieid', how='left')\n",
        "#     data_recs['director'] = data_recs['director'].fillna('None')\n",
        "#     data_recs['genres'] = data_recs['genres'].fillna('None')\n",
        "\n",
        "#     columns = ['movie_rank', 'director', 'genres']\n",
        "#     pool = catboost.Pool(\n",
        "#       data_recs[columns],\n",
        "#       label=data_recs['target'],\n",
        "#       cat_features=['director', 'genres']\n",
        "#     )\n",
        "\n",
        "#     cb = catboost.CatBoostClassifier(loss_function='Logloss', iterations=1000, early_stopping_rounds=100)\n",
        "#     cb.fit(train_pool, eval_set=val_pool)\n",
        "    \n",
        "#     return self\n",
        "\n",
        "#   def predict(self, X):\n",
        "#     # Add SVD here\n",
        "#     preds = cb.predict_proba(test_pool)\n",
        "\n",
        "#     results = pd.DataFrame()\n",
        "#     results['userid'] = data_recs['userid']\n",
        "#     results['movieid'] = data_recs['movieid']\n",
        "#     results['score'] = preds[:, 1]\n",
        "    \n",
        "#     results_agg = results.groupby('userid').apply(lambda row: row.sort_values('score', ascending=False).head(10))\n",
        "#     full_array = np.array([np.array(x) for x in results_agg.reset_index(drop=True).groupby('userid').movieid.unique().to_numpy()])\n",
        "\n",
        "#     return full_array"
      ],
      "metadata": {
        "id": "UTgXyUimnBzS"
      },
      "execution_count": 68,
      "outputs": []
    },
    {
      "cell_type": "code",
      "source": [
        "# svd_tuning_ranks = [b*2**i for i in range(3, 10) for b in [2, 3]]\n",
        "# # svd_tuning_ranks = [64]\n",
        "# svd_params = build_svd_model(\n",
        "#     {'rank': max(svd_tuning_ranks)},\n",
        "#     training,\n",
        "#     data_description\n",
        "# )\n",
        "# svd_tuning = {}\n",
        "# for rank in tqdm(svd_tuning_ranks):\n",
        "#     # standard model\n",
        "#     item_factors, singvals = svd_params\n",
        "#     rank_params = item_factors[:, :rank], singvals[:rank]\n",
        "#     svd_tuning[rank] = evaluate_svd(rank_params, testset, data_description, holdout)"
      ],
      "metadata": {
        "id": "26GTeav8SVlU"
      },
      "execution_count": 69,
      "outputs": []
    },
    {
      "cell_type": "code",
      "source": [
        "# svd_results = (\n",
        "#     pd.Series(svd_tuning)\n",
        "#     .apply(pd.Series)\n",
        "#     .rename(columns = ['HR', 'MRR', 'COV'].__getitem__)\n",
        "# )"
      ],
      "metadata": {
        "id": "E-5HLkq0VvRW"
      },
      "execution_count": 70,
      "outputs": []
    },
    {
      "cell_type": "code",
      "source": [
        "# svd_results"
      ],
      "metadata": {
        "id": "30F2P3ArzJGf"
      },
      "execution_count": 71,
      "outputs": []
    },
    {
      "cell_type": "code",
      "source": [
        "# test_svd_recs = svd_model_scoring((item_factors[:, :64], singvals[:64]), testset, data_description)"
      ],
      "metadata": {
        "id": "HZ54VBuEV37o"
      },
      "execution_count": 72,
      "outputs": []
    },
    {
      "cell_type": "code",
      "source": [
        "# test_svd_recs"
      ],
      "metadata": {
        "id": "cFp_pHuMV-E1"
      },
      "execution_count": 73,
      "outputs": []
    },
    {
      "cell_type": "code",
      "source": [
        "# test_cands = pd.DataFrame()\n",
        "# test_cands['userid'] = np.repeat(np.sort(testset['userid'].unique()), 200) # [i for i in range(cb_data.userid.nunique()) for j in range(200)]\n",
        "# test_cands['movieid'] = topn_recommendations(test_svd_recs, topn=200).reshape(-1)\n",
        "# test_cands['movie_rank'] = np.tile(np.arange(200), testset['userid'].nunique())"
      ],
      "metadata": {
        "id": "wEn9TFm9WWqE"
      },
      "execution_count": 74,
      "outputs": []
    },
    {
      "cell_type": "code",
      "source": [
        "# test_cands"
      ],
      "metadata": {
        "id": "NareEZnHY9Ma"
      },
      "execution_count": 75,
      "outputs": []
    },
    {
      "cell_type": "code",
      "source": [
        "# testset"
      ],
      "metadata": {
        "id": "NTwEIUPLZowU"
      },
      "execution_count": 76,
      "outputs": []
    },
    {
      "cell_type": "code",
      "source": [
        "# test_data_recs = pd.merge(testset, test_cands,\n",
        "#                         on=['userid', 'movieid'], how='right')"
      ],
      "metadata": {
        "id": "KlNTV1MQXZju"
      },
      "execution_count": 77,
      "outputs": []
    },
    {
      "cell_type": "code",
      "source": [
        "# test_data_recs['target'] = 0\n",
        "# test_data_recs['target'] += (~test_data_recs['rating'].isna())"
      ],
      "metadata": {
        "id": "fOlVuKPnXr4m"
      },
      "execution_count": 78,
      "outputs": []
    },
    {
      "cell_type": "code",
      "source": [
        "# test_data_recs"
      ],
      "metadata": {
        "id": "rvSZ5WRDXsj7"
      },
      "execution_count": 79,
      "outputs": []
    },
    {
      "cell_type": "code",
      "source": [
        "# test_data_recs = pd.merge(test_data_recs, metadata[['movieid', 'director', 'genres']], on='movieid', how='left')\n",
        "\n",
        "# test_data_recs['director'] = test_data_recs['director'].fillna('None')\n",
        "# test_data_recs['genres'] = test_data_recs['genres'].fillna('None')"
      ],
      "metadata": {
        "id": "FBxPjlXwbB1m"
      },
      "execution_count": 80,
      "outputs": []
    },
    {
      "cell_type": "code",
      "source": [
        "# test_data_recs"
      ],
      "metadata": {
        "id": "3m94OvWF2WZk"
      },
      "execution_count": 81,
      "outputs": []
    },
    {
      "cell_type": "code",
      "source": [
        "# columns = ['movie_rank', 'director', 'genres']\n",
        "\n",
        "# test_pool = catboost.Pool(\n",
        "#     test_data_recs[columns],\n",
        "#     label=test_data_recs['target'],\n",
        "#     cat_features=['director', 'genres']\n",
        "# )"
      ],
      "metadata": {
        "id": "aNgL3GYtailJ"
      },
      "execution_count": 82,
      "outputs": []
    },
    {
      "cell_type": "code",
      "source": [
        "# preds = cb.predict_proba(test_pool)"
      ],
      "metadata": {
        "id": "lwfKq4dOa1SC"
      },
      "execution_count": 83,
      "outputs": []
    },
    {
      "cell_type": "code",
      "source": [
        "# results = pd.DataFrame()\n",
        "# results['userid'] = test_data_recs['userid']\n",
        "# results['movieid'] = test_data_recs['movieid']\n",
        "# results['score'] = preds[:, 1]\n",
        "# results"
      ],
      "metadata": {
        "id": "uXEU41lJKN90"
      },
      "execution_count": 84,
      "outputs": []
    },
    {
      "cell_type": "code",
      "source": [
        "# results_agg = results.groupby('userid').apply(lambda row: row.sort_values('score', ascending=False).head(10))"
      ],
      "metadata": {
        "id": "qwDN9o9fSU6E"
      },
      "execution_count": 85,
      "outputs": []
    },
    {
      "cell_type": "code",
      "source": [
        "# full_array = np.array([np.array(x) for x in results_agg.reset_index(drop=True).groupby('userid').movieid.unique().to_numpy()])"
      ],
      "metadata": {
        "id": "qjfNLFmLyYzg"
      },
      "execution_count": 86,
      "outputs": []
    },
    {
      "cell_type": "code",
      "source": [
        "# full_array.shape"
      ],
      "metadata": {
        "id": "a1twQacwytQH"
      },
      "execution_count": 87,
      "outputs": []
    },
    {
      "cell_type": "code",
      "source": [
        "# hr, mrr, cov = model_evaluate(full_array, holdout, data_description)"
      ],
      "metadata": {
        "id": "fzd8wlv1xlEX"
      },
      "execution_count": 88,
      "outputs": []
    },
    {
      "cell_type": "code",
      "source": [
        "# hr"
      ],
      "metadata": {
        "id": "8C5xIm4lzDsT"
      },
      "execution_count": 89,
      "outputs": []
    },
    {
      "cell_type": "code",
      "source": [
        "from polara.evaluation.pipelines import random_grid"
      ],
      "metadata": {
        "id": "5Mszg30mKeWW"
      },
      "execution_count": 90,
      "outputs": []
    },
    {
      "cell_type": "code",
      "source": [
        "configs = {\n",
        "    'rank': [b*2**i for i in range(3, 10) for b in [2, 3]]\n",
        "}"
      ],
      "metadata": {
        "id": "nTsq1Nw-KmJg"
      },
      "execution_count": 91,
      "outputs": []
    },
    {
      "cell_type": "code",
      "source": [
        "def get_trained_cb(cb_train_df, **kwargs):\n",
        "  rnd = np.random.rand(len(cb_train_df))\n",
        "  msk = rnd < 0.9\n",
        "\n",
        "  train_df = cb_train_df[msk]\n",
        "  val_df = cb_train_df[~msk]\n",
        "\n",
        "  columns = ['movie_rank', 'director', 'genres']\n",
        "\n",
        "  train_pool = catboost.Pool(\n",
        "      train_df[columns],\n",
        "      label=train_df['target'],\n",
        "      cat_features=['director', 'genres']\n",
        "  )\n",
        "\n",
        "  val_pool = catboost.Pool(\n",
        "      val_df[columns],\n",
        "      label=val_df['target'],\n",
        "      cat_features=['director', 'genres']\n",
        "  ) \n",
        "  cb = catboost.CatBoostClassifier(loss_function='Logloss',\n",
        "                                   early_stopping_rounds=100, task_type='GPU', verbose=100, **kwargs)\n",
        "  cb.fit(train_pool, eval_set=val_pool)\n",
        "\n",
        "  return cb"
      ],
      "metadata": {
        "id": "Ng2tX7tCRbrc"
      },
      "execution_count": 98,
      "outputs": []
    },
    {
      "cell_type": "code",
      "source": [
        "def eval_pipeline(X, holdout_, cb_train, svd_rank, **kwargs):\n",
        "  # First level\n",
        "  item_factors, singvals = build_svd_model(\n",
        "    {'rank': svd_rank},\n",
        "    X,\n",
        "    data_description\n",
        "  )\n",
        "  svd_recs = svd_model_scoring((item_factors, singvals), X, data_description)\n",
        "\n",
        "  cands = pd.DataFrame()\n",
        "  cands['userid'] = np.repeat(np.sort(X['userid'].unique()), 200)\n",
        "  cands['movieid'] = topn_recommendations(svd_recs, topn=200).reshape(-1)\n",
        "  cands['movie_rank'] = np.tile(np.arange(200), X['userid'].nunique())\n",
        "\n",
        "  print(f'X: users: {X.userid.nunique()}')\n",
        "  print(f'cands: users: {cands.userid.nunique()}')\n",
        "\n",
        "  # Second level\n",
        "  data_recs = pd.merge(X, cands, on=['userid', 'movieid'], how='right')\n",
        "  data_recs['target'] = 0\n",
        "  data_recs['target'] += (~data_recs['rating'].isna())\n",
        "\n",
        "  data_recs = pd.merge(data_recs, metadata[['movieid', 'director', 'genres']], on='movieid', how='left')\n",
        "  data_recs['director'] = data_recs['director'].fillna('None')\n",
        "  data_recs['genres'] = data_recs['genres'].fillna('None')\n",
        "\n",
        "  cb = get_trained_cb(cb_train, **kwargs)\n",
        "\n",
        "  columns = ['movie_rank', 'director', 'genres']\n",
        "  test_pool = catboost.Pool(\n",
        "      data_recs[columns],\n",
        "      label=data_recs['target'],\n",
        "      cat_features=['director', 'genres']\n",
        "  )\n",
        "\n",
        "  preds = cb.predict_proba(test_pool)\n",
        "\n",
        "  results = pd.DataFrame()\n",
        "  results['userid'] = data_recs['userid']\n",
        "  results['movieid'] = data_recs['movieid']\n",
        "  results['score'] = preds[:, 1]\n",
        "\n",
        "  results_agg = results.groupby('userid').apply(lambda row: row.sort_values('score', ascending=False).head(10))\n",
        "  full_array = np.array([np.array(x) for x in results_agg.reset_index(drop=True).groupby('userid').movieid.unique().to_numpy()])\n",
        "\n",
        "  print(f'Unique users in results: {results_agg.userid.nunique()}')\n",
        "\n",
        "  return model_evaluate(full_array, holdout_, data_description)"
      ],
      "metadata": {
        "id": "A8I_ipswNvL0"
      },
      "execution_count": 93,
      "outputs": []
    },
    {
      "cell_type": "code",
      "source": [
        "print(holdout.userid.nunique())"
      ],
      "metadata": {
        "id": "ZMdw9hFBG_JX",
        "outputId": "60272f48-7cf3-400e-8173-b9b226b68b84",
        "colab": {
          "base_uri": "https://localhost:8080/"
        }
      },
      "execution_count": 94,
      "outputs": [
        {
          "output_type": "stream",
          "name": "stdout",
          "text": [
            "4996\n"
          ]
        }
      ]
    },
    {
      "cell_type": "code",
      "source": [
        "tuning_res = {}"
      ],
      "metadata": {
        "id": "SvOmFeSxbjer"
      },
      "execution_count": 95,
      "outputs": []
    },
    {
      "cell_type": "code",
      "source": [
        "params, name = random_grid(configs, n=14)\n",
        "for param in params:\n",
        "  svd_rank = param[0]\n",
        "\n",
        "  testset_ = testset.copy()\n",
        "  holdout_ = holdout.copy()\n",
        "  cb_data_recs_ = cb_data_recs.copy()\n",
        "\n",
        "  hr, mrr, cov = eval_pipeline(testset_, holdout_, cb_data_recs_, svd_rank)\n",
        "  tuning_res[f'rank: {svd_rank}'] = (hr, mrr, cov)\n",
        "print(tuning_res)"
      ],
      "metadata": {
        "colab": {
          "base_uri": "https://localhost:8080/"
        },
        "id": "rOchDVqSWr8n",
        "outputId": "d06b6f0f-a163-494e-c59c-96a8df39de02"
      },
      "execution_count": 99,
      "outputs": [
        {
          "output_type": "stream",
          "name": "stdout",
          "text": [
            "X: users: 4996\n",
            "cands: users: 4996\n",
            "Learning rate set to 0.040665\n",
            "0:\tlearn: 0.6762452\ttest: 0.6762280\tbest: 0.6762280 (0)\ttotal: 61.2ms\tremaining: 1m 1s\n",
            "100:\tlearn: 0.4865007\ttest: 0.4865993\tbest: 0.4865993 (100)\ttotal: 5.35s\tremaining: 47.6s\n",
            "200:\tlearn: 0.4846861\ttest: 0.4849068\tbest: 0.4849068 (200)\ttotal: 9.78s\tremaining: 38.9s\n",
            "300:\tlearn: 0.4839100\ttest: 0.4842879\tbest: 0.4842879 (300)\ttotal: 15.2s\tremaining: 35.3s\n",
            "400:\tlearn: 0.4833683\ttest: 0.4838895\tbest: 0.4838887 (399)\ttotal: 19.6s\tremaining: 29.3s\n",
            "500:\tlearn: 0.4829988\ttest: 0.4836648\tbest: 0.4836648 (500)\ttotal: 23.9s\tremaining: 23.8s\n",
            "600:\tlearn: 0.4827458\ttest: 0.4835621\tbest: 0.4835616 (599)\ttotal: 28.2s\tremaining: 18.7s\n",
            "700:\tlearn: 0.4824805\ttest: 0.4834350\tbest: 0.4834327 (696)\ttotal: 32.5s\tremaining: 13.9s\n",
            "800:\tlearn: 0.4822619\ttest: 0.4833425\tbest: 0.4833425 (800)\ttotal: 36.9s\tremaining: 9.16s\n",
            "900:\tlearn: 0.4820927\ttest: 0.4833072\tbest: 0.4833066 (893)\ttotal: 41.1s\tremaining: 4.52s\n",
            "999:\tlearn: 0.4819220\ttest: 0.4832556\tbest: 0.4832556 (999)\ttotal: 45.4s\tremaining: 0us\n",
            "bestTest = 0.4832556032\n",
            "bestIteration = 999\n",
            "Unique users in results: 4996\n",
            "(4996, 10)\n",
            "4996\n",
            "X: users: 4996\n",
            "cands: users: 4996\n",
            "Learning rate set to 0.040663\n",
            "0:\tlearn: 0.6762324\ttest: 0.6762569\tbest: 0.6762569 (0)\ttotal: 60.7ms\tremaining: 1m\n",
            "100:\tlearn: 0.4864887\ttest: 0.4879719\tbest: 0.4879719 (100)\ttotal: 5.29s\tremaining: 47.1s\n",
            "200:\tlearn: 0.4845724\ttest: 0.4862963\tbest: 0.4862963 (200)\ttotal: 9.67s\tremaining: 38.4s\n",
            "300:\tlearn: 0.4838667\ttest: 0.4857749\tbest: 0.4857749 (300)\ttotal: 14s\tremaining: 32.5s\n",
            "400:\tlearn: 0.4833048\ttest: 0.4854278\tbest: 0.4854278 (400)\ttotal: 18.4s\tremaining: 27.5s\n",
            "500:\tlearn: 0.4829464\ttest: 0.4852404\tbest: 0.4852404 (500)\ttotal: 23.6s\tremaining: 23.5s\n",
            "600:\tlearn: 0.4826521\ttest: 0.4851051\tbest: 0.4851051 (600)\ttotal: 29.6s\tremaining: 19.6s\n",
            "700:\tlearn: 0.4824086\ttest: 0.4849987\tbest: 0.4849987 (700)\ttotal: 34.7s\tremaining: 14.8s\n",
            "800:\tlearn: 0.4822053\ttest: 0.4849408\tbest: 0.4849408 (800)\ttotal: 39.1s\tremaining: 9.71s\n",
            "900:\tlearn: 0.4820011\ttest: 0.4848801\tbest: 0.4848796 (895)\ttotal: 43.4s\tremaining: 4.77s\n",
            "999:\tlearn: 0.4818362\ttest: 0.4848436\tbest: 0.4848430 (989)\ttotal: 47.8s\tremaining: 0us\n",
            "bestTest = 0.4848429551\n",
            "bestIteration = 989\n",
            "Shrink model to first 990 iterations.\n",
            "Unique users in results: 4996\n",
            "(4996, 10)\n",
            "4996\n",
            "X: users: 4996\n",
            "cands: users: 4996\n",
            "Learning rate set to 0.040664\n",
            "0:\tlearn: 0.6762217\ttest: 0.6761552\tbest: 0.6761552 (0)\ttotal: 61.3ms\tremaining: 1m 1s\n",
            "100:\tlearn: 0.4867838\ttest: 0.4847874\tbest: 0.4847874 (100)\ttotal: 7.18s\tremaining: 1m 3s\n",
            "200:\tlearn: 0.4849313\ttest: 0.4829673\tbest: 0.4829673 (200)\ttotal: 11.6s\tremaining: 46.2s\n",
            "300:\tlearn: 0.4842587\ttest: 0.4824148\tbest: 0.4824141 (299)\ttotal: 15.9s\tremaining: 37s\n",
            "400:\tlearn: 0.4837370\ttest: 0.4820064\tbest: 0.4820063 (399)\ttotal: 20.3s\tremaining: 30.3s\n",
            "500:\tlearn: 0.4833551\ttest: 0.4817733\tbest: 0.4817733 (499)\ttotal: 24.8s\tremaining: 24.7s\n",
            "600:\tlearn: 0.4830779\ttest: 0.4816429\tbest: 0.4816425 (599)\ttotal: 29.2s\tremaining: 19.4s\n",
            "700:\tlearn: 0.4828464\ttest: 0.4815225\tbest: 0.4815220 (697)\ttotal: 33.7s\tremaining: 14.4s\n",
            "800:\tlearn: 0.4826454\ttest: 0.4814446\tbest: 0.4814427 (797)\ttotal: 38.1s\tremaining: 9.46s\n",
            "900:\tlearn: 0.4824592\ttest: 0.4813694\tbest: 0.4813694 (900)\ttotal: 42.6s\tremaining: 4.68s\n",
            "999:\tlearn: 0.4822855\ttest: 0.4813145\tbest: 0.4813145 (999)\ttotal: 47s\tremaining: 0us\n",
            "bestTest = 0.4813145409\n",
            "bestIteration = 999\n",
            "Unique users in results: 4996\n",
            "(4996, 10)\n",
            "4996\n",
            "X: users: 4996\n",
            "cands: users: 4996\n",
            "Learning rate set to 0.040662\n",
            "0:\tlearn: 0.6762527\ttest: 0.6762323\tbest: 0.6762323 (0)\ttotal: 61.2ms\tremaining: 1m 1s\n",
            "100:\tlearn: 0.4867442\ttest: 0.4857829\tbest: 0.4857829 (100)\ttotal: 5.26s\tremaining: 46.9s\n",
            "200:\tlearn: 0.4847908\ttest: 0.4838917\tbest: 0.4838917 (200)\ttotal: 9.67s\tremaining: 38.4s\n",
            "300:\tlearn: 0.4841545\ttest: 0.4834342\tbest: 0.4834342 (300)\ttotal: 14s\tremaining: 32.5s\n",
            "400:\tlearn: 0.4836118\ttest: 0.4830145\tbest: 0.4830131 (398)\ttotal: 18.4s\tremaining: 27.5s\n",
            "500:\tlearn: 0.4832441\ttest: 0.4827767\tbest: 0.4827767 (500)\ttotal: 22.8s\tremaining: 22.7s\n",
            "600:\tlearn: 0.4829224\ttest: 0.4826108\tbest: 0.4826108 (600)\ttotal: 27.3s\tremaining: 18.1s\n",
            "700:\tlearn: 0.4827169\ttest: 0.4825541\tbest: 0.4825540 (697)\ttotal: 31.7s\tremaining: 13.5s\n",
            "800:\tlearn: 0.4825215\ttest: 0.4824912\tbest: 0.4824888 (791)\ttotal: 36.1s\tremaining: 8.97s\n",
            "900:\tlearn: 0.4823327\ttest: 0.4824267\tbest: 0.4824267 (900)\ttotal: 40.4s\tremaining: 4.43s\n",
            "999:\tlearn: 0.4821945\ttest: 0.4823984\tbest: 0.4823977 (997)\ttotal: 44.6s\tremaining: 0us\n",
            "bestTest = 0.482397669\n",
            "bestIteration = 997\n",
            "Shrink model to first 998 iterations.\n",
            "Unique users in results: 4996\n",
            "(4996, 10)\n",
            "4996\n",
            "X: users: 4996\n",
            "cands: users: 4996\n",
            "Learning rate set to 0.040666\n",
            "0:\tlearn: 0.6762385\ttest: 0.6762799\tbest: 0.6762799 (0)\ttotal: 75.1ms\tremaining: 1m 15s\n",
            "100:\tlearn: 0.4865904\ttest: 0.4868849\tbest: 0.4868849 (100)\ttotal: 5.32s\tremaining: 47.3s\n",
            "200:\tlearn: 0.4846681\ttest: 0.4850425\tbest: 0.4850425 (200)\ttotal: 9.77s\tremaining: 38.8s\n",
            "300:\tlearn: 0.4839337\ttest: 0.4844247\tbest: 0.4844247 (300)\ttotal: 14.1s\tremaining: 32.7s\n",
            "400:\tlearn: 0.4834294\ttest: 0.4840669\tbest: 0.4840669 (400)\ttotal: 18.5s\tremaining: 27.6s\n",
            "500:\tlearn: 0.4830969\ttest: 0.4839019\tbest: 0.4839015 (495)\ttotal: 22.9s\tremaining: 22.8s\n",
            "600:\tlearn: 0.4828082\ttest: 0.4837610\tbest: 0.4837610 (600)\ttotal: 27.4s\tremaining: 18.2s\n",
            "700:\tlearn: 0.4825706\ttest: 0.4836669\tbest: 0.4836669 (700)\ttotal: 31.7s\tremaining: 13.5s\n",
            "800:\tlearn: 0.4823673\ttest: 0.4835946\tbest: 0.4835934 (798)\ttotal: 36s\tremaining: 8.95s\n",
            "900:\tlearn: 0.4821919\ttest: 0.4835688\tbest: 0.4835594 (871)\ttotal: 40.4s\tremaining: 4.44s\n",
            "999:\tlearn: 0.4820147\ttest: 0.4835153\tbest: 0.4835153 (998)\ttotal: 44.7s\tremaining: 0us\n",
            "bestTest = 0.4835152948\n",
            "bestIteration = 998\n",
            "Shrink model to first 999 iterations.\n",
            "Unique users in results: 4996\n",
            "(4996, 10)\n",
            "4996\n",
            "X: users: 4996\n",
            "cands: users: 4996\n",
            "Learning rate set to 0.040664\n",
            "0:\tlearn: 0.6762543\ttest: 0.6762909\tbest: 0.6762909 (0)\ttotal: 61.2ms\tremaining: 1m 1s\n",
            "100:\tlearn: 0.4863926\ttest: 0.4874273\tbest: 0.4874273 (100)\ttotal: 5.31s\tremaining: 47.3s\n",
            "200:\tlearn: 0.4845558\ttest: 0.4856627\tbest: 0.4856627 (200)\ttotal: 9.81s\tremaining: 39s\n",
            "300:\tlearn: 0.4838209\ttest: 0.4850719\tbest: 0.4850719 (300)\ttotal: 14.2s\tremaining: 32.9s\n",
            "400:\tlearn: 0.4832990\ttest: 0.4846893\tbest: 0.4846891 (399)\ttotal: 18.6s\tremaining: 27.8s\n",
            "500:\tlearn: 0.4829739\ttest: 0.4844899\tbest: 0.4844898 (499)\ttotal: 23s\tremaining: 23s\n",
            "600:\tlearn: 0.4827096\ttest: 0.4843255\tbest: 0.4843255 (600)\ttotal: 27.4s\tremaining: 18.2s\n",
            "700:\tlearn: 0.4824880\ttest: 0.4842204\tbest: 0.4842204 (700)\ttotal: 31.8s\tremaining: 13.6s\n",
            "800:\tlearn: 0.4822763\ttest: 0.4841283\tbest: 0.4841283 (800)\ttotal: 36.2s\tremaining: 8.99s\n",
            "900:\tlearn: 0.4820906\ttest: 0.4840579\tbest: 0.4840578 (899)\ttotal: 40.6s\tremaining: 4.46s\n",
            "999:\tlearn: 0.4819431\ttest: 0.4840106\tbest: 0.4840103 (997)\ttotal: 47.2s\tremaining: 0us\n",
            "bestTest = 0.4840103343\n",
            "bestIteration = 997\n",
            "Shrink model to first 998 iterations.\n",
            "Unique users in results: 4996\n",
            "(4996, 10)\n",
            "4996\n",
            "X: users: 4996\n",
            "cands: users: 4996\n",
            "Learning rate set to 0.040662\n",
            "0:\tlearn: 0.6762476\ttest: 0.6761038\tbest: 0.6761038 (0)\ttotal: 61.6ms\tremaining: 1m 1s\n",
            "100:\tlearn: 0.4869179\ttest: 0.4842701\tbest: 0.4842701 (100)\ttotal: 5.27s\tremaining: 46.9s\n",
            "200:\tlearn: 0.4851795\ttest: 0.4825416\tbest: 0.4825416 (200)\ttotal: 9.71s\tremaining: 38.6s\n",
            "300:\tlearn: 0.4843516\ttest: 0.4818247\tbest: 0.4818240 (299)\ttotal: 14s\tremaining: 32.6s\n",
            "400:\tlearn: 0.4837882\ttest: 0.4813875\tbest: 0.4813875 (400)\ttotal: 18.4s\tremaining: 27.5s\n",
            "500:\tlearn: 0.4833714\ttest: 0.4811247\tbest: 0.4811247 (500)\ttotal: 22.8s\tremaining: 22.7s\n",
            "600:\tlearn: 0.4830333\ttest: 0.4809259\tbest: 0.4809259 (600)\ttotal: 27.2s\tremaining: 18.1s\n",
            "700:\tlearn: 0.4828118\ttest: 0.4808495\tbest: 0.4808495 (700)\ttotal: 31.7s\tremaining: 13.5s\n",
            "800:\tlearn: 0.4826005\ttest: 0.4807677\tbest: 0.4807675 (799)\ttotal: 36s\tremaining: 8.95s\n",
            "900:\tlearn: 0.4824261\ttest: 0.4806904\tbest: 0.4806904 (900)\ttotal: 40.4s\tremaining: 4.43s\n",
            "999:\tlearn: 0.4822732\ttest: 0.4806622\tbest: 0.4806617 (989)\ttotal: 44.7s\tremaining: 0us\n",
            "bestTest = 0.4806617242\n",
            "bestIteration = 989\n",
            "Shrink model to first 990 iterations.\n",
            "Unique users in results: 4996\n",
            "(4996, 10)\n",
            "4996\n",
            "X: users: 4996\n",
            "cands: users: 4996\n",
            "Learning rate set to 0.040663\n",
            "0:\tlearn: 0.6762684\ttest: 0.6761860\tbest: 0.6761860 (0)\ttotal: 61.2ms\tremaining: 1m 1s\n",
            "100:\tlearn: 0.4866966\ttest: 0.4851943\tbest: 0.4851943 (100)\ttotal: 5.3s\tremaining: 47.2s\n",
            "200:\tlearn: 0.4848711\ttest: 0.4834329\tbest: 0.4834329 (200)\ttotal: 9.71s\tremaining: 38.6s\n",
            "300:\tlearn: 0.4841791\ttest: 0.4828917\tbest: 0.4828917 (300)\ttotal: 14.1s\tremaining: 32.7s\n",
            "400:\tlearn: 0.4836420\ttest: 0.4824965\tbest: 0.4824963 (397)\ttotal: 18.5s\tremaining: 27.6s\n",
            "500:\tlearn: 0.4832373\ttest: 0.4822376\tbest: 0.4822376 (500)\ttotal: 22.9s\tremaining: 22.8s\n",
            "600:\tlearn: 0.4829467\ttest: 0.4820632\tbest: 0.4820632 (600)\ttotal: 27.3s\tremaining: 18.1s\n",
            "700:\tlearn: 0.4827154\ttest: 0.4819620\tbest: 0.4819611 (699)\ttotal: 31.7s\tremaining: 13.5s\n",
            "800:\tlearn: 0.4825223\ttest: 0.4819055\tbest: 0.4819055 (800)\ttotal: 36.1s\tremaining: 8.98s\n",
            "900:\tlearn: 0.4823018\ttest: 0.4818238\tbest: 0.4818238 (900)\ttotal: 40.5s\tremaining: 4.45s\n",
            "999:\tlearn: 0.4821134\ttest: 0.4817645\tbest: 0.4817630 (997)\ttotal: 45s\tremaining: 0us\n",
            "bestTest = 0.4817629746\n",
            "bestIteration = 997\n",
            "Shrink model to first 998 iterations.\n",
            "Unique users in results: 4996\n",
            "(4996, 10)\n",
            "4996\n",
            "X: users: 4996\n",
            "cands: users: 4996\n",
            "Learning rate set to 0.040666\n",
            "0:\tlearn: 0.6762348\ttest: 0.6762947\tbest: 0.6762947 (0)\ttotal: 60.3ms\tremaining: 1m\n",
            "100:\tlearn: 0.4863816\ttest: 0.4880876\tbest: 0.4880876 (100)\ttotal: 5.31s\tremaining: 47.2s\n",
            "200:\tlearn: 0.4845910\ttest: 0.4865103\tbest: 0.4865103 (200)\ttotal: 9.75s\tremaining: 38.8s\n",
            "300:\tlearn: 0.4838657\ttest: 0.4859290\tbest: 0.4859290 (300)\ttotal: 14.2s\tremaining: 33s\n",
            "400:\tlearn: 0.4833470\ttest: 0.4855717\tbest: 0.4855706 (398)\ttotal: 18.6s\tremaining: 27.8s\n",
            "500:\tlearn: 0.4829756\ttest: 0.4853368\tbest: 0.4853368 (500)\ttotal: 23s\tremaining: 22.9s\n",
            "600:\tlearn: 0.4826834\ttest: 0.4851598\tbest: 0.4851598 (599)\ttotal: 27.4s\tremaining: 18.2s\n",
            "700:\tlearn: 0.4824612\ttest: 0.4851118\tbest: 0.4851118 (700)\ttotal: 31.7s\tremaining: 13.5s\n",
            "800:\tlearn: 0.4822298\ttest: 0.4850127\tbest: 0.4850113 (799)\ttotal: 36.2s\tremaining: 9s\n",
            "900:\tlearn: 0.4820628\ttest: 0.4849610\tbest: 0.4849610 (899)\ttotal: 40.6s\tremaining: 4.47s\n",
            "999:\tlearn: 0.4818938\ttest: 0.4849306\tbest: 0.4849306 (996)\ttotal: 45s\tremaining: 0us\n",
            "bestTest = 0.4849305956\n",
            "bestIteration = 996\n",
            "Shrink model to first 997 iterations.\n",
            "Unique users in results: 4996\n",
            "(4996, 10)\n",
            "4996\n",
            "X: users: 4996\n",
            "cands: users: 4996\n",
            "Learning rate set to 0.040665\n",
            "0:\tlearn: 0.6762652\ttest: 0.6762568\tbest: 0.6762568 (0)\ttotal: 61.3ms\tremaining: 1m 1s\n",
            "100:\tlearn: 0.4868538\ttest: 0.4854571\tbest: 0.4854571 (100)\ttotal: 5.24s\tremaining: 46.6s\n",
            "200:\tlearn: 0.4849385\ttest: 0.4836476\tbest: 0.4836476 (200)\ttotal: 10.6s\tremaining: 42.1s\n",
            "300:\tlearn: 0.4842150\ttest: 0.4830915\tbest: 0.4830915 (300)\ttotal: 15.7s\tremaining: 36.4s\n",
            "400:\tlearn: 0.4836685\ttest: 0.4826949\tbest: 0.4826941 (399)\ttotal: 20.2s\tremaining: 30.2s\n",
            "500:\tlearn: 0.4832982\ttest: 0.4824862\tbest: 0.4824862 (500)\ttotal: 24.7s\tremaining: 24.6s\n",
            "600:\tlearn: 0.4830137\ttest: 0.4823267\tbest: 0.4823267 (600)\ttotal: 29.1s\tremaining: 19.3s\n",
            "700:\tlearn: 0.4827600\ttest: 0.4822256\tbest: 0.4822256 (700)\ttotal: 33.6s\tremaining: 14.3s\n",
            "800:\tlearn: 0.4825648\ttest: 0.4821578\tbest: 0.4821578 (800)\ttotal: 37.9s\tremaining: 9.41s\n",
            "900:\tlearn: 0.4823933\ttest: 0.4821143\tbest: 0.4821143 (900)\ttotal: 42.3s\tremaining: 4.65s\n",
            "999:\tlearn: 0.4822318\ttest: 0.4820727\tbest: 0.4820713 (997)\ttotal: 46.7s\tremaining: 0us\n",
            "bestTest = 0.4820713252\n",
            "bestIteration = 997\n",
            "Shrink model to first 998 iterations.\n",
            "Unique users in results: 4996\n",
            "(4996, 10)\n",
            "4996\n",
            "X: users: 4996\n",
            "cands: users: 4996\n",
            "Learning rate set to 0.040666\n",
            "0:\tlearn: 0.6762455\ttest: 0.6763377\tbest: 0.6763377 (0)\ttotal: 61ms\tremaining: 1m\n",
            "100:\tlearn: 0.4863221\ttest: 0.4882462\tbest: 0.4882462 (100)\ttotal: 5.21s\tremaining: 46.4s\n",
            "200:\tlearn: 0.4845231\ttest: 0.4866834\tbest: 0.4866834 (200)\ttotal: 9.58s\tremaining: 38.1s\n",
            "300:\tlearn: 0.4837459\ttest: 0.4860548\tbest: 0.4860548 (300)\ttotal: 14.1s\tremaining: 32.8s\n",
            "400:\tlearn: 0.4831503\ttest: 0.4856326\tbest: 0.4856319 (398)\ttotal: 18.6s\tremaining: 27.7s\n",
            "500:\tlearn: 0.4828188\ttest: 0.4854362\tbest: 0.4854362 (500)\ttotal: 23s\tremaining: 22.9s\n",
            "600:\tlearn: 0.4825322\ttest: 0.4852758\tbest: 0.4852758 (600)\ttotal: 27.4s\tremaining: 18.2s\n",
            "700:\tlearn: 0.4823179\ttest: 0.4851920\tbest: 0.4851896 (690)\ttotal: 31.8s\tremaining: 13.6s\n",
            "800:\tlearn: 0.4821348\ttest: 0.4851392\tbest: 0.4851392 (800)\ttotal: 36.2s\tremaining: 9s\n",
            "900:\tlearn: 0.4819538\ttest: 0.4850802\tbest: 0.4850798 (898)\ttotal: 40.6s\tremaining: 4.46s\n",
            "999:\tlearn: 0.4818043\ttest: 0.4850491\tbest: 0.4850485 (998)\ttotal: 44.9s\tremaining: 0us\n",
            "bestTest = 0.4850485195\n",
            "bestIteration = 998\n",
            "Shrink model to first 999 iterations.\n",
            "Unique users in results: 4996\n",
            "(4996, 10)\n",
            "4996\n",
            "X: users: 4996\n",
            "cands: users: 4996\n",
            "Learning rate set to 0.040665\n",
            "0:\tlearn: 0.6762549\ttest: 0.6761991\tbest: 0.6761991 (0)\ttotal: 61.5ms\tremaining: 1m 1s\n",
            "100:\tlearn: 0.4865587\ttest: 0.4862384\tbest: 0.4862384 (100)\ttotal: 5.29s\tremaining: 47.1s\n",
            "200:\tlearn: 0.4847447\ttest: 0.4845336\tbest: 0.4845336 (200)\ttotal: 11.7s\tremaining: 46.5s\n",
            "300:\tlearn: 0.4839741\ttest: 0.4839231\tbest: 0.4839231 (300)\ttotal: 16s\tremaining: 37.2s\n",
            "400:\tlearn: 0.4834007\ttest: 0.4835134\tbest: 0.4835134 (400)\ttotal: 20.6s\tremaining: 30.7s\n",
            "500:\tlearn: 0.4830443\ttest: 0.4832912\tbest: 0.4832912 (500)\ttotal: 25s\tremaining: 24.9s\n",
            "600:\tlearn: 0.4827856\ttest: 0.4831550\tbest: 0.4831548 (596)\ttotal: 29.3s\tremaining: 19.5s\n",
            "700:\tlearn: 0.4825529\ttest: 0.4830424\tbest: 0.4830423 (698)\ttotal: 33.7s\tremaining: 14.4s\n",
            "800:\tlearn: 0.4823411\ttest: 0.4829564\tbest: 0.4829552 (776)\ttotal: 38.1s\tremaining: 9.47s\n",
            "900:\tlearn: 0.4821836\ttest: 0.4829229\tbest: 0.4829220 (898)\ttotal: 42.4s\tremaining: 4.66s\n",
            "999:\tlearn: 0.4820079\ttest: 0.4828635\tbest: 0.4828635 (999)\ttotal: 46.7s\tremaining: 0us\n",
            "bestTest = 0.4828634852\n",
            "bestIteration = 999\n",
            "Unique users in results: 4996\n",
            "(4996, 10)\n",
            "4996\n",
            "X: users: 4996\n",
            "cands: users: 4996\n",
            "Learning rate set to 0.040664\n",
            "0:\tlearn: 0.6760643\ttest: 0.6759367\tbest: 0.6759367 (0)\ttotal: 60.7ms\tremaining: 1m\n",
            "100:\tlearn: 0.4868444\ttest: 0.4836862\tbest: 0.4836862 (100)\ttotal: 5.31s\tremaining: 47.3s\n",
            "200:\tlearn: 0.4850663\ttest: 0.4818811\tbest: 0.4818811 (200)\ttotal: 9.67s\tremaining: 38.4s\n",
            "300:\tlearn: 0.4842880\ttest: 0.4812076\tbest: 0.4812076 (300)\ttotal: 14s\tremaining: 32.4s\n",
            "400:\tlearn: 0.4837556\ttest: 0.4807793\tbest: 0.4807793 (400)\ttotal: 18.4s\tremaining: 27.5s\n",
            "500:\tlearn: 0.4833990\ttest: 0.4805613\tbest: 0.4805613 (500)\ttotal: 22.8s\tremaining: 22.7s\n",
            "600:\tlearn: 0.4831528\ttest: 0.4804416\tbest: 0.4804416 (600)\ttotal: 27.1s\tremaining: 18s\n",
            "700:\tlearn: 0.4829207\ttest: 0.4803398\tbest: 0.4803398 (700)\ttotal: 31.7s\tremaining: 13.5s\n",
            "800:\tlearn: 0.4827316\ttest: 0.4802671\tbest: 0.4802671 (799)\ttotal: 36s\tremaining: 8.95s\n",
            "900:\tlearn: 0.4825577\ttest: 0.4802107\tbest: 0.4802097 (897)\ttotal: 40.4s\tremaining: 4.44s\n",
            "999:\tlearn: 0.4823773\ttest: 0.4801386\tbest: 0.4801355 (983)\ttotal: 44.7s\tremaining: 0us\n",
            "bestTest = 0.4801355108\n",
            "bestIteration = 983\n",
            "Shrink model to first 984 iterations.\n",
            "Unique users in results: 4996\n",
            "(4996, 10)\n",
            "4996\n",
            "X: users: 4996\n",
            "cands: users: 4996\n",
            "Learning rate set to 0.040666\n",
            "0:\tlearn: 0.6762991\ttest: 0.6761049\tbest: 0.6761049 (0)\ttotal: 62.7ms\tremaining: 1m 2s\n",
            "100:\tlearn: 0.4871237\ttest: 0.4823581\tbest: 0.4823581 (100)\ttotal: 5.29s\tremaining: 47.1s\n",
            "200:\tlearn: 0.4853018\ttest: 0.4805003\tbest: 0.4805003 (200)\ttotal: 11.6s\tremaining: 45.9s\n",
            "300:\tlearn: 0.4846175\ttest: 0.4799064\tbest: 0.4799064 (300)\ttotal: 15.9s\tremaining: 36.9s\n",
            "400:\tlearn: 0.4840092\ttest: 0.4793929\tbest: 0.4793929 (400)\ttotal: 20.4s\tremaining: 30.5s\n",
            "500:\tlearn: 0.4836565\ttest: 0.4791176\tbest: 0.4791176 (500)\ttotal: 24.7s\tremaining: 24.6s\n",
            "600:\tlearn: 0.4834273\ttest: 0.4789908\tbest: 0.4789908 (600)\ttotal: 29.1s\tremaining: 19.3s\n",
            "700:\tlearn: 0.4831887\ttest: 0.4788704\tbest: 0.4788697 (696)\ttotal: 33.3s\tremaining: 14.2s\n",
            "800:\tlearn: 0.4829733\ttest: 0.4787676\tbest: 0.4787676 (800)\ttotal: 37.8s\tremaining: 9.39s\n",
            "900:\tlearn: 0.4827926\ttest: 0.4786998\tbest: 0.4786996 (899)\ttotal: 42.2s\tremaining: 4.63s\n",
            "999:\tlearn: 0.4826210\ttest: 0.4786363\tbest: 0.4786363 (999)\ttotal: 46.6s\tremaining: 0us\n",
            "bestTest = 0.4786363086\n",
            "bestIteration = 999\n",
            "Unique users in results: 4996\n",
            "(4996, 10)\n",
            "4996\n",
            "{'rank: 32': (0.06044835868694956, 0.02110259636280453, 0.04697169524196003), 'rank: 512': (0.012810248198558846, 0.0027372691804237043, 0.10652328294612966), 'rank: 1024': (0.006405124099279423, 0.001346235718733717, 0.17713300192756418), 'rank: 64': (0.048638911128903124, 0.013550602386671244, 0.052957289236075886), 'rank: 384': (0.01521216973578863, 0.0032455329342839356, 0.08988536065740083), 'rank: 192': (0.02502001601281025, 0.005505515523529934, 0.0685807040681749), 'rank: 256': (0.02241793434747798, 0.004777472771868288, 0.0763924114842244), 'rank: 1536': (0.0038030424339471577, 0.0008811017067622351, 0.2235974434412093), 'rank: 768': (0.009007205764611689, 0.0020882579079136323, 0.1392918737952724), 'rank: 128': (0.03482786228983187, 0.0073126755372552015, 0.06016029217814751), 'rank: 48': (0.05204163330664532, 0.015181828002084207, 0.05123262655980521), 'rank: 16': (0.05744595676541233, 0.02189847115787868, 0.03763822664096581), 'rank: 96': (0.03983186549239392, 0.00913286184503158, 0.05711676980825809), 'rank: 24': (0.05984787830264211, 0.02319816170396635, 0.04118900273917013)}\n"
          ]
        }
      ]
    },
    {
      "cell_type": "code",
      "source": [
        "tuning_res"
      ],
      "metadata": {
        "colab": {
          "base_uri": "https://localhost:8080/"
        },
        "id": "l1hqiHGakkjQ",
        "outputId": "57216a18-f64d-47ac-a6dc-9c029e7a3b32"
      },
      "execution_count": 100,
      "outputs": [
        {
          "output_type": "execute_result",
          "data": {
            "text/plain": [
              "{'rank: 1024': (0.006405124099279423,\n",
              "  0.001346235718733717,\n",
              "  0.17713300192756418),\n",
              " 'rank: 128': (0.03482786228983187,\n",
              "  0.0073126755372552015,\n",
              "  0.06016029217814751),\n",
              " 'rank: 1536': (0.0038030424339471577,\n",
              "  0.0008811017067622351,\n",
              "  0.2235974434412093),\n",
              " 'rank: 16': (0.05744595676541233, 0.02189847115787868, 0.03763822664096581),\n",
              " 'rank: 192': (0.02502001601281025, 0.005505515523529934, 0.0685807040681749),\n",
              " 'rank: 24': (0.05984787830264211, 0.02319816170396635, 0.04118900273917013),\n",
              " 'rank: 256': (0.02241793434747798, 0.004777472771868288, 0.0763924114842244),\n",
              " 'rank: 32': (0.06044835868694956, 0.02110259636280453, 0.04697169524196003),\n",
              " 'rank: 384': (0.01521216973578863,\n",
              "  0.0032455329342839356,\n",
              "  0.08988536065740083),\n",
              " 'rank: 48': (0.05204163330664532, 0.015181828002084207, 0.05123262655980521),\n",
              " 'rank: 512': (0.012810248198558846,\n",
              "  0.0027372691804237043,\n",
              "  0.10652328294612966),\n",
              " 'rank: 64': (0.048638911128903124,\n",
              "  0.013550602386671244,\n",
              "  0.052957289236075886),\n",
              " 'rank: 768': (0.009007205764611689,\n",
              "  0.0020882579079136323,\n",
              "  0.1392918737952724),\n",
              " 'rank: 96': (0.03983186549239392, 0.00913286184503158, 0.05711676980825809)}"
            ]
          },
          "metadata": {},
          "execution_count": 100
        }
      ]
    },
    {
      "cell_type": "markdown",
      "source": [
        "Add more features"
      ],
      "metadata": {
        "id": "sv_0VZxbNvAF"
      }
    },
    {
      "cell_type": "code",
      "source": [
        "# source_matrix = matrix_from_data(training, data_description)\n",
        "# _, _, vt = svds(source_matrix, k=16, return_singular_vectors='vh')"
      ],
      "metadata": {
        "id": "9QSr1s-JNy5T"
      },
      "execution_count": null,
      "outputs": []
    },
    {
      "cell_type": "code",
      "source": [
        "# vt.shape"
      ],
      "metadata": {
        "id": "NqH8LV1VOI1T"
      },
      "execution_count": null,
      "outputs": []
    },
    {
      "cell_type": "markdown",
      "metadata": {
        "id": "dKjsXnCdPIGY"
      },
      "source": [
        "# Tuning"
      ]
    },
    {
      "cell_type": "code",
      "execution_count": null,
      "metadata": {
        "id": "vYwTvmiePJ7n"
      },
      "outputs": [],
      "source": [
        ""
      ]
    },
    {
      "cell_type": "code",
      "execution_count": null,
      "metadata": {
        "id": "gtFlLkA2PKjj"
      },
      "outputs": [],
      "source": [
        ""
      ]
    },
    {
      "cell_type": "code",
      "execution_count": null,
      "metadata": {
        "id": "we2yCfgGPKoV"
      },
      "outputs": [],
      "source": [
        ""
      ]
    },
    {
      "cell_type": "markdown",
      "metadata": {
        "id": "MLAXC0s-PK0t"
      },
      "source": [
        "# Metrics"
      ]
    },
    {
      "cell_type": "code",
      "execution_count": null,
      "metadata": {
        "id": "RIoeXSluPXH1"
      },
      "outputs": [],
      "source": [
        ""
      ]
    },
    {
      "cell_type": "code",
      "execution_count": null,
      "metadata": {
        "id": "hJWehcK3PXgh"
      },
      "outputs": [],
      "source": [
        ""
      ]
    },
    {
      "cell_type": "code",
      "execution_count": null,
      "metadata": {
        "id": "8riCNkfDPXjL"
      },
      "outputs": [],
      "source": [
        ""
      ]
    }
  ],
  "metadata": {
    "colab": {
      "collapsed_sections": [],
      "name": "Untitled0.ipynb",
      "provenance": []
    },
    "kernelspec": {
      "display_name": "Python 3",
      "name": "python3"
    },
    "language_info": {
      "name": "python"
    },
    "widgets": {
      "application/vnd.jupyter.widget-state+json": {
        "df33efc403b64db7a279d1f69130655f": {
          "model_module": "@jupyter-widgets/controls",
          "model_name": "HBoxModel",
          "model_module_version": "1.5.0",
          "state": {
            "_dom_classes": [],
            "_model_module": "@jupyter-widgets/controls",
            "_model_module_version": "1.5.0",
            "_model_name": "HBoxModel",
            "_view_count": null,
            "_view_module": "@jupyter-widgets/controls",
            "_view_module_version": "1.5.0",
            "_view_name": "HBoxView",
            "box_style": "",
            "children": [
              "IPY_MODEL_ba5d43c1b8574cb1af8d1b330536b52f",
              "IPY_MODEL_b35ec24fd22b49fd8b38255451fc43b8",
              "IPY_MODEL_e957d0e43019458784afe28d19c0bd9d"
            ],
            "layout": "IPY_MODEL_e18d518e773a4a24bbf6c53005dea35e"
          }
        },
        "ba5d43c1b8574cb1af8d1b330536b52f": {
          "model_module": "@jupyter-widgets/controls",
          "model_name": "HTMLModel",
          "model_module_version": "1.5.0",
          "state": {
            "_dom_classes": [],
            "_model_module": "@jupyter-widgets/controls",
            "_model_module_version": "1.5.0",
            "_model_name": "HTMLModel",
            "_view_count": null,
            "_view_module": "@jupyter-widgets/controls",
            "_view_module_version": "1.5.0",
            "_view_name": "HTMLView",
            "description": "",
            "description_tooltip": null,
            "layout": "IPY_MODEL_4b8fbf02a86a4672ace1f9f13836bee0",
            "placeholder": "​",
            "style": "IPY_MODEL_9d7e6c9f34ee4a4cad833bf5fd364477",
            "value": "100%"
          }
        },
        "b35ec24fd22b49fd8b38255451fc43b8": {
          "model_module": "@jupyter-widgets/controls",
          "model_name": "FloatProgressModel",
          "model_module_version": "1.5.0",
          "state": {
            "_dom_classes": [],
            "_model_module": "@jupyter-widgets/controls",
            "_model_module_version": "1.5.0",
            "_model_name": "FloatProgressModel",
            "_view_count": null,
            "_view_module": "@jupyter-widgets/controls",
            "_view_module_version": "1.5.0",
            "_view_name": "ProgressView",
            "bar_style": "success",
            "description": "",
            "description_tooltip": null,
            "layout": "IPY_MODEL_05e8ab8b1b1c4c18b09620bcf6fb92b5",
            "max": 1,
            "min": 0,
            "orientation": "horizontal",
            "style": "IPY_MODEL_e74c6e7603a04f229054bc1059da6381",
            "value": 1
          }
        },
        "e957d0e43019458784afe28d19c0bd9d": {
          "model_module": "@jupyter-widgets/controls",
          "model_name": "HTMLModel",
          "model_module_version": "1.5.0",
          "state": {
            "_dom_classes": [],
            "_model_module": "@jupyter-widgets/controls",
            "_model_module_version": "1.5.0",
            "_model_name": "HTMLModel",
            "_view_count": null,
            "_view_module": "@jupyter-widgets/controls",
            "_view_module_version": "1.5.0",
            "_view_name": "HTMLView",
            "description": "",
            "description_tooltip": null,
            "layout": "IPY_MODEL_80a8013d5b034f5ca6b4ab4ac8943a28",
            "placeholder": "​",
            "style": "IPY_MODEL_845230555bd14955b1befa7b5d07ce45",
            "value": " 1/1 [00:01&lt;00:00,  1.67s/it]"
          }
        },
        "e18d518e773a4a24bbf6c53005dea35e": {
          "model_module": "@jupyter-widgets/base",
          "model_name": "LayoutModel",
          "model_module_version": "1.2.0",
          "state": {
            "_model_module": "@jupyter-widgets/base",
            "_model_module_version": "1.2.0",
            "_model_name": "LayoutModel",
            "_view_count": null,
            "_view_module": "@jupyter-widgets/base",
            "_view_module_version": "1.2.0",
            "_view_name": "LayoutView",
            "align_content": null,
            "align_items": null,
            "align_self": null,
            "border": null,
            "bottom": null,
            "display": null,
            "flex": null,
            "flex_flow": null,
            "grid_area": null,
            "grid_auto_columns": null,
            "grid_auto_flow": null,
            "grid_auto_rows": null,
            "grid_column": null,
            "grid_gap": null,
            "grid_row": null,
            "grid_template_areas": null,
            "grid_template_columns": null,
            "grid_template_rows": null,
            "height": null,
            "justify_content": null,
            "justify_items": null,
            "left": null,
            "margin": null,
            "max_height": null,
            "max_width": null,
            "min_height": null,
            "min_width": null,
            "object_fit": null,
            "object_position": null,
            "order": null,
            "overflow": null,
            "overflow_x": null,
            "overflow_y": null,
            "padding": null,
            "right": null,
            "top": null,
            "visibility": null,
            "width": null
          }
        },
        "4b8fbf02a86a4672ace1f9f13836bee0": {
          "model_module": "@jupyter-widgets/base",
          "model_name": "LayoutModel",
          "model_module_version": "1.2.0",
          "state": {
            "_model_module": "@jupyter-widgets/base",
            "_model_module_version": "1.2.0",
            "_model_name": "LayoutModel",
            "_view_count": null,
            "_view_module": "@jupyter-widgets/base",
            "_view_module_version": "1.2.0",
            "_view_name": "LayoutView",
            "align_content": null,
            "align_items": null,
            "align_self": null,
            "border": null,
            "bottom": null,
            "display": null,
            "flex": null,
            "flex_flow": null,
            "grid_area": null,
            "grid_auto_columns": null,
            "grid_auto_flow": null,
            "grid_auto_rows": null,
            "grid_column": null,
            "grid_gap": null,
            "grid_row": null,
            "grid_template_areas": null,
            "grid_template_columns": null,
            "grid_template_rows": null,
            "height": null,
            "justify_content": null,
            "justify_items": null,
            "left": null,
            "margin": null,
            "max_height": null,
            "max_width": null,
            "min_height": null,
            "min_width": null,
            "object_fit": null,
            "object_position": null,
            "order": null,
            "overflow": null,
            "overflow_x": null,
            "overflow_y": null,
            "padding": null,
            "right": null,
            "top": null,
            "visibility": null,
            "width": null
          }
        },
        "9d7e6c9f34ee4a4cad833bf5fd364477": {
          "model_module": "@jupyter-widgets/controls",
          "model_name": "DescriptionStyleModel",
          "model_module_version": "1.5.0",
          "state": {
            "_model_module": "@jupyter-widgets/controls",
            "_model_module_version": "1.5.0",
            "_model_name": "DescriptionStyleModel",
            "_view_count": null,
            "_view_module": "@jupyter-widgets/base",
            "_view_module_version": "1.2.0",
            "_view_name": "StyleView",
            "description_width": ""
          }
        },
        "05e8ab8b1b1c4c18b09620bcf6fb92b5": {
          "model_module": "@jupyter-widgets/base",
          "model_name": "LayoutModel",
          "model_module_version": "1.2.0",
          "state": {
            "_model_module": "@jupyter-widgets/base",
            "_model_module_version": "1.2.0",
            "_model_name": "LayoutModel",
            "_view_count": null,
            "_view_module": "@jupyter-widgets/base",
            "_view_module_version": "1.2.0",
            "_view_name": "LayoutView",
            "align_content": null,
            "align_items": null,
            "align_self": null,
            "border": null,
            "bottom": null,
            "display": null,
            "flex": null,
            "flex_flow": null,
            "grid_area": null,
            "grid_auto_columns": null,
            "grid_auto_flow": null,
            "grid_auto_rows": null,
            "grid_column": null,
            "grid_gap": null,
            "grid_row": null,
            "grid_template_areas": null,
            "grid_template_columns": null,
            "grid_template_rows": null,
            "height": null,
            "justify_content": null,
            "justify_items": null,
            "left": null,
            "margin": null,
            "max_height": null,
            "max_width": null,
            "min_height": null,
            "min_width": null,
            "object_fit": null,
            "object_position": null,
            "order": null,
            "overflow": null,
            "overflow_x": null,
            "overflow_y": null,
            "padding": null,
            "right": null,
            "top": null,
            "visibility": null,
            "width": null
          }
        },
        "e74c6e7603a04f229054bc1059da6381": {
          "model_module": "@jupyter-widgets/controls",
          "model_name": "ProgressStyleModel",
          "model_module_version": "1.5.0",
          "state": {
            "_model_module": "@jupyter-widgets/controls",
            "_model_module_version": "1.5.0",
            "_model_name": "ProgressStyleModel",
            "_view_count": null,
            "_view_module": "@jupyter-widgets/base",
            "_view_module_version": "1.2.0",
            "_view_name": "StyleView",
            "bar_color": null,
            "description_width": ""
          }
        },
        "80a8013d5b034f5ca6b4ab4ac8943a28": {
          "model_module": "@jupyter-widgets/base",
          "model_name": "LayoutModel",
          "model_module_version": "1.2.0",
          "state": {
            "_model_module": "@jupyter-widgets/base",
            "_model_module_version": "1.2.0",
            "_model_name": "LayoutModel",
            "_view_count": null,
            "_view_module": "@jupyter-widgets/base",
            "_view_module_version": "1.2.0",
            "_view_name": "LayoutView",
            "align_content": null,
            "align_items": null,
            "align_self": null,
            "border": null,
            "bottom": null,
            "display": null,
            "flex": null,
            "flex_flow": null,
            "grid_area": null,
            "grid_auto_columns": null,
            "grid_auto_flow": null,
            "grid_auto_rows": null,
            "grid_column": null,
            "grid_gap": null,
            "grid_row": null,
            "grid_template_areas": null,
            "grid_template_columns": null,
            "grid_template_rows": null,
            "height": null,
            "justify_content": null,
            "justify_items": null,
            "left": null,
            "margin": null,
            "max_height": null,
            "max_width": null,
            "min_height": null,
            "min_width": null,
            "object_fit": null,
            "object_position": null,
            "order": null,
            "overflow": null,
            "overflow_x": null,
            "overflow_y": null,
            "padding": null,
            "right": null,
            "top": null,
            "visibility": null,
            "width": null
          }
        },
        "845230555bd14955b1befa7b5d07ce45": {
          "model_module": "@jupyter-widgets/controls",
          "model_name": "DescriptionStyleModel",
          "model_module_version": "1.5.0",
          "state": {
            "_model_module": "@jupyter-widgets/controls",
            "_model_module_version": "1.5.0",
            "_model_name": "DescriptionStyleModel",
            "_view_count": null,
            "_view_module": "@jupyter-widgets/base",
            "_view_module_version": "1.2.0",
            "_view_name": "StyleView",
            "description_width": ""
          }
        }
      }
    },
    "accelerator": "GPU",
    "gpuClass": "standard"
  },
  "nbformat": 4,
  "nbformat_minor": 0
}