{
 "cells": [
  {
   "cell_type": "code",
   "execution_count": 2,
   "id": "f41ed8bb",
   "metadata": {},
   "outputs": [],
   "source": [
    "import scipy.sparse as sparse\n",
    "from scipy.sparse.linalg import spsolve\n",
    "from sklearn.preprocessing import MinMaxScaler\n",
    "\n",
    "import json\n",
    "import os\n",
    "import typing as tp\n",
    "from datetime import date, datetime\n",
    "\n",
    "import numpy as np\n",
    "import optuna\n",
    "import pandas as pd\n",
    "# from common_metrics.metrics.recsys import MAP, HitRate, NDCG, PrecisionRecall\n",
    "from loguru import logger\n",
    "from scipy import sparse\n",
    "from sklearn.preprocessing import normalize\n",
    "from tqdm import tqdm"
   ]
  },
  {
   "cell_type": "code",
   "execution_count": 3,
   "id": "3de005de",
   "metadata": {},
   "outputs": [],
   "source": [
    "train1 = pd.read_csv('../data/train1level.csv')\n",
    "test1 = pd.read_csv('../data/test1level.csv')\n",
    "holdout1 = pd.read_csv('../data/holdout1level.csv')"
   ]
  },
  {
   "cell_type": "code",
   "execution_count": 4,
   "id": "2f811d88",
   "metadata": {},
   "outputs": [],
   "source": [
    "items = train1.movieid.unique()\n",
    "test1 = test1[test1.movieid.isin(items)]\n",
    "users_test = test1.userid.unique()\n",
    "holdout1 = holdout1[holdout1.userid.isin(users_test)]"
   ]
  },
  {
   "cell_type": "code",
   "execution_count": 5,
   "id": "b56e5cf9",
   "metadata": {},
   "outputs": [],
   "source": [
    "def load_train_data(\n",
    "        train_data: pd.DataFrame\n",
    ") -> sparse.csr_matrix:\n",
    "    \"\"\"\n",
    "    Creates csr_matrix for train\n",
    "    \"\"\"\n",
    "    \n",
    "    n_items = max(train_data.movieid) + 1\n",
    "    n_users = max(train_data.userid) + 1\n",
    "    rows, cols = train_data[\"userid\"], train_data[\"movieid\"]\n",
    "    data = sparse.csr_matrix((np.ones_like(rows), (rows, cols)), dtype=\"float64\", shape=(n_users, n_items))\n",
    "    return data"
   ]
  },
  {
   "cell_type": "code",
   "execution_count": 6,
   "id": "96a42713",
   "metadata": {},
   "outputs": [
    {
     "name": "stderr",
     "output_type": "stream",
     "text": [
      "2022-07-11 09:37:38.713 | INFO     | __main__:<cell line: 4>:4 - data ready\n"
     ]
    }
   ],
   "source": [
    "data = load_train_data(train1)\n",
    "test = load_train_data(test1)\n",
    "\n",
    "logger.info(\"data ready\")"
   ]
  },
  {
   "cell_type": "code",
   "execution_count": 25,
   "id": "1f8a7aae",
   "metadata": {},
   "outputs": [
    {
     "name": "stderr",
     "output_type": "stream",
     "text": [
      "100%|█████████████████████████████████████████████████████████████████████████████████████████████████████████████████| 10/10 [43:33<00:00, 261.32s/it]\n"
     ]
    }
   ],
   "source": [
    "def nonzeros(m, row):\n",
    "    for index in range(m.indptr[row], m.indptr[row+1]):\n",
    "        yield m.indices[index], m.data[index]\n",
    "      \n",
    "      \n",
    "def implicit_als_cg(Cui, features=20, iterations=20, lambda_val=0.1):\n",
    "    user_size, item_size = Cui.shape\n",
    "\n",
    "    X = np.random.rand(user_size, features) * 0.01\n",
    "    Y = np.random.rand(item_size, features) * 0.01\n",
    "\n",
    "    Cui, Ciu = Cui.tocsr(), Cui.T.tocsr()\n",
    "\n",
    "    for iteration in tqdm(range(iterations)):\n",
    "        least_squares_cg(Cui, X, Y, lambda_val)\n",
    "        least_squares_cg(Ciu, Y, X, lambda_val)\n",
    "    \n",
    "    return sparse.csr_matrix(X), sparse.csr_matrix(Y)\n",
    "  \n",
    "    \n",
    "def least_squares_cg(Cui, X, Y, lambda_val, cg_steps=3):\n",
    "    users, features = X.shape\n",
    "\n",
    "    YtY = Y.T.dot(Y) + lambda_val * np.eye(features)\n",
    "\n",
    "    for u in range(users):\n",
    "\n",
    "        x = X[u]\n",
    "        r = -YtY.dot(x)\n",
    "\n",
    "        for i, confidence in nonzeros(Cui, u): \n",
    "            r += (confidence - (confidence - 1) * Y[i].dot(x)) * Y[i]\n",
    "\n",
    "        p = r.copy()\n",
    "        rsold = r.dot(r)\n",
    "\n",
    "        for it in range(cg_steps):\n",
    "            Ap = YtY.dot(p)\n",
    "            for i, confidence in nonzeros(Cui, u):\n",
    "                Ap += (confidence - 1) * Y[i].dot(p) * Y[i]\n",
    "\n",
    "            alpha = rsold / p.dot(Ap)\n",
    "            x += alpha * p\n",
    "            r -= alpha * Ap\n",
    "\n",
    "            rsnew = r.dot(r)\n",
    "            p = r + (rsnew / rsold) * p\n",
    "            rsold = rsnew\n",
    "\n",
    "        X[u] = x\n",
    "\n",
    "alpha_val = 15\n",
    "conf_data = (data * alpha_val).astype('double')\n",
    "user_vecs, item_vecs = implicit_als_cg(conf_data, iterations=10, features=20)"
   ]
  },
  {
   "cell_type": "code",
   "execution_count": 26,
   "id": "b07db895",
   "metadata": {},
   "outputs": [
    {
     "name": "stderr",
     "output_type": "stream",
     "text": [
      "100%|██████████████████████████████████████████████████████████████████████████████████████████████████████████████████| 10/10 [01:09<00:00,  6.94s/it]\n"
     ]
    }
   ],
   "source": [
    "def nonzeros(m, row):\n",
    "    for index in range(m.indptr[row], m.indptr[row+1]):\n",
    "        yield m.indices[index], m.data[index]\n",
    "      \n",
    "      \n",
    "def implicit_als_cg(Cui, Y, features=20, iterations=20, lambda_val=0.1):\n",
    "    user_size, item_size = Cui.shape\n",
    "\n",
    "    X = np.random.rand(user_size, features) * 0.01\n",
    "#     Y = np.random.rand(item_size, features) * 0.01\n",
    "\n",
    "    Cui, Ciu = Cui.tocsr(), Cui.T.tocsr()\n",
    "\n",
    "    for iteration in tqdm(range(iterations)):\n",
    "#         print 'iteration %d of %d' % (iteration+1, iterations)\n",
    "        least_squares_cg(Cui, X, Y, lambda_val)\n",
    "#         least_squares_cg(Ciu, Y, X, lambda_val)\n",
    "    \n",
    "    return sparse.csr_matrix(X), sparse.csr_matrix(Y)\n",
    "  \n",
    "    \n",
    "def least_squares_cg(Cui, X, Y, lambda_val, cg_steps=3):\n",
    "    users, features = X.shape\n",
    "\n",
    "    YtY = Y.T.dot(Y) + lambda_val * np.eye(features)\n",
    "\n",
    "    for u in range(users):\n",
    "\n",
    "        x = X[u]\n",
    "        r = -YtY.dot(x)\n",
    "\n",
    "        for i, confidence in nonzeros(Cui, u):\n",
    "            r += (confidence - (confidence - 1) * Y[i].dot(x)) * Y[i]\n",
    "\n",
    "        p = r.copy()\n",
    "        rsold = r.dot(r)\n",
    "\n",
    "        for it in range(cg_steps):\n",
    "            Ap = YtY.dot(p)\n",
    "            for i, confidence in nonzeros(Cui, u):\n",
    "                Ap += (confidence - 1) * Y[i].dot(p) * Y[i]\n",
    "\n",
    "            alpha = rsold / p.dot(Ap)\n",
    "            x += alpha * p\n",
    "            r -= alpha * Ap\n",
    "\n",
    "            rsnew = r.dot(r)\n",
    "            p = r + (rsnew / rsold) * p\n",
    "            rsold = rsnew\n",
    "\n",
    "        X[u] = x\n",
    "\n",
    "alpha_val = 15\n",
    "conf_data = (test * alpha_val).astype('double')\n",
    "user_vecs, item_vecs = implicit_als_cg(conf_data, item_vecs.toarray(), iterations=10, features=20)"
   ]
  },
  {
   "cell_type": "code",
   "execution_count": 27,
   "id": "014ca060",
   "metadata": {},
   "outputs": [],
   "source": [
    "AA_ials = user_vecs.dot(item_vecs.T)"
   ]
  },
  {
   "cell_type": "code",
   "execution_count": 28,
   "id": "328d4e4c",
   "metadata": {},
   "outputs": [
    {
     "data": {
      "text/plain": [
       "(4048, 9577)"
      ]
     },
     "execution_count": 28,
     "metadata": {},
     "output_type": "execute_result"
    }
   ],
   "source": [
    "AA_ials.shape"
   ]
  },
  {
   "cell_type": "code",
   "execution_count": 29,
   "id": "5f4e5eac",
   "metadata": {},
   "outputs": [
    {
     "data": {
      "text/plain": [
       "array([[ 3.64546247e-01,  1.58374819e-01,  6.73668254e-02, ...,\n",
       "         6.65971554e-10,  9.19521758e-04,  8.29918317e-03],\n",
       "       [ 1.71671574e-01,  4.82837509e-02,  1.85174768e-01, ...,\n",
       "         6.04214690e-10,  2.11284335e-03,  1.72451423e-02],\n",
       "       [ 9.05439862e-05,  1.11235490e-03,  1.03627991e-03, ...,\n",
       "         9.09000282e-11,  1.79611884e-04,  1.23088042e-03],\n",
       "       ...,\n",
       "       [ 5.97558033e-01,  6.14115244e-01,  2.56316868e-01, ...,\n",
       "         1.62605625e-09,  2.12360220e-03,  2.53384295e-02],\n",
       "       [ 1.13762776e+00,  1.03432590e+00,  6.10457864e-01, ...,\n",
       "         1.61390623e-09,  3.80733507e-03,  3.05354072e-02],\n",
       "       [ 4.52109633e-02, -3.37236162e-02,  1.46415954e-02, ...,\n",
       "         1.91657593e-09,  1.72518581e-03,  2.09891007e-02]])"
      ]
     },
     "execution_count": 29,
     "metadata": {},
     "output_type": "execute_result"
    }
   ],
   "source": [
    "AA_ials.toarray()"
   ]
  },
  {
   "cell_type": "code",
   "execution_count": 30,
   "id": "4f4185af",
   "metadata": {},
   "outputs": [],
   "source": [
    "def HR(scores, holdout1, count_of_rec = 10):\n",
    "    count_of_true_rec = 0\n",
    "    pred_array = np.argsort(-scores)[:, :count_of_rec]\n",
    "    for index, row in holdout1.iterrows():\n",
    "        movie = row.movieid\n",
    "#         print(movie)\n",
    "        recommend = pred_array[index]\n",
    "        if movie in recommend:\n",
    "            count_of_true_rec += 1\n",
    "    return count_of_true_rec / len(holdout1)"
   ]
  },
  {
   "cell_type": "code",
   "execution_count": 31,
   "id": "cf9ecc1f",
   "metadata": {},
   "outputs": [
    {
     "data": {
      "text/plain": [
       "0.027527527527527528"
      ]
     },
     "execution_count": 31,
     "metadata": {},
     "output_type": "execute_result"
    }
   ],
   "source": [
    "hr = HR(AA_ials.toarray(), holdout1)\n",
    "hr"
   ]
  },
  {
   "cell_type": "code",
   "execution_count": null,
   "id": "2d309231",
   "metadata": {},
   "outputs": [],
   "source": []
  }
 ],
 "metadata": {
  "kernelspec": {
   "display_name": "Python 3 (ipykernel)",
   "language": "python",
   "name": "python3"
  },
  "language_info": {
   "codemirror_mode": {
    "name": "ipython",
    "version": 3
   },
   "file_extension": ".py",
   "mimetype": "text/x-python",
   "name": "python",
   "nbconvert_exporter": "python",
   "pygments_lexer": "ipython3",
   "version": "3.9.12"
  }
 },
 "nbformat": 4,
 "nbformat_minor": 5
}
