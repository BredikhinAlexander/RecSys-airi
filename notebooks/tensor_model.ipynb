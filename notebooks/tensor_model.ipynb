{
 "cells": [
  {
   "cell_type": "code",
   "execution_count": 2,
   "id": "d5886e00",
   "metadata": {
    "ExecuteTime": {
     "end_time": "2022-07-13T08:18:51.695707Z",
     "start_time": "2022-07-13T08:18:51.582563Z"
    }
   },
   "outputs": [],
   "source": [
    "import json\n",
    "import os\n",
    "import typing as tp\n",
    "from datetime import date, datetime\n",
    "\n",
    "import numpy as np\n",
    "import optuna\n",
    "import pandas as pd\n",
    "\n",
    "from loguru import logger\n",
    "from scipy import sparse\n",
    "from sklearn.preprocessing import normalize\n",
    "from tqdm import tqdm"
   ]
  },
  {
   "cell_type": "code",
   "execution_count": 3,
   "id": "86b971b9",
   "metadata": {
    "ExecuteTime": {
     "end_time": "2022-07-13T08:18:58.591637Z",
     "start_time": "2022-07-13T08:18:56.411512Z"
    }
   },
   "outputs": [],
   "source": [
    "train1 = pd.read_csv('../data/train1level.csv')\n",
    "test1 = pd.read_csv('../data/test1level.csv')\n",
    "holdout1 = pd.read_csv('../data/holdout1level.csv')"
   ]
  },
  {
   "cell_type": "code",
   "execution_count": 4,
   "id": "50a22feb",
   "metadata": {
    "ExecuteTime": {
     "end_time": "2022-07-13T08:19:00.817918Z",
     "start_time": "2022-07-13T08:19:00.723329Z"
    }
   },
   "outputs": [],
   "source": [
    "items = train1.movieid.unique()\n",
    "test1 = test1[test1.movieid.isin(items)]\n",
    "users_test = test1.userid.unique()\n",
    "holdout1 = holdout1[holdout1.userid.isin(users_test)]"
   ]
  },
  {
   "cell_type": "code",
   "execution_count": 5,
   "id": "db525be0",
   "metadata": {
    "ExecuteTime": {
     "end_time": "2022-07-13T08:19:02.541823Z",
     "start_time": "2022-07-13T08:19:02.363796Z"
    }
   },
   "outputs": [],
   "source": [
    "train1['rating'], rating_idx_map = pd.factorize(train1['rating'], sort=True)"
   ]
  },
  {
   "cell_type": "code",
   "execution_count": 6,
   "id": "d007cbf8",
   "metadata": {
    "ExecuteTime": {
     "end_time": "2022-07-13T08:19:02.781945Z",
     "start_time": "2022-07-13T08:19:02.772755Z"
    }
   },
   "outputs": [],
   "source": [
    "test1['rating'], rating_idx_map = pd.factorize(test1['rating'], sort=True)"
   ]
  },
  {
   "cell_type": "code",
   "execution_count": 7,
   "id": "dd817558",
   "metadata": {
    "ExecuteTime": {
     "end_time": "2022-07-13T08:19:03.269902Z",
     "start_time": "2022-07-13T08:19:03.259933Z"
    }
   },
   "outputs": [
    {
     "data": {
      "text/plain": [
       "Float64Index([0.5, 1.0, 1.5, 2.0, 2.5, 3.0, 3.5, 4.0, 4.5, 5.0], dtype='float64')"
      ]
     },
     "execution_count": 7,
     "metadata": {},
     "output_type": "execute_result"
    }
   ],
   "source": [
    "rating_idx_map"
   ]
  },
  {
   "cell_type": "code",
   "execution_count": 8,
   "id": "23e703df",
   "metadata": {
    "ExecuteTime": {
     "end_time": "2022-07-13T08:19:04.574414Z",
     "start_time": "2022-07-13T08:19:04.567078Z"
    }
   },
   "outputs": [
    {
     "data": {
      "text/plain": [
       "array([5, 3, 9, 0, 8, 7, 6, 4, 2, 1])"
      ]
     },
     "execution_count": 8,
     "metadata": {},
     "output_type": "execute_result"
    }
   ],
   "source": [
    "test1['rating'].unique()"
   ]
  },
  {
   "cell_type": "code",
   "execution_count": 9,
   "id": "768019a5",
   "metadata": {
    "ExecuteTime": {
     "end_time": "2022-07-13T08:19:20.053683Z",
     "start_time": "2022-07-13T08:19:18.770023Z"
    }
   },
   "outputs": [],
   "source": [
    "import numpy as np\n",
    "from scipy.sparse.linalg import svds\n",
    "from polara.lib.sparse import dttm_seq, dttm_par\n",
    "from polara.lib.sparse import arrange_indices\n",
    "from polara.tools.display import log_status"
   ]
  },
  {
   "cell_type": "code",
   "execution_count": 10,
   "id": "06df06e2",
   "metadata": {
    "ExecuteTime": {
     "end_time": "2022-07-13T08:19:53.305151Z",
     "start_time": "2022-07-13T08:19:53.284777Z"
    }
   },
   "outputs": [],
   "source": [
    "def core_growth_callback(growth_tol, verbose=True):\n",
    "    def check_core_growth(step, core, factors):\n",
    "        singular_values, _ = core\n",
    "        core_norm = np.linalg.norm(singular_values)\n",
    "        g_growth = (core_norm - check_core_growth.core_norm) / core_norm\n",
    "        check_core_growth.core_norm = core_norm\n",
    "        log_status(f'growth of the core: {g_growth}')\n",
    "        if g_growth < growth_tol:\n",
    "            log_status(f'Core is no longer growing. Norm of the core: {core_norm}.', verbose=verbose)\n",
    "            raise StopIteration\n",
    "    check_core_growth.core_norm = 0\n",
    "    return check_core_growth\n",
    "\n",
    "\n",
    "def ttm3d_seq(idx, val, shape, U, V, modes, dtype=None):\n",
    "    mode1, mat_mode1 = modes[0]\n",
    "    mode2, mat_mode2 = modes[1]\n",
    "\n",
    "    u = U.T if mat_mode1 == 1 else U\n",
    "    v = V.T if mat_mode2 == 1 else V\n",
    "\n",
    "    mode0, = [x for x in (0, 1, 2) if x not in (mode1, mode2)]\n",
    "    new_shape = (shape[mode0], U.shape[1-mat_mode1], V.shape[1-mat_mode2])\n",
    "\n",
    "    res = np.zeros(new_shape, dtype=dtype)\n",
    "    dttm_seq(idx, val, u, v, mode0, mode1, mode2, res)\n",
    "    return res\n",
    "\n",
    "\n",
    "def ttm3d_par(idx, val, shape, U, V, modes, unqs, inds, dtype=None):\n",
    "    mode1, mat_mode1 = modes[0]\n",
    "    mode2, mat_mode2 = modes[1]\n",
    "\n",
    "    u = U.T if mat_mode1 == 1 else U\n",
    "    v = V.T if mat_mode2 == 1 else V\n",
    "\n",
    "    mode0, = [x for x in (0, 1, 2) if x not in (mode1, mode2)]\n",
    "    new_shape = (shape[mode0], U.shape[1-mat_mode1], V.shape[1-mat_mode2])\n",
    "\n",
    "    res = np.zeros(new_shape, dtype=dtype)\n",
    "    dttm_par(idx, val, u, v, mode1, mode2, unqs, inds, res)\n",
    "    return res\n",
    "\n",
    "\n",
    "def initialize_factors(dims, ranks, seed):\n",
    "    random_state = np.random if seed is None else np.random.RandomState(seed)\n",
    "    factors = []\n",
    "    for dim, rank in zip(dims, ranks):\n",
    "        u_rnd = random_state.rand(dim, rank)\n",
    "        u = np.linalg.qr(u_rnd, mode='reduced')[0]\n",
    "        factors.append(u)\n",
    "    return factors\n",
    "\n",
    "\n",
    "def hooi(idx, val, shape, core_shape, return_core=True, num_iters=4,\n",
    "         parallel_ttm=False, growth_tol=0.001, iter_callback=None,\n",
    "         verbose=True, seed=None):\n",
    "    '''\n",
    "    Compute Tucker decomposition of a sparse tensor in COO format\n",
    "    with the help of HOOI algorithm. Usage:\n",
    "    u0, u1, u2, g = hooi(idx, val, shape, core_shape)\n",
    "    '''\n",
    "    tensor_data = idx, val, shape\n",
    "    if not isinstance(parallel_ttm, (list, tuple)):\n",
    "        parallel_ttm = [parallel_ttm] * len(shape)\n",
    "\n",
    "    assert len(shape) == len(parallel_ttm)\n",
    "\n",
    "    index_data = arrange_indices(idx, parallel_ttm)\n",
    "    ttm = [ttm3d_par if par else ttm3d_seq for par in parallel_ttm]\n",
    "\n",
    "    if iter_callback is None:\n",
    "        iter_callback = core_growth_callback(growth_tol, verbose=verbose)\n",
    "    iter_callback.stop_reason = 'Exceeded max iterations limit.'\n",
    "\n",
    "    u1, u2 = initialize_factors(shape[1:], core_shape[1:], seed)\n",
    "    g = None\n",
    "    r0, r1, r2 = core_shape\n",
    "    return_core_vectors = True if return_core else 'u'\n",
    "    for i in range(num_iters):\n",
    "        log_status('Step %i of %i' % (i+1, num_iters), verbose=verbose)\n",
    "\n",
    "        u0 = ttm[0](*tensor_data, u2, u1, ((2, 0), (1, 0)), *index_data[0]).reshape(shape[0], r1*r2)\n",
    "        uu, *_ = svds(u0, k=r0, return_singular_vectors='u')\n",
    "        u0 = np.ascontiguousarray(uu[:, ::-1])\n",
    "\n",
    "        u1 = ttm[1](*tensor_data, u2, u0, ((2, 0), (0, 0)), *index_data[1]).reshape(shape[1], r0*r2)\n",
    "        uu, *_ = svds(u1, k=r1, return_singular_vectors='u')\n",
    "        u1 = np.ascontiguousarray(uu[:, ::-1])\n",
    "\n",
    "        u2 = ttm[2](*tensor_data, u1, u0, ((1, 0), (0, 0)), *index_data[2]).reshape(shape[2], r0*r1)\n",
    "        uu, *core = svds(u2, k=r2, return_singular_vectors=return_core_vectors)\n",
    "        u2 = np.ascontiguousarray(uu[:, ::-1])\n",
    "\n",
    "        try:\n",
    "            iter_callback(i, core, (u0, u1, u2))\n",
    "        except StopIteration:\n",
    "            iter_callback.stop_reason = 'Stopping criteria met.'\n",
    "            break\n",
    "\n",
    "    if return_core:\n",
    "        ss, vv = core\n",
    "        g = (\n",
    "            np.ascontiguousarray((ss[:, np.newaxis] * vv)[::-1, :])\n",
    "            .reshape(r2, r1, r0)\n",
    "            .transpose(2, 1, 0)\n",
    "        )\n",
    "    log_status('Done')\n",
    "    return u0, u1, u2, g"
   ]
  },
  {
   "cell_type": "code",
   "execution_count": 11,
   "id": "52aa4a37",
   "metadata": {
    "ExecuteTime": {
     "end_time": "2022-07-13T08:20:07.005978Z",
     "start_time": "2022-07-13T08:20:05.632324Z"
    }
   },
   "outputs": [],
   "source": [
    "train = train1.drop(['timestamp'], axis=1)\n",
    "idx = train.values\n",
    "val = np.ones(idx.shape[0])\n",
    "n_items = len(items)  # max(train1.movieid) \n",
    "n_users = max(train1.userid) \n",
    "shape = [n_users, n_items, 10]\n",
    "core_shape = [70, 70,  5]"
   ]
  },
  {
   "cell_type": "code",
   "execution_count": 12,
   "id": "7ad98f50",
   "metadata": {
    "ExecuteTime": {
     "end_time": "2022-07-13T08:20:08.940531Z",
     "start_time": "2022-07-13T08:20:08.936451Z"
    }
   },
   "outputs": [
    {
     "data": {
      "text/plain": [
       "(7368284, 3)"
      ]
     },
     "execution_count": 12,
     "metadata": {},
     "output_type": "execute_result"
    }
   ],
   "source": [
    "idx.shape"
   ]
  },
  {
   "cell_type": "code",
   "execution_count": 13,
   "id": "7567f408",
   "metadata": {
    "ExecuteTime": {
     "end_time": "2022-07-13T08:20:11.685047Z",
     "start_time": "2022-07-13T08:20:11.681093Z"
    }
   },
   "outputs": [
    {
     "data": {
      "text/plain": [
       "(7368284,)"
      ]
     },
     "execution_count": 13,
     "metadata": {},
     "output_type": "execute_result"
    }
   ],
   "source": [
    "val.shape"
   ]
  },
  {
   "cell_type": "code",
   "execution_count": 14,
   "id": "6a999439",
   "metadata": {
    "ExecuteTime": {
     "end_time": "2022-07-13T08:22:54.149796Z",
     "start_time": "2022-07-13T08:20:15.537991Z"
    }
   },
   "outputs": [
    {
     "name": "stdout",
     "output_type": "stream",
     "text": [
      "Step 1 of 4\n",
      "growth of the core: 1.0\n",
      "Step 2 of 4\n",
      "growth of the core: 0.2009608051839468\n",
      "Step 3 of 4\n",
      "growth of the core: 0.0151839099928466\n",
      "Step 4 of 4\n",
      "growth of the core: 0.00269574297867928\n",
      "Done\n"
     ]
    }
   ],
   "source": [
    "u0, u1, u2, g = hooi(idx, val, shape, core_shape, num_iters=4, verbose=True, seed=1509)"
   ]
  },
  {
   "cell_type": "code",
   "execution_count": 15,
   "id": "b7d0910c",
   "metadata": {
    "ExecuteTime": {
     "end_time": "2022-07-13T08:23:17.507609Z",
     "start_time": "2022-07-13T08:23:17.503127Z"
    }
   },
   "outputs": [
    {
     "data": {
      "text/plain": [
       "(9576, 70)"
      ]
     },
     "execution_count": 15,
     "metadata": {},
     "output_type": "execute_result"
    }
   ],
   "source": [
    "u1.shape"
   ]
  },
  {
   "cell_type": "code",
   "execution_count": 16,
   "id": "41f60029",
   "metadata": {
    "ExecuteTime": {
     "end_time": "2022-07-13T08:23:17.961311Z",
     "start_time": "2022-07-13T08:23:17.957305Z"
    }
   },
   "outputs": [
    {
     "data": {
      "text/plain": [
       "(10, 5)"
      ]
     },
     "execution_count": 16,
     "metadata": {},
     "output_type": "execute_result"
    }
   ],
   "source": [
    "u2.shape"
   ]
  },
  {
   "cell_type": "code",
   "execution_count": 17,
   "id": "eb3d7fb6",
   "metadata": {
    "ExecuteTime": {
     "end_time": "2022-07-13T08:23:18.581458Z",
     "start_time": "2022-07-13T08:23:18.576875Z"
    }
   },
   "outputs": [
    {
     "data": {
      "text/plain": [
       "(64679, 70)"
      ]
     },
     "execution_count": 17,
     "metadata": {},
     "output_type": "execute_result"
    }
   ],
   "source": [
    "u0.shape"
   ]
  },
  {
   "cell_type": "code",
   "execution_count": 18,
   "id": "89ce8ae2",
   "metadata": {
    "ExecuteTime": {
     "end_time": "2022-07-13T08:23:19.465406Z",
     "start_time": "2022-07-13T08:23:19.462376Z"
    }
   },
   "outputs": [],
   "source": [
    "current_u2 = u2[-3:, :]"
   ]
  },
  {
   "cell_type": "code",
   "execution_count": 21,
   "id": "c997af39",
   "metadata": {
    "ExecuteTime": {
     "end_time": "2022-07-13T08:28:03.775091Z",
     "start_time": "2022-07-13T08:28:02.994601Z"
    }
   },
   "outputs": [
    {
     "data": {
      "text/plain": [
       "(9576, 9576)"
      ]
     },
     "execution_count": 21,
     "metadata": {},
     "output_type": "execute_result"
    }
   ],
   "source": [
    "V_VT = u1 @ u1.T\n",
    "V_VT.shape"
   ]
  },
  {
   "cell_type": "code",
   "execution_count": 23,
   "id": "178b1f0e",
   "metadata": {
    "ExecuteTime": {
     "end_time": "2022-07-13T08:28:50.604079Z",
     "start_time": "2022-07-13T08:28:50.600133Z"
    }
   },
   "outputs": [
    {
     "data": {
      "text/plain": [
       "(9350,)"
      ]
     },
     "execution_count": 23,
     "metadata": {},
     "output_type": "execute_result"
    }
   ],
   "source": [
    "items.shape"
   ]
  },
  {
   "cell_type": "code",
   "execution_count": 20,
   "id": "6a3b224c",
   "metadata": {
    "ExecuteTime": {
     "end_time": "2022-07-13T08:26:08.274175Z",
     "start_time": "2022-07-13T08:26:08.235660Z"
    }
   },
   "outputs": [
    {
     "name": "stdout",
     "output_type": "stream",
     "text": [
      "(1, 9436)\n"
     ]
    }
   ],
   "source": [
    "\n",
    "for user in test1.userid.unique():\n",
    "    current_test = test1[test1['userid'] == user]\n",
    "    current_mat = load_train_data(current_test)\n",
    "    print(current_mat.shape)\n",
    "    break"
   ]
  },
  {
   "cell_type": "code",
   "execution_count": 99,
   "id": "04305fcc",
   "metadata": {},
   "outputs": [],
   "source": [
    "\n",
    "W_WT = current_u2 @ current_u2.T"
   ]
  },
  {
   "cell_type": "code",
   "execution_count": 19,
   "id": "7dc0582d",
   "metadata": {
    "ExecuteTime": {
     "end_time": "2022-07-13T08:25:45.268398Z",
     "start_time": "2022-07-13T08:25:45.264154Z"
    }
   },
   "outputs": [],
   "source": [
    "def load_train_data(\n",
    "        train_data: pd.DataFrame\n",
    ") -> sparse.csr_matrix:\n",
    "    \"\"\"\n",
    "    Creates csr_matrix for train\n",
    "    \"\"\"\n",
    "    \n",
    "    n_items = max(train_data.movieid) + 1\n",
    "    n_users = 1\n",
    "    rows, cols = train_data[\"userid\"], train_data[\"movieid\"]\n",
    "    data = sparse.csr_matrix((np.ones_like(rows), (rows, cols)), dtype=\"float64\", shape=(n_users, n_items))\n",
    "    return data"
   ]
  },
  {
   "cell_type": "code",
   "execution_count": 111,
   "id": "3955e6f4",
   "metadata": {},
   "outputs": [
    {
     "data": {
      "text/plain": [
       "((9576, 70), (3, 5))"
      ]
     },
     "execution_count": 111,
     "metadata": {},
     "output_type": "execute_result"
    }
   ],
   "source": [
    "u1.shape, current_u2.shape"
   ]
  },
  {
   "cell_type": "code",
   "execution_count": 108,
   "id": "5fd72f30",
   "metadata": {
    "scrolled": true
   },
   "outputs": [
    {
     "name": "stdout",
     "output_type": "stream",
     "text": [
      "(1, 9754)\n",
      "(9576, 9576)\n",
      "(3, 3)\n"
     ]
    },
    {
     "ename": "ValueError",
     "evalue": "dimension mismatch",
     "output_type": "error",
     "traceback": [
      "\u001b[0;31m---------------------------------------------------------------------------\u001b[0m",
      "\u001b[0;31mValueError\u001b[0m                                Traceback (most recent call last)",
      "Input \u001b[0;32mIn [108]\u001b[0m, in \u001b[0;36m<cell line: 1>\u001b[0;34m()\u001b[0m\n\u001b[1;32m      5\u001b[0m \u001b[38;5;28mprint\u001b[39m(V_VT\u001b[38;5;241m.\u001b[39mshape)\n\u001b[1;32m      6\u001b[0m \u001b[38;5;28mprint\u001b[39m(W_WT\u001b[38;5;241m.\u001b[39mshape)\n\u001b[0;32m----> 7\u001b[0m R \u001b[38;5;241m=\u001b[39m \u001b[43mV_VT\u001b[49m\u001b[43m \u001b[49m\u001b[38;5;241;43m@\u001b[39;49m\u001b[43m \u001b[49m\u001b[43mcurrent_mat\u001b[49m \u001b[38;5;241m@\u001b[39m W_WT\n\u001b[1;32m      8\u001b[0m \u001b[38;5;28mprint\u001b[39m(R\u001b[38;5;241m.\u001b[39mshape)\n",
      "File \u001b[0;32m~/Desktop/work_projects/RecSys-airi/.venv/lib/python3.9/site-packages/scipy/sparse/_base.py:629\u001b[0m, in \u001b[0;36mspmatrix.__rmatmul__\u001b[0;34m(self, other)\u001b[0m\n\u001b[1;32m    626\u001b[0m \u001b[38;5;28;01mif\u001b[39;00m isscalarlike(other):\n\u001b[1;32m    627\u001b[0m     \u001b[38;5;28;01mraise\u001b[39;00m \u001b[38;5;167;01mValueError\u001b[39;00m(\u001b[38;5;124m\"\u001b[39m\u001b[38;5;124mScalar operands are not allowed, \u001b[39m\u001b[38;5;124m\"\u001b[39m\n\u001b[1;32m    628\u001b[0m                      \u001b[38;5;124m\"\u001b[39m\u001b[38;5;124muse \u001b[39m\u001b[38;5;124m'\u001b[39m\u001b[38;5;124m*\u001b[39m\u001b[38;5;124m'\u001b[39m\u001b[38;5;124m instead\u001b[39m\u001b[38;5;124m\"\u001b[39m)\n\u001b[0;32m--> 629\u001b[0m \u001b[38;5;28;01mreturn\u001b[39;00m \u001b[38;5;28;43mself\u001b[39;49m\u001b[38;5;241;43m.\u001b[39;49m\u001b[43m_rmul_dispatch\u001b[49m\u001b[43m(\u001b[49m\u001b[43mother\u001b[49m\u001b[43m)\u001b[49m\n",
      "File \u001b[0;32m~/Desktop/work_projects/RecSys-airi/.venv/lib/python3.9/site-packages/scipy/sparse/_base.py:610\u001b[0m, in \u001b[0;36mspmatrix._rmul_dispatch\u001b[0;34m(self, other)\u001b[0m\n\u001b[1;32m    608\u001b[0m \u001b[38;5;28;01mexcept\u001b[39;00m \u001b[38;5;167;01mAttributeError\u001b[39;00m:\n\u001b[1;32m    609\u001b[0m     tr \u001b[38;5;241m=\u001b[39m np\u001b[38;5;241m.\u001b[39masarray(other)\u001b[38;5;241m.\u001b[39mtranspose()\n\u001b[0;32m--> 610\u001b[0m \u001b[38;5;28;01mreturn\u001b[39;00m (\u001b[38;5;28;43mself\u001b[39;49m\u001b[38;5;241;43m.\u001b[39;49m\u001b[43mtranspose\u001b[49m\u001b[43m(\u001b[49m\u001b[43m)\u001b[49m\u001b[43m \u001b[49m\u001b[38;5;241;43m@\u001b[39;49m\u001b[43m \u001b[49m\u001b[43mtr\u001b[49m)\u001b[38;5;241m.\u001b[39mtranspose()\n",
      "File \u001b[0;32m~/Desktop/work_projects/RecSys-airi/.venv/lib/python3.9/site-packages/scipy/sparse/_base.py:623\u001b[0m, in \u001b[0;36mspmatrix.__matmul__\u001b[0;34m(self, other)\u001b[0m\n\u001b[1;32m    620\u001b[0m \u001b[38;5;28;01mif\u001b[39;00m isscalarlike(other):\n\u001b[1;32m    621\u001b[0m     \u001b[38;5;28;01mraise\u001b[39;00m \u001b[38;5;167;01mValueError\u001b[39;00m(\u001b[38;5;124m\"\u001b[39m\u001b[38;5;124mScalar operands are not allowed, \u001b[39m\u001b[38;5;124m\"\u001b[39m\n\u001b[1;32m    622\u001b[0m                      \u001b[38;5;124m\"\u001b[39m\u001b[38;5;124muse \u001b[39m\u001b[38;5;124m'\u001b[39m\u001b[38;5;124m*\u001b[39m\u001b[38;5;124m'\u001b[39m\u001b[38;5;124m instead\u001b[39m\u001b[38;5;124m\"\u001b[39m)\n\u001b[0;32m--> 623\u001b[0m \u001b[38;5;28;01mreturn\u001b[39;00m \u001b[38;5;28;43mself\u001b[39;49m\u001b[38;5;241;43m.\u001b[39;49m\u001b[43m_mul_dispatch\u001b[49m\u001b[43m(\u001b[49m\u001b[43mother\u001b[49m\u001b[43m)\u001b[49m\n",
      "File \u001b[0;32m~/Desktop/work_projects/RecSys-airi/.venv/lib/python3.9/site-packages/scipy/sparse/_base.py:573\u001b[0m, in \u001b[0;36mspmatrix._mul_dispatch\u001b[0;34m(self, other)\u001b[0m\n\u001b[1;32m    568\u001b[0m \u001b[38;5;28;01melif\u001b[39;00m other\u001b[38;5;241m.\u001b[39mndim \u001b[38;5;241m==\u001b[39m \u001b[38;5;241m2\u001b[39m:\n\u001b[1;32m    569\u001b[0m     \u001b[38;5;66;03m##\u001b[39;00m\n\u001b[1;32m    570\u001b[0m     \u001b[38;5;66;03m# dense 2D array or matrix (\"multivector\")\u001b[39;00m\n\u001b[1;32m    572\u001b[0m     \u001b[38;5;28;01mif\u001b[39;00m other\u001b[38;5;241m.\u001b[39mshape[\u001b[38;5;241m0\u001b[39m] \u001b[38;5;241m!=\u001b[39m \u001b[38;5;28mself\u001b[39m\u001b[38;5;241m.\u001b[39mshape[\u001b[38;5;241m1\u001b[39m]:\n\u001b[0;32m--> 573\u001b[0m         \u001b[38;5;28;01mraise\u001b[39;00m \u001b[38;5;167;01mValueError\u001b[39;00m(\u001b[38;5;124m'\u001b[39m\u001b[38;5;124mdimension mismatch\u001b[39m\u001b[38;5;124m'\u001b[39m)\n\u001b[1;32m    575\u001b[0m     result \u001b[38;5;241m=\u001b[39m \u001b[38;5;28mself\u001b[39m\u001b[38;5;241m.\u001b[39m_mul_multivector(np\u001b[38;5;241m.\u001b[39masarray(other))\n\u001b[1;32m    577\u001b[0m     \u001b[38;5;28;01mif\u001b[39;00m \u001b[38;5;28misinstance\u001b[39m(other, np\u001b[38;5;241m.\u001b[39mmatrix):\n",
      "\u001b[0;31mValueError\u001b[0m: dimension mismatch"
     ]
    }
   ],
   "source": [
    "for user in test1.userid.unique():\n",
    "    current_test = test1[test1['userid'] == user]\n",
    "    current_mat = load_train_data(current_test)\n",
    "    print(current_mat.shape)\n",
    "    print(V_VT.shape)\n",
    "    print(W_WT.shape)\n",
    "    R = V_VT @ current_mat @ W_WT\n",
    "    print(R.shape)"
   ]
  },
  {
   "cell_type": "code",
   "execution_count": null,
   "id": "e068e20c",
   "metadata": {},
   "outputs": [],
   "source": []
  }
 ],
 "metadata": {
  "kernelspec": {
   "display_name": "Python 3 (ipykernel)",
   "language": "python",
   "name": "python3"
  },
  "language_info": {
   "codemirror_mode": {
    "name": "ipython",
    "version": 3
   },
   "file_extension": ".py",
   "mimetype": "text/x-python",
   "name": "python",
   "nbconvert_exporter": "python",
   "pygments_lexer": "ipython3",
   "version": "3.9.13"
  },
  "latex_envs": {
   "LaTeX_envs_menu_present": true,
   "autoclose": false,
   "autocomplete": true,
   "bibliofile": "biblio.bib",
   "cite_by": "apalike",
   "current_citInitial": 1,
   "eqLabelWithNumbers": true,
   "eqNumInitial": 1,
   "hotkeys": {
    "equation": "Ctrl-E",
    "itemize": "Ctrl-I"
   },
   "labels_anchors": false,
   "latex_user_defs": false,
   "report_style_numbering": false,
   "user_envs_cfg": false
  }
 },
 "nbformat": 4,
 "nbformat_minor": 5
}
