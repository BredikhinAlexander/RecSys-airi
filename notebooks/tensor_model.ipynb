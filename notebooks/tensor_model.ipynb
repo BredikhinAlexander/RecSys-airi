{
 "cells": [
  {
   "cell_type": "code",
   "execution_count": 109,
   "id": "343644d6",
   "metadata": {
    "ExecuteTime": {
     "end_time": "2022-07-13T14:15:30.932703Z",
     "start_time": "2022-07-13T14:15:30.899560Z"
    }
   },
   "outputs": [
    {
     "name": "stdout",
     "output_type": "stream",
     "text": [
      "The autoreload extension is already loaded. To reload it, use:\n",
      "  %reload_ext autoreload\n"
     ]
    }
   ],
   "source": [
    "%load_ext autoreload\n",
    "%autoreload 2"
   ]
  },
  {
   "cell_type": "code",
   "execution_count": 2,
   "id": "86b971b9",
   "metadata": {
    "ExecuteTime": {
     "end_time": "2022-07-13T09:39:31.804361Z",
     "start_time": "2022-07-13T09:39:29.825642Z"
    }
   },
   "outputs": [],
   "source": [
    "train1 = pd.read_csv('../data/train1level.csv')\n",
    "test1 = pd.read_csv('../data/test1level.csv')\n",
    "holdout1 = pd.read_csv('../data/holdout1level.csv')"
   ]
  },
  {
   "cell_type": "code",
   "execution_count": 3,
   "id": "50a22feb",
   "metadata": {
    "ExecuteTime": {
     "end_time": "2022-07-13T09:48:22.574059Z",
     "start_time": "2022-07-13T09:48:22.481449Z"
    }
   },
   "outputs": [],
   "source": [
    "items = train1.movieid.unique()\n",
    "test1 = test1[test1.movieid.isin(items)]\n",
    "users_test = test1.userid.unique()\n",
    "holdout1 = holdout1[holdout1.userid.isin(users_test)]"
   ]
  },
  {
   "cell_type": "code",
   "execution_count": 5,
   "id": "d007cbf8",
   "metadata": {
    "ExecuteTime": {
     "end_time": "2022-07-13T09:48:23.996668Z",
     "start_time": "2022-07-13T09:48:23.987811Z"
    }
   },
   "outputs": [],
   "source": [
    "test1['rating'], rating_idx_map = pd.factorize(test1['rating'], sort=True)"
   ]
  },
  {
   "cell_type": "code",
   "execution_count": 6,
   "id": "dd817558",
   "metadata": {
    "ExecuteTime": {
     "end_time": "2022-07-13T09:48:24.307454Z",
     "start_time": "2022-07-13T09:48:24.297546Z"
    }
   },
   "outputs": [
    {
     "data": {
      "text/plain": [
       "Float64Index([0.5, 1.0, 1.5, 2.0, 2.5, 3.0, 3.5, 4.0, 4.5, 5.0], dtype='float64')"
      ]
     },
     "execution_count": 6,
     "metadata": {},
     "output_type": "execute_result"
    }
   ],
   "source": [
    "rating_idx_map"
   ]
  },
  {
   "cell_type": "code",
   "execution_count": 7,
   "id": "23e703df",
   "metadata": {
    "ExecuteTime": {
     "end_time": "2022-07-13T09:48:26.528830Z",
     "start_time": "2022-07-13T09:48:26.522535Z"
    }
   },
   "outputs": [
    {
     "data": {
      "text/plain": [
       "array([5, 3, 9, 0, 8, 7, 6, 4, 2, 1])"
      ]
     },
     "execution_count": 7,
     "metadata": {},
     "output_type": "execute_result"
    }
   ],
   "source": [
    "test1['rating'].unique()"
   ]
  },
  {
   "cell_type": "code",
   "execution_count": 117,
   "id": "edf65c97",
   "metadata": {
    "ExecuteTime": {
     "end_time": "2022-07-13T14:18:21.019674Z",
     "start_time": "2022-07-13T14:18:20.980340Z"
    }
   },
   "outputs": [],
   "source": [
    "import omegaconf\n",
    "cfg = omegaconf.OmegaConf.load('./config/config.yaml')"
   ]
  },
  {
   "cell_type": "code",
   "execution_count": 119,
   "id": "9ddca654",
   "metadata": {
    "ExecuteTime": {
     "end_time": "2022-07-13T14:23:20.913046Z",
     "start_time": "2022-07-13T14:19:20.049932Z"
    }
   },
   "outputs": [
    {
     "name": "stdout",
     "output_type": "stream",
     "text": [
      "Step 1 of 5\n",
      "growth of the core: 1.0\n",
      "Step 2 of 5\n",
      "growth of the core: 0.19415548308864405\n",
      "Step 3 of 5\n",
      "growth of the core: 0.01800236839212035\n",
      "Step 4 of 5\n",
      "growth of the core: 0.0030412665814473056\n",
      "Step 5 of 5\n",
      "growth of the core: 0.0009536208181636117\n",
      "Core is no longer growing. Norm of the core: 1106.3709943960478.\n",
      "Done\n"
     ]
    },
    {
     "name": "stderr",
     "output_type": "stream",
     "text": [
      "100%|██████████████████████████████████| 3996/3996 [00:18<00:00, 213.36it/s]\n"
     ]
    }
   ],
   "source": [
    "from src import TensorModel\n",
    "\n",
    "tensor_model = TensorModel(**cfg.TensorModel)\n",
    "tensor_model.fit(train1)\n",
    "recommend_items, scores = tensor_model.get_recommendation(test1)"
   ]
  },
  {
   "cell_type": "code",
   "execution_count": 122,
   "id": "291cdd2f",
   "metadata": {
    "ExecuteTime": {
     "end_time": "2022-07-13T14:26:54.757205Z",
     "start_time": "2022-07-13T14:26:54.680171Z"
    }
   },
   "outputs": [
    {
     "data": {
      "text/plain": [
       "{'hr': 0.004754754754754755,\n",
       " 'mrr': 0.001363367335589558,\n",
       " 'cov': 0.0010441683199331733}"
      ]
     },
     "execution_count": 122,
     "metadata": {},
     "output_type": "execute_result"
    }
   ],
   "source": [
    "from src import get_metrics\n",
    "get_metrics(recommend_items, holdout1, tensor_model.n_items)"
   ]
  },
  {
   "cell_type": "code",
   "execution_count": null,
   "id": "1b3e5415",
   "metadata": {},
   "outputs": [],
   "source": []
  }
 ],
 "metadata": {
  "kernelspec": {
   "display_name": "Python 3 (ipykernel)",
   "language": "python",
   "name": "python3"
  },
  "language_info": {
   "codemirror_mode": {
    "name": "ipython",
    "version": 3
   },
   "file_extension": ".py",
   "mimetype": "text/x-python",
   "name": "python",
   "nbconvert_exporter": "python",
   "pygments_lexer": "ipython3",
   "version": "3.9.13"
  },
  "latex_envs": {
   "LaTeX_envs_menu_present": true,
   "autoclose": false,
   "autocomplete": true,
   "bibliofile": "biblio.bib",
   "cite_by": "apalike",
   "current_citInitial": 1,
   "eqLabelWithNumbers": true,
   "eqNumInitial": 1,
   "hotkeys": {
    "equation": "Ctrl-E",
    "itemize": "Ctrl-I"
   },
   "labels_anchors": false,
   "latex_user_defs": false,
   "report_style_numbering": false,
   "user_envs_cfg": false
  }
 },
 "nbformat": 4,
 "nbformat_minor": 5
}
