{
 "cells": [
  {
   "cell_type": "code",
   "execution_count": 60,
   "id": "49867334",
   "metadata": {
    "ExecuteTime": {
     "end_time": "2022-07-07T08:24:20.111230Z",
     "start_time": "2022-07-07T08:24:16.144993Z"
    }
   },
   "outputs": [],
   "source": [
    "from polara import get_movielens_data\n",
    "from polara.preprocessing.dataframes import reindex, leave_one_out\n",
    "\n",
    "path = '/Users/a.bredikhin/Downloads/ml-10M100K/data.zip'\n",
    "mldata = get_movielens_data(path, include_time=True )"
   ]
  },
  {
   "cell_type": "code",
   "execution_count": 61,
   "id": "52263474",
   "metadata": {
    "ExecuteTime": {
     "end_time": "2022-07-07T08:24:20.121676Z",
     "start_time": "2022-07-07T08:24:20.114608Z"
    }
   },
   "outputs": [
    {
     "data": {
      "text/html": [
       "<div>\n",
       "<style scoped>\n",
       "    .dataframe tbody tr th:only-of-type {\n",
       "        vertical-align: middle;\n",
       "    }\n",
       "\n",
       "    .dataframe tbody tr th {\n",
       "        vertical-align: top;\n",
       "    }\n",
       "\n",
       "    .dataframe thead th {\n",
       "        text-align: right;\n",
       "    }\n",
       "</style>\n",
       "<table border=\"1\" class=\"dataframe\">\n",
       "  <thead>\n",
       "    <tr style=\"text-align: right;\">\n",
       "      <th></th>\n",
       "      <th>userid</th>\n",
       "      <th>movieid</th>\n",
       "      <th>rating</th>\n",
       "      <th>timestamp</th>\n",
       "    </tr>\n",
       "  </thead>\n",
       "  <tbody>\n",
       "    <tr>\n",
       "      <th>0</th>\n",
       "      <td>1</td>\n",
       "      <td>122</td>\n",
       "      <td>5.0</td>\n",
       "      <td>838985046</td>\n",
       "    </tr>\n",
       "    <tr>\n",
       "      <th>1</th>\n",
       "      <td>1</td>\n",
       "      <td>185</td>\n",
       "      <td>5.0</td>\n",
       "      <td>838983525</td>\n",
       "    </tr>\n",
       "    <tr>\n",
       "      <th>2</th>\n",
       "      <td>1</td>\n",
       "      <td>231</td>\n",
       "      <td>5.0</td>\n",
       "      <td>838983392</td>\n",
       "    </tr>\n",
       "    <tr>\n",
       "      <th>3</th>\n",
       "      <td>1</td>\n",
       "      <td>292</td>\n",
       "      <td>5.0</td>\n",
       "      <td>838983421</td>\n",
       "    </tr>\n",
       "    <tr>\n",
       "      <th>4</th>\n",
       "      <td>1</td>\n",
       "      <td>316</td>\n",
       "      <td>5.0</td>\n",
       "      <td>838983392</td>\n",
       "    </tr>\n",
       "  </tbody>\n",
       "</table>\n",
       "</div>"
      ],
      "text/plain": [
       "   userid  movieid  rating  timestamp\n",
       "0       1      122     5.0  838985046\n",
       "1       1      185     5.0  838983525\n",
       "2       1      231     5.0  838983392\n",
       "3       1      292     5.0  838983421\n",
       "4       1      316     5.0  838983392"
      ]
     },
     "execution_count": 61,
     "metadata": {},
     "output_type": "execute_result"
    }
   ],
   "source": [
    "mldata.head()"
   ]
  },
  {
   "cell_type": "code",
   "execution_count": 62,
   "id": "be949007",
   "metadata": {
    "ExecuteTime": {
     "end_time": "2022-07-07T08:24:20.130625Z",
     "start_time": "2022-07-07T08:24:20.124014Z"
    }
   },
   "outputs": [],
   "source": [
    "def transform_indices(data, users, items):\n",
    "    data_index = {}\n",
    "    for entity, field in zip(['users', 'items'], [users, items]):\n",
    "        idx, idx_map = to_numeric_id(data, field)\n",
    "        data_index[entity] = idx_map\n",
    "        data.loc[:, field] = idx\n",
    "    return data, data_index\n",
    "\n",
    "def to_numeric_id(data, field):\n",
    "    idx_data = data[field].astype(\"category\")\n",
    "    idx = idx_data.cat.codes\n",
    "    idx_map = idx_data.cat.categories.rename(field)\n",
    "    return idx, idx_map\n",
    "\n",
    "\n",
    "def matrix_from_data(data, data_description, dtype=None):\n",
    "    '''\n",
    "    Converts pandas DataFrame into sparse CSR matrix.\n",
    "    Assumes data in the DataFrame is alread normalized via `transform_indices`.\n",
    "    '''\n",
    "    # get indices of observed data\n",
    "    user_idx = data[data_description['users']].values\n",
    "    item_idx = data[data_description['items']].values\n",
    "    feedback_data = data_description.get('feedback', None)\n",
    "    if feedback_data is not None:\n",
    "        feedback = data[feedback_data].values\n",
    "    else:\n",
    "        feedback = np.ones(len(user_idx))\n",
    "    # construct rating matrix\n",
    "    shape = (data_description['n_users'], data_description['n_items'])\n",
    "    return csr_matrix((feedback, (user_idx, item_idx)), shape=shape, dtype=dtype)"
   ]
  },
  {
   "cell_type": "code",
   "execution_count": 63,
   "id": "75ba3a33",
   "metadata": {
    "ExecuteTime": {
     "end_time": "2022-07-07T08:24:20.136819Z",
     "start_time": "2022-07-07T08:24:20.134274Z"
    }
   },
   "outputs": [],
   "source": [
    "# test_timepoint = mldata['timestamp'].quantile(\n",
    "#     q=0.9, interpolation='nearest'\n",
    "# )\n",
    "\n",
    "# test_data_ = mldata.query('timestamp >= @test_timepoint')\n",
    "\n",
    "\n",
    "# train_data_ = mldata.query(\n",
    "#     'userid not in @test_data_.userid.unique() and timestamp < @test_timepoint'\n",
    "# )\n",
    "\n",
    "# training, data_index = transform_indices(train_data_.copy(), 'userid', 'movieid')\n",
    "\n",
    "# test_data = reindex(test_data_, data_index['items'])\n",
    "\n",
    "# print(len(training), len(test_data))\n",
    "# training - pd.Dataframe с нормализованными индексами данных для обучения\n",
    "# test_data - для теста\n"
   ]
  },
  {
   "cell_type": "code",
   "execution_count": 64,
   "id": "3d4466e3",
   "metadata": {
    "ExecuteTime": {
     "end_time": "2022-07-07T08:24:20.143403Z",
     "start_time": "2022-07-07T08:24:20.138763Z"
    }
   },
   "outputs": [],
   "source": [
    "def get_train_test_hold(mldata):\n",
    "    test_timepoint = mldata['timestamp'].quantile(\n",
    "        q=0.95, interpolation='nearest')\n",
    "\n",
    "    test_data_ = mldata.query('timestamp >= @test_timepoint')\n",
    "\n",
    "\n",
    "    train_data_ = mldata.query(\n",
    "        'userid not in @test_data_.userid.unique() and timestamp < @test_timepoint'\n",
    "    )\n",
    "\n",
    "    training, data_index = transform_indices(train_data_.copy(), 'userid', 'movieid')\n",
    "\n",
    "    test_data = reindex(test_data_, data_index['items'])\n",
    "\n",
    "    print(len(training), len(test_data))\n",
    "    print(len(training['userid'].unique()))\n",
    "    print(len(test_data['userid'].unique()))\n",
    "    return training, test_data, data_index"
   ]
  },
  {
   "cell_type": "code",
   "execution_count": 65,
   "id": "94a7b952",
   "metadata": {
    "ExecuteTime": {
     "end_time": "2022-07-07T08:24:21.364916Z",
     "start_time": "2022-07-07T08:24:20.145426Z"
    }
   },
   "outputs": [
    {
     "name": "stdout",
     "output_type": "stream",
     "text": [
      "Filtered 23202 invalid observations.\n",
      "8286928 476802\n",
      "64680\n",
      "5132\n"
     ]
    }
   ],
   "source": [
    "training, test_data, data_index = get_train_test_hold(mldata)"
   ]
  },
  {
   "cell_type": "code",
   "execution_count": 66,
   "id": "6e033682",
   "metadata": {
    "ExecuteTime": {
     "end_time": "2022-07-07T08:24:21.814117Z",
     "start_time": "2022-07-07T08:24:21.367069Z"
    }
   },
   "outputs": [],
   "source": [
    "testset_, holdout_ = leave_one_out(\n",
    "    test_data, target='timestamp', sample_top=True, random_state=0\n",
    ")"
   ]
  },
  {
   "cell_type": "code",
   "execution_count": 67,
   "id": "6b38d9e9",
   "metadata": {
    "ExecuteTime": {
     "end_time": "2022-07-07T08:24:30.162589Z",
     "start_time": "2022-07-07T08:24:30.154928Z"
    }
   },
   "outputs": [
    {
     "data": {
      "text/html": [
       "<div>\n",
       "<style scoped>\n",
       "    .dataframe tbody tr th:only-of-type {\n",
       "        vertical-align: middle;\n",
       "    }\n",
       "\n",
       "    .dataframe tbody tr th {\n",
       "        vertical-align: top;\n",
       "    }\n",
       "\n",
       "    .dataframe thead th {\n",
       "        text-align: right;\n",
       "    }\n",
       "</style>\n",
       "<table border=\"1\" class=\"dataframe\">\n",
       "  <thead>\n",
       "    <tr style=\"text-align: right;\">\n",
       "      <th></th>\n",
       "      <th>userid</th>\n",
       "      <th>movieid</th>\n",
       "      <th>rating</th>\n",
       "      <th>timestamp</th>\n",
       "    </tr>\n",
       "  </thead>\n",
       "  <tbody>\n",
       "    <tr>\n",
       "      <th>5088</th>\n",
       "      <td>48</td>\n",
       "      <td>264</td>\n",
       "      <td>5.0</td>\n",
       "      <td>1215134949</td>\n",
       "    </tr>\n",
       "    <tr>\n",
       "      <th>5089</th>\n",
       "      <td>48</td>\n",
       "      <td>515</td>\n",
       "      <td>3.5</td>\n",
       "      <td>1215134907</td>\n",
       "    </tr>\n",
       "    <tr>\n",
       "      <th>5090</th>\n",
       "      <td>48</td>\n",
       "      <td>1888</td>\n",
       "      <td>3.5</td>\n",
       "      <td>1215135112</td>\n",
       "    </tr>\n",
       "    <tr>\n",
       "      <th>5091</th>\n",
       "      <td>48</td>\n",
       "      <td>2363</td>\n",
       "      <td>5.0</td>\n",
       "      <td>1215134977</td>\n",
       "    </tr>\n",
       "    <tr>\n",
       "      <th>5092</th>\n",
       "      <td>48</td>\n",
       "      <td>2611</td>\n",
       "      <td>3.5</td>\n",
       "      <td>1215135188</td>\n",
       "    </tr>\n",
       "  </tbody>\n",
       "</table>\n",
       "</div>"
      ],
      "text/plain": [
       "      userid  movieid  rating   timestamp\n",
       "5088      48      264     5.0  1215134949\n",
       "5089      48      515     3.5  1215134907\n",
       "5090      48     1888     3.5  1215135112\n",
       "5091      48     2363     5.0  1215134977\n",
       "5092      48     2611     3.5  1215135188"
      ]
     },
     "execution_count": 67,
     "metadata": {},
     "output_type": "execute_result"
    }
   ],
   "source": [
    "testset_.head()"
   ]
  },
  {
   "cell_type": "code",
   "execution_count": 68,
   "id": "d0b5212d",
   "metadata": {
    "ExecuteTime": {
     "end_time": "2022-07-07T08:24:30.624199Z",
     "start_time": "2022-07-07T08:24:30.616276Z"
    }
   },
   "outputs": [
    {
     "data": {
      "text/html": [
       "<div>\n",
       "<style scoped>\n",
       "    .dataframe tbody tr th:only-of-type {\n",
       "        vertical-align: middle;\n",
       "    }\n",
       "\n",
       "    .dataframe tbody tr th {\n",
       "        vertical-align: top;\n",
       "    }\n",
       "\n",
       "    .dataframe thead th {\n",
       "        text-align: right;\n",
       "    }\n",
       "</style>\n",
       "<table border=\"1\" class=\"dataframe\">\n",
       "  <thead>\n",
       "    <tr style=\"text-align: right;\">\n",
       "      <th></th>\n",
       "      <th>userid</th>\n",
       "      <th>movieid</th>\n",
       "      <th>rating</th>\n",
       "      <th>timestamp</th>\n",
       "    </tr>\n",
       "  </thead>\n",
       "  <tbody>\n",
       "    <tr>\n",
       "      <th>7443062</th>\n",
       "      <td>53198</td>\n",
       "      <td>850</td>\n",
       "      <td>4.0</td>\n",
       "      <td>1228228008</td>\n",
       "    </tr>\n",
       "    <tr>\n",
       "      <th>5144575</th>\n",
       "      <td>36784</td>\n",
       "      <td>5026</td>\n",
       "      <td>3.0</td>\n",
       "      <td>1228929915</td>\n",
       "    </tr>\n",
       "    <tr>\n",
       "      <th>480732</th>\n",
       "      <td>3667</td>\n",
       "      <td>9724</td>\n",
       "      <td>4.5</td>\n",
       "      <td>1218018730</td>\n",
       "    </tr>\n",
       "    <tr>\n",
       "      <th>5505701</th>\n",
       "      <td>39301</td>\n",
       "      <td>3075</td>\n",
       "      <td>4.5</td>\n",
       "      <td>1225575463</td>\n",
       "    </tr>\n",
       "    <tr>\n",
       "      <th>9681940</th>\n",
       "      <td>69383</td>\n",
       "      <td>4210</td>\n",
       "      <td>3.0</td>\n",
       "      <td>1229403194</td>\n",
       "    </tr>\n",
       "  </tbody>\n",
       "</table>\n",
       "</div>"
      ],
      "text/plain": [
       "         userid  movieid  rating   timestamp\n",
       "7443062   53198      850     4.0  1228228008\n",
       "5144575   36784     5026     3.0  1228929915\n",
       "480732     3667     9724     4.5  1218018730\n",
       "5505701   39301     3075     4.5  1225575463\n",
       "9681940   69383     4210     3.0  1229403194"
      ]
     },
     "execution_count": 68,
     "metadata": {},
     "output_type": "execute_result"
    }
   ],
   "source": [
    "holdout_.head()"
   ]
  },
  {
   "cell_type": "code",
   "execution_count": 69,
   "id": "ca4f43f7",
   "metadata": {
    "ExecuteTime": {
     "end_time": "2022-07-07T08:24:31.228065Z",
     "start_time": "2022-07-07T08:24:31.136647Z"
    }
   },
   "outputs": [],
   "source": [
    "import pandas as pd\n",
    "import numpy as np\n",
    "\n",
    "userid = data_index['users'].name\n",
    "test_users = pd.Index(\n",
    "    # ensure test users are the same across testing data\n",
    "    np.intersect1d(\n",
    "        testset_[userid].unique(),\n",
    "        holdout_[userid].unique()\n",
    "    )\n",
    ")\n",
    "testset = (\n",
    "    testset_\n",
    "    # reindex warm-start users for convenience\n",
    "    .assign(**{userid: lambda x: test_users.get_indexer(x[userid])})\n",
    "    .query(f'{userid} >= 0')\n",
    "    .sort_values('userid')\n",
    ")\n",
    "holdout = (\n",
    "    holdout_\n",
    "    # reindex warm-start users for convenience\n",
    "    .assign(**{userid: lambda x: test_users.get_indexer(x[userid])})\n",
    "    .query(f'{userid} >= 0')\n",
    "    .sort_values('userid')\n",
    ")"
   ]
  },
  {
   "cell_type": "code",
   "execution_count": 70,
   "id": "d1c831d4",
   "metadata": {
    "ExecuteTime": {
     "end_time": "2022-07-07T08:24:31.793514Z",
     "start_time": "2022-07-07T08:24:31.788221Z"
    }
   },
   "outputs": [
    {
     "data": {
      "text/plain": [
       "{'users': 'userid',\n",
       " 'items': 'movieid',\n",
       " 'order': 'timestamp',\n",
       " 'n_users': 64680,\n",
       " 'n_items': 9857}"
      ]
     },
     "execution_count": 70,
     "metadata": {},
     "output_type": "execute_result"
    }
   ],
   "source": [
    "data_description = dict(\n",
    "    users = data_index['users'].name,\n",
    "    items = data_index['items'].name,\n",
    "    order = 'timestamp',\n",
    "    n_users = len(data_index['users']),\n",
    "    n_items = len(data_index['items']),\n",
    ")\n",
    "data_description"
   ]
  },
  {
   "cell_type": "code",
   "execution_count": 71,
   "id": "fa0f18da",
   "metadata": {
    "ExecuteTime": {
     "end_time": "2022-07-07T08:24:32.721299Z",
     "start_time": "2022-07-07T08:24:32.710769Z"
    }
   },
   "outputs": [
    {
     "data": {
      "text/html": [
       "<div>\n",
       "<style scoped>\n",
       "    .dataframe tbody tr th:only-of-type {\n",
       "        vertical-align: middle;\n",
       "    }\n",
       "\n",
       "    .dataframe tbody tr th {\n",
       "        vertical-align: top;\n",
       "    }\n",
       "\n",
       "    .dataframe thead th {\n",
       "        text-align: right;\n",
       "    }\n",
       "</style>\n",
       "<table border=\"1\" class=\"dataframe\">\n",
       "  <thead>\n",
       "    <tr style=\"text-align: right;\">\n",
       "      <th></th>\n",
       "      <th>userid</th>\n",
       "      <th>movieid</th>\n",
       "      <th>rating</th>\n",
       "      <th>timestamp</th>\n",
       "    </tr>\n",
       "  </thead>\n",
       "  <tbody>\n",
       "    <tr>\n",
       "      <th>0</th>\n",
       "      <td>0</td>\n",
       "      <td>120</td>\n",
       "      <td>5.0</td>\n",
       "      <td>838985046</td>\n",
       "    </tr>\n",
       "    <tr>\n",
       "      <th>1</th>\n",
       "      <td>0</td>\n",
       "      <td>183</td>\n",
       "      <td>5.0</td>\n",
       "      <td>838983525</td>\n",
       "    </tr>\n",
       "    <tr>\n",
       "      <th>2</th>\n",
       "      <td>0</td>\n",
       "      <td>228</td>\n",
       "      <td>5.0</td>\n",
       "      <td>838983392</td>\n",
       "    </tr>\n",
       "    <tr>\n",
       "      <th>3</th>\n",
       "      <td>0</td>\n",
       "      <td>289</td>\n",
       "      <td>5.0</td>\n",
       "      <td>838983421</td>\n",
       "    </tr>\n",
       "    <tr>\n",
       "      <th>4</th>\n",
       "      <td>0</td>\n",
       "      <td>313</td>\n",
       "      <td>5.0</td>\n",
       "      <td>838983392</td>\n",
       "    </tr>\n",
       "    <tr>\n",
       "      <th>...</th>\n",
       "      <td>...</td>\n",
       "      <td>...</td>\n",
       "      <td>...</td>\n",
       "      <td>...</td>\n",
       "    </tr>\n",
       "    <tr>\n",
       "      <th>10000049</th>\n",
       "      <td>64679</td>\n",
       "      <td>2023</td>\n",
       "      <td>1.0</td>\n",
       "      <td>912580553</td>\n",
       "    </tr>\n",
       "    <tr>\n",
       "      <th>10000050</th>\n",
       "      <td>64679</td>\n",
       "      <td>2042</td>\n",
       "      <td>2.0</td>\n",
       "      <td>912649143</td>\n",
       "    </tr>\n",
       "    <tr>\n",
       "      <th>10000051</th>\n",
       "      <td>64679</td>\n",
       "      <td>2210</td>\n",
       "      <td>5.0</td>\n",
       "      <td>912577968</td>\n",
       "    </tr>\n",
       "    <tr>\n",
       "      <th>10000052</th>\n",
       "      <td>64679</td>\n",
       "      <td>2254</td>\n",
       "      <td>2.0</td>\n",
       "      <td>912578016</td>\n",
       "    </tr>\n",
       "    <tr>\n",
       "      <th>10000053</th>\n",
       "      <td>64679</td>\n",
       "      <td>2300</td>\n",
       "      <td>2.0</td>\n",
       "      <td>912578173</td>\n",
       "    </tr>\n",
       "  </tbody>\n",
       "</table>\n",
       "<p>8286928 rows × 4 columns</p>\n",
       "</div>"
      ],
      "text/plain": [
       "          userid  movieid  rating  timestamp\n",
       "0              0      120     5.0  838985046\n",
       "1              0      183     5.0  838983525\n",
       "2              0      228     5.0  838983392\n",
       "3              0      289     5.0  838983421\n",
       "4              0      313     5.0  838983392\n",
       "...          ...      ...     ...        ...\n",
       "10000049   64679     2023     1.0  912580553\n",
       "10000050   64679     2042     2.0  912649143\n",
       "10000051   64679     2210     5.0  912577968\n",
       "10000052   64679     2254     2.0  912578016\n",
       "10000053   64679     2300     2.0  912578173\n",
       "\n",
       "[8286928 rows x 4 columns]"
      ]
     },
     "execution_count": 71,
     "metadata": {},
     "output_type": "execute_result"
    }
   ],
   "source": [
    "training"
   ]
  },
  {
   "cell_type": "code",
   "execution_count": 72,
   "id": "5b43fa6b",
   "metadata": {
    "ExecuteTime": {
     "end_time": "2022-07-07T08:24:37.202467Z",
     "start_time": "2022-07-07T08:24:37.192736Z"
    }
   },
   "outputs": [
    {
     "data": {
      "text/html": [
       "<div>\n",
       "<style scoped>\n",
       "    .dataframe tbody tr th:only-of-type {\n",
       "        vertical-align: middle;\n",
       "    }\n",
       "\n",
       "    .dataframe tbody tr th {\n",
       "        vertical-align: top;\n",
       "    }\n",
       "\n",
       "    .dataframe thead th {\n",
       "        text-align: right;\n",
       "    }\n",
       "</style>\n",
       "<table border=\"1\" class=\"dataframe\">\n",
       "  <thead>\n",
       "    <tr style=\"text-align: right;\">\n",
       "      <th></th>\n",
       "      <th>userid</th>\n",
       "      <th>movieid</th>\n",
       "      <th>rating</th>\n",
       "      <th>timestamp</th>\n",
       "    </tr>\n",
       "  </thead>\n",
       "  <tbody>\n",
       "    <tr>\n",
       "      <th>5088</th>\n",
       "      <td>48</td>\n",
       "      <td>264</td>\n",
       "      <td>5.0</td>\n",
       "      <td>1215134949</td>\n",
       "    </tr>\n",
       "    <tr>\n",
       "      <th>5089</th>\n",
       "      <td>48</td>\n",
       "      <td>515</td>\n",
       "      <td>3.5</td>\n",
       "      <td>1215134907</td>\n",
       "    </tr>\n",
       "    <tr>\n",
       "      <th>5090</th>\n",
       "      <td>48</td>\n",
       "      <td>1888</td>\n",
       "      <td>3.5</td>\n",
       "      <td>1215135112</td>\n",
       "    </tr>\n",
       "    <tr>\n",
       "      <th>5091</th>\n",
       "      <td>48</td>\n",
       "      <td>2363</td>\n",
       "      <td>5.0</td>\n",
       "      <td>1215134977</td>\n",
       "    </tr>\n",
       "    <tr>\n",
       "      <th>5092</th>\n",
       "      <td>48</td>\n",
       "      <td>2611</td>\n",
       "      <td>3.5</td>\n",
       "      <td>1215135188</td>\n",
       "    </tr>\n",
       "    <tr>\n",
       "      <th>...</th>\n",
       "      <td>...</td>\n",
       "      <td>...</td>\n",
       "      <td>...</td>\n",
       "      <td>...</td>\n",
       "    </tr>\n",
       "    <tr>\n",
       "      <th>9999653</th>\n",
       "      <td>71562</td>\n",
       "      <td>9392</td>\n",
       "      <td>4.0</td>\n",
       "      <td>1215124142</td>\n",
       "    </tr>\n",
       "    <tr>\n",
       "      <th>9999654</th>\n",
       "      <td>71562</td>\n",
       "      <td>9625</td>\n",
       "      <td>4.0</td>\n",
       "      <td>1216572048</td>\n",
       "    </tr>\n",
       "    <tr>\n",
       "      <th>9999655</th>\n",
       "      <td>71562</td>\n",
       "      <td>9696</td>\n",
       "      <td>4.0</td>\n",
       "      <td>1215125837</td>\n",
       "    </tr>\n",
       "    <tr>\n",
       "      <th>9999656</th>\n",
       "      <td>71562</td>\n",
       "      <td>9727</td>\n",
       "      <td>4.5</td>\n",
       "      <td>1215124018</td>\n",
       "    </tr>\n",
       "    <tr>\n",
       "      <th>9999657</th>\n",
       "      <td>71562</td>\n",
       "      <td>9761</td>\n",
       "      <td>4.5</td>\n",
       "      <td>1215124429</td>\n",
       "    </tr>\n",
       "  </tbody>\n",
       "</table>\n",
       "<p>476802 rows × 4 columns</p>\n",
       "</div>"
      ],
      "text/plain": [
       "         userid  movieid  rating   timestamp\n",
       "5088         48      264     5.0  1215134949\n",
       "5089         48      515     3.5  1215134907\n",
       "5090         48     1888     3.5  1215135112\n",
       "5091         48     2363     5.0  1215134977\n",
       "5092         48     2611     3.5  1215135188\n",
       "...         ...      ...     ...         ...\n",
       "9999653   71562     9392     4.0  1215124142\n",
       "9999654   71562     9625     4.0  1216572048\n",
       "9999655   71562     9696     4.0  1215125837\n",
       "9999656   71562     9727     4.5  1215124018\n",
       "9999657   71562     9761     4.5  1215124429\n",
       "\n",
       "[476802 rows x 4 columns]"
      ]
     },
     "execution_count": 72,
     "metadata": {},
     "output_type": "execute_result"
    }
   ],
   "source": [
    "test_data"
   ]
  },
  {
   "cell_type": "code",
   "execution_count": 73,
   "id": "6a819907",
   "metadata": {
    "ExecuteTime": {
     "end_time": "2022-07-07T08:24:37.962089Z",
     "start_time": "2022-07-07T08:24:37.952177Z"
    }
   },
   "outputs": [
    {
     "data": {
      "text/html": [
       "<div>\n",
       "<style scoped>\n",
       "    .dataframe tbody tr th:only-of-type {\n",
       "        vertical-align: middle;\n",
       "    }\n",
       "\n",
       "    .dataframe tbody tr th {\n",
       "        vertical-align: top;\n",
       "    }\n",
       "\n",
       "    .dataframe thead th {\n",
       "        text-align: right;\n",
       "    }\n",
       "</style>\n",
       "<table border=\"1\" class=\"dataframe\">\n",
       "  <thead>\n",
       "    <tr style=\"text-align: right;\">\n",
       "      <th></th>\n",
       "      <th>userid</th>\n",
       "      <th>movieid</th>\n",
       "      <th>rating</th>\n",
       "      <th>timestamp</th>\n",
       "    </tr>\n",
       "  </thead>\n",
       "  <tbody>\n",
       "    <tr>\n",
       "      <th>5097</th>\n",
       "      <td>0</td>\n",
       "      <td>4630</td>\n",
       "      <td>3.5</td>\n",
       "      <td>1215135740</td>\n",
       "    </tr>\n",
       "    <tr>\n",
       "      <th>7651</th>\n",
       "      <td>1</td>\n",
       "      <td>2319</td>\n",
       "      <td>0.5</td>\n",
       "      <td>1213948239</td>\n",
       "    </tr>\n",
       "    <tr>\n",
       "      <th>8922</th>\n",
       "      <td>2</td>\n",
       "      <td>527</td>\n",
       "      <td>4.0</td>\n",
       "      <td>1217063650</td>\n",
       "    </tr>\n",
       "    <tr>\n",
       "      <th>10035</th>\n",
       "      <td>3</td>\n",
       "      <td>9342</td>\n",
       "      <td>4.0</td>\n",
       "      <td>1215149522</td>\n",
       "    </tr>\n",
       "    <tr>\n",
       "      <th>13448</th>\n",
       "      <td>4</td>\n",
       "      <td>262</td>\n",
       "      <td>3.0</td>\n",
       "      <td>1226343925</td>\n",
       "    </tr>\n",
       "    <tr>\n",
       "      <th>...</th>\n",
       "      <td>...</td>\n",
       "      <td>...</td>\n",
       "      <td>...</td>\n",
       "      <td>...</td>\n",
       "    </tr>\n",
       "    <tr>\n",
       "      <th>9989504</th>\n",
       "      <td>4991</td>\n",
       "      <td>3272</td>\n",
       "      <td>4.0</td>\n",
       "      <td>1215625082</td>\n",
       "    </tr>\n",
       "    <tr>\n",
       "      <th>9992075</th>\n",
       "      <td>4992</td>\n",
       "      <td>6815</td>\n",
       "      <td>3.5</td>\n",
       "      <td>1227019469</td>\n",
       "    </tr>\n",
       "    <tr>\n",
       "      <th>9994972</th>\n",
       "      <td>4993</td>\n",
       "      <td>4228</td>\n",
       "      <td>4.0</td>\n",
       "      <td>1215103104</td>\n",
       "    </tr>\n",
       "    <tr>\n",
       "      <th>9995551</th>\n",
       "      <td>4994</td>\n",
       "      <td>7110</td>\n",
       "      <td>4.0</td>\n",
       "      <td>1223625402</td>\n",
       "    </tr>\n",
       "    <tr>\n",
       "      <th>9999525</th>\n",
       "      <td>4995</td>\n",
       "      <td>3280</td>\n",
       "      <td>5.0</td>\n",
       "      <td>1216575007</td>\n",
       "    </tr>\n",
       "  </tbody>\n",
       "</table>\n",
       "<p>4996 rows × 4 columns</p>\n",
       "</div>"
      ],
      "text/plain": [
       "         userid  movieid  rating   timestamp\n",
       "5097          0     4630     3.5  1215135740\n",
       "7651          1     2319     0.5  1213948239\n",
       "8922          2      527     4.0  1217063650\n",
       "10035         3     9342     4.0  1215149522\n",
       "13448         4      262     3.0  1226343925\n",
       "...         ...      ...     ...         ...\n",
       "9989504    4991     3272     4.0  1215625082\n",
       "9992075    4992     6815     3.5  1227019469\n",
       "9994972    4993     4228     4.0  1215103104\n",
       "9995551    4994     7110     4.0  1223625402\n",
       "9999525    4995     3280     5.0  1216575007\n",
       "\n",
       "[4996 rows x 4 columns]"
      ]
     },
     "execution_count": 73,
     "metadata": {},
     "output_type": "execute_result"
    }
   ],
   "source": [
    "holdout"
   ]
  },
  {
   "cell_type": "code",
   "execution_count": 74,
   "id": "2b840aec",
   "metadata": {
    "ExecuteTime": {
     "end_time": "2022-07-07T08:24:52.616671Z",
     "start_time": "2022-07-07T08:24:38.640367Z"
    }
   },
   "outputs": [],
   "source": [
    "training.to_csv('../data/training2level.csv', index=False)\n",
    "test_data.to_csv('../data/test2level.csv', index=False)\n",
    "holdout.to_csv('../data/holdout2level.csv', index=False)"
   ]
  },
  {
   "cell_type": "code",
   "execution_count": 75,
   "id": "ee4a67e8",
   "metadata": {
    "ExecuteTime": {
     "end_time": "2022-07-07T08:26:00.301490Z",
     "start_time": "2022-07-07T08:25:59.207753Z"
    }
   },
   "outputs": [
    {
     "name": "stdout",
     "output_type": "stream",
     "text": [
      "Filtered 16400 invalid observations.\n",
      "7368284 397947\n",
      "60517\n",
      "4100\n"
     ]
    }
   ],
   "source": [
    "# 1 level\n",
    "training1level, test1level, data_index_1level = get_train_test_hold(training)"
   ]
  },
  {
   "cell_type": "code",
   "execution_count": 76,
   "id": "8eeae6a8",
   "metadata": {
    "ExecuteTime": {
     "end_time": "2022-07-07T08:27:07.046428Z",
     "start_time": "2022-07-07T08:27:06.741213Z"
    }
   },
   "outputs": [],
   "source": [
    "testset_1level, holdout_1level = leave_one_out(\n",
    "    test1level, target='timestamp', sample_top=True, random_state=0\n",
    ")"
   ]
  },
  {
   "cell_type": "code",
   "execution_count": 77,
   "id": "e5fe8f5e",
   "metadata": {
    "ExecuteTime": {
     "end_time": "2022-07-07T08:28:36.847976Z",
     "start_time": "2022-07-07T08:28:36.785985Z"
    }
   },
   "outputs": [],
   "source": [
    "import pandas as pd\n",
    "import numpy as np\n",
    "\n",
    "userid = data_index_1level['users'].name\n",
    "test_users = pd.Index(\n",
    "    # ensure test users are the same across testing data\n",
    "    np.intersect1d(\n",
    "        testset_1level[userid].unique(),\n",
    "        holdout_1level[userid].unique()\n",
    "    )\n",
    ")\n",
    "testset1l = (\n",
    "    testset_1level\n",
    "    # reindex warm-start users for convenience\n",
    "    .assign(**{userid: lambda x: test_users.get_indexer(x[userid])})\n",
    "    .query(f'{userid} >= 0')\n",
    "    .sort_values('userid')\n",
    ")\n",
    "holdout1l = (\n",
    "    holdout_1level\n",
    "    # reindex warm-start users for convenience\n",
    "    .assign(**{userid: lambda x: test_users.get_indexer(x[userid])})\n",
    "    .query(f'{userid} >= 0')\n",
    "    .sort_values('userid')\n",
    ")"
   ]
  },
  {
   "cell_type": "code",
   "execution_count": 81,
   "id": "e25c9004",
   "metadata": {
    "ExecuteTime": {
     "end_time": "2022-07-07T08:29:25.779636Z",
     "start_time": "2022-07-07T08:29:25.774542Z"
    }
   },
   "outputs": [
    {
     "data": {
      "text/plain": [
       "3973"
      ]
     },
     "execution_count": 81,
     "metadata": {},
     "output_type": "execute_result"
    }
   ],
   "source": [
    "len(holdout1l['userid'].unique())"
   ]
  },
  {
   "cell_type": "code",
   "execution_count": 80,
   "id": "ee6d5a0c",
   "metadata": {
    "ExecuteTime": {
     "end_time": "2022-07-07T08:29:13.230893Z",
     "start_time": "2022-07-07T08:29:13.189544Z"
    }
   },
   "outputs": [
    {
     "data": {
      "text/plain": [
       "60517"
      ]
     },
     "execution_count": 80,
     "metadata": {},
     "output_type": "execute_result"
    }
   ],
   "source": [
    "len(training1level['userid'].unique())"
   ]
  },
  {
   "cell_type": "code",
   "execution_count": 82,
   "id": "6fa598ad",
   "metadata": {
    "ExecuteTime": {
     "end_time": "2022-07-07T08:30:15.136688Z",
     "start_time": "2022-07-07T08:30:02.613494Z"
    }
   },
   "outputs": [],
   "source": [
    "training1level.to_csv('../data/training1level.csv', index=False)\n",
    "testset1l.to_csv('../data/test1level.csv', index=False)\n",
    "holdout1l.to_csv('../data/holdout1level.csv', index=False)"
   ]
  },
  {
   "cell_type": "code",
   "execution_count": null,
   "id": "1f6d651a",
   "metadata": {},
   "outputs": [],
   "source": []
  }
 ],
 "metadata": {
  "kernelspec": {
   "display_name": "Python 3 (ipykernel)",
   "language": "python",
   "name": "python3"
  },
  "language_info": {
   "codemirror_mode": {
    "name": "ipython",
    "version": 3
   },
   "file_extension": ".py",
   "mimetype": "text/x-python",
   "name": "python",
   "nbconvert_exporter": "python",
   "pygments_lexer": "ipython3",
   "version": "3.9.13"
  },
  "latex_envs": {
   "LaTeX_envs_menu_present": true,
   "autoclose": false,
   "autocomplete": true,
   "bibliofile": "biblio.bib",
   "cite_by": "apalike",
   "current_citInitial": 1,
   "eqLabelWithNumbers": true,
   "eqNumInitial": 1,
   "hotkeys": {
    "equation": "Ctrl-E",
    "itemize": "Ctrl-I"
   },
   "labels_anchors": false,
   "latex_user_defs": false,
   "report_style_numbering": false,
   "user_envs_cfg": false
  }
 },
 "nbformat": 4,
 "nbformat_minor": 5
}
