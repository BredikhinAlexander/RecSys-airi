{
 "cells": [
  {
   "cell_type": "code",
   "execution_count": 2,
   "id": "49867334",
   "metadata": {
    "ExecuteTime": {
     "end_time": "2022-07-06T21:33:06.114378Z",
     "start_time": "2022-07-06T21:32:47.224191Z"
    }
   },
   "outputs": [],
   "source": [
    "from polara import get_movielens_data\n",
    "from polara.preprocessing.dataframes import reindex, leave_one_out\n",
    "\n",
    "mldata, genres = get_movielens_data(include_time=True, get_genres=True)"
   ]
  },
  {
   "cell_type": "code",
   "execution_count": 3,
   "id": "b627342b",
   "metadata": {
    "ExecuteTime": {
     "end_time": "2022-07-06T21:33:06.143666Z",
     "start_time": "2022-07-06T21:33:06.117017Z"
    }
   },
   "outputs": [
    {
     "data": {
      "text/html": [
       "<div>\n",
       "<style scoped>\n",
       "    .dataframe tbody tr th:only-of-type {\n",
       "        vertical-align: middle;\n",
       "    }\n",
       "\n",
       "    .dataframe tbody tr th {\n",
       "        vertical-align: top;\n",
       "    }\n",
       "\n",
       "    .dataframe thead th {\n",
       "        text-align: right;\n",
       "    }\n",
       "</style>\n",
       "<table border=\"1\" class=\"dataframe\">\n",
       "  <thead>\n",
       "    <tr style=\"text-align: right;\">\n",
       "      <th></th>\n",
       "      <th>userid</th>\n",
       "      <th>movieid</th>\n",
       "      <th>rating</th>\n",
       "      <th>timestamp</th>\n",
       "    </tr>\n",
       "  </thead>\n",
       "  <tbody>\n",
       "    <tr>\n",
       "      <th>0</th>\n",
       "      <td>1</td>\n",
       "      <td>1193</td>\n",
       "      <td>5</td>\n",
       "      <td>978300760</td>\n",
       "    </tr>\n",
       "    <tr>\n",
       "      <th>1</th>\n",
       "      <td>1</td>\n",
       "      <td>661</td>\n",
       "      <td>3</td>\n",
       "      <td>978302109</td>\n",
       "    </tr>\n",
       "    <tr>\n",
       "      <th>2</th>\n",
       "      <td>1</td>\n",
       "      <td>914</td>\n",
       "      <td>3</td>\n",
       "      <td>978301968</td>\n",
       "    </tr>\n",
       "    <tr>\n",
       "      <th>3</th>\n",
       "      <td>1</td>\n",
       "      <td>3408</td>\n",
       "      <td>4</td>\n",
       "      <td>978300275</td>\n",
       "    </tr>\n",
       "    <tr>\n",
       "      <th>4</th>\n",
       "      <td>1</td>\n",
       "      <td>2355</td>\n",
       "      <td>5</td>\n",
       "      <td>978824291</td>\n",
       "    </tr>\n",
       "  </tbody>\n",
       "</table>\n",
       "</div>"
      ],
      "text/plain": [
       "   userid  movieid  rating  timestamp\n",
       "0       1     1193       5  978300760\n",
       "1       1      661       3  978302109\n",
       "2       1      914       3  978301968\n",
       "3       1     3408       4  978300275\n",
       "4       1     2355       5  978824291"
      ]
     },
     "execution_count": 3,
     "metadata": {},
     "output_type": "execute_result"
    }
   ],
   "source": [
    "mldata.head()"
   ]
  },
  {
   "cell_type": "code",
   "execution_count": 4,
   "id": "621f8c03",
   "metadata": {
    "ExecuteTime": {
     "end_time": "2022-07-06T21:33:06.153596Z",
     "start_time": "2022-07-06T21:33:06.146274Z"
    }
   },
   "outputs": [],
   "source": [
    "def transform_indices(data, users, items):\n",
    "    data_index = {}\n",
    "    for entity, field in zip(['users', 'items'], [users, items]):\n",
    "        idx, idx_map = to_numeric_id(data, field)\n",
    "        data_index[entity] = idx_map\n",
    "        data.loc[:, field] = idx\n",
    "    return data, data_index\n",
    "\n",
    "def to_numeric_id(data, field):\n",
    "    idx_data = data[field].astype(\"category\")\n",
    "    idx = idx_data.cat.codes\n",
    "    idx_map = idx_data.cat.categories.rename(field)\n",
    "    return idx, idx_map\n",
    "\n",
    "\n",
    "def matrix_from_data(data, data_description, dtype=None):\n",
    "    '''\n",
    "    Converts pandas DataFrame into sparse CSR matrix.\n",
    "    Assumes data in the DataFrame is alread normalized via `transform_indices`.\n",
    "    '''\n",
    "    # get indices of observed data\n",
    "    user_idx = data[data_description['users']].values\n",
    "    item_idx = data[data_description['items']].values\n",
    "    feedback_data = data_description.get('feedback', None)\n",
    "    if feedback_data is not None:\n",
    "        feedback = data[feedback_data].values\n",
    "    else:\n",
    "        feedback = np.ones(len(user_idx))\n",
    "    # construct rating matrix\n",
    "    shape = (data_description['n_users'], data_description['n_items'])\n",
    "    return csr_matrix((feedback, (user_idx, item_idx)), shape=shape, dtype=dtype)"
   ]
  },
  {
   "cell_type": "code",
   "execution_count": 22,
   "id": "cdbf2626",
   "metadata": {
    "ExecuteTime": {
     "end_time": "2022-07-06T21:54:37.177765Z",
     "start_time": "2022-07-06T21:54:37.046050Z"
    }
   },
   "outputs": [
    {
     "name": "stdout",
     "output_type": "stream",
     "text": [
      "Filtered 177 invalid observations.\n",
      "551996 199868\n"
     ]
    }
   ],
   "source": [
    "test_timepoint = mldata['timestamp'].quantile(\n",
    "    q=0.8, interpolation='nearest'\n",
    ")\n",
    "\n",
    "test_data_ = mldata.query('timestamp >= @test_timepoint')\n",
    "\n",
    "\n",
    "train_data_ = mldata.query(\n",
    "    'userid not in @test_data_.userid.unique() and timestamp < @test_timepoint'\n",
    ")\n",
    "\n",
    "training, data_index = transform_indices(train_data_.copy(), 'userid', 'movieid')\n",
    "\n",
    "test_data = reindex(test_data_, data_index['items'])\n",
    "\n",
    "print(len(training), len(test_data))\n",
    "# training - pd.Dataframe с нормализованными индексами данных для обучения\n",
    "# test_data - для теста\n"
   ]
  },
  {
   "cell_type": "code",
   "execution_count": null,
   "id": "0c391bf9",
   "metadata": {},
   "outputs": [],
   "source": []
  },
  {
   "cell_type": "code",
   "execution_count": 31,
   "id": "0dea1726",
   "metadata": {
    "ExecuteTime": {
     "end_time": "2022-07-06T22:08:25.654332Z",
     "start_time": "2022-07-06T22:08:25.403747Z"
    }
   },
   "outputs": [],
   "source": [
    "testset_, holdout_ = leave_one_out(\n",
    "    test_data, target='timestamp', sample_top=True, random_state=0\n",
    ")\n",
    "testset_valid_, holdout_valid_ = leave_one_out(\n",
    "    testset_, target='timestamp', sample_top=True, random_state=0\n",
    ")"
   ]
  },
  {
   "cell_type": "code",
   "execution_count": 34,
   "id": "4c07d2a8",
   "metadata": {
    "ExecuteTime": {
     "end_time": "2022-07-06T22:09:27.691231Z",
     "start_time": "2022-07-06T22:09:27.652508Z"
    }
   },
   "outputs": [],
   "source": [
    "import pandas as pd\n",
    "import numpy as np\n",
    "\n",
    "userid = data_index['users'].name\n",
    "test_users = pd.Index(\n",
    "    # ensure test users are the same across testing data\n",
    "    np.intersect1d(\n",
    "        testset_valid_[userid].unique(),\n",
    "        holdout_valid_[userid].unique()\n",
    "    )\n",
    ")\n",
    "testset_valid = (\n",
    "    testset_valid_\n",
    "    # reindex warm-start users for convenience\n",
    "    .assign(**{userid: lambda x: test_users.get_indexer(x[userid])})\n",
    "    .query(f'{userid} >= 0')\n",
    "    .sort_values('userid')\n",
    ")\n",
    "holdout_valid = (\n",
    "    holdout_valid_\n",
    "    # reindex warm-start users for convenience\n",
    "    .assign(**{userid: lambda x: test_users.get_indexer(x[userid])})\n",
    "    .query(f'{userid} >= 0')\n",
    "    .sort_values('userid')\n",
    ")"
   ]
  },
  {
   "cell_type": "code",
   "execution_count": null,
   "id": "9599153e",
   "metadata": {},
   "outputs": [],
   "source": []
  },
  {
   "cell_type": "code",
   "execution_count": 35,
   "id": "19a6a2d7",
   "metadata": {
    "ExecuteTime": {
     "end_time": "2022-07-06T22:09:37.814585Z",
     "start_time": "2022-07-06T22:09:37.810159Z"
    }
   },
   "outputs": [
    {
     "data": {
      "text/plain": [
       "Int64Index([   1,    2,    3,    4,    5,    6,    7,    8,    9,   10,\n",
       "            ...\n",
       "            5972, 5985, 5991, 5995, 5996, 5998, 6001, 6002, 6016, 6040],\n",
       "           dtype='int64', length=1705)"
      ]
     },
     "execution_count": 35,
     "metadata": {},
     "output_type": "execute_result"
    }
   ],
   "source": [
    "test_users"
   ]
  },
  {
   "cell_type": "code",
   "execution_count": 36,
   "id": "ac3df6bd",
   "metadata": {
    "ExecuteTime": {
     "end_time": "2022-07-06T22:09:45.817052Z",
     "start_time": "2022-07-06T22:09:45.809470Z"
    }
   },
   "outputs": [
    {
     "data": {
      "text/html": [
       "<div>\n",
       "<style scoped>\n",
       "    .dataframe tbody tr th:only-of-type {\n",
       "        vertical-align: middle;\n",
       "    }\n",
       "\n",
       "    .dataframe tbody tr th {\n",
       "        vertical-align: top;\n",
       "    }\n",
       "\n",
       "    .dataframe thead th {\n",
       "        text-align: right;\n",
       "    }\n",
       "</style>\n",
       "<table border=\"1\" class=\"dataframe\">\n",
       "  <thead>\n",
       "    <tr style=\"text-align: right;\">\n",
       "      <th></th>\n",
       "      <th>userid</th>\n",
       "      <th>movieid</th>\n",
       "      <th>rating</th>\n",
       "      <th>timestamp</th>\n",
       "    </tr>\n",
       "  </thead>\n",
       "  <tbody>\n",
       "    <tr>\n",
       "      <th>0</th>\n",
       "      <td>0</td>\n",
       "      <td>1063</td>\n",
       "      <td>5</td>\n",
       "      <td>978300760</td>\n",
       "    </tr>\n",
       "    <tr>\n",
       "      <th>29</th>\n",
       "      <td>0</td>\n",
       "      <td>684</td>\n",
       "      <td>3</td>\n",
       "      <td>978824268</td>\n",
       "    </tr>\n",
       "    <tr>\n",
       "      <th>30</th>\n",
       "      <td>0</td>\n",
       "      <td>2029</td>\n",
       "      <td>4</td>\n",
       "      <td>978824291</td>\n",
       "    </tr>\n",
       "    <tr>\n",
       "      <th>31</th>\n",
       "      <td>0</td>\n",
       "      <td>2879</td>\n",
       "      <td>4</td>\n",
       "      <td>978300019</td>\n",
       "    </tr>\n",
       "    <tr>\n",
       "      <th>33</th>\n",
       "      <td>0</td>\n",
       "      <td>562</td>\n",
       "      <td>4</td>\n",
       "      <td>978824268</td>\n",
       "    </tr>\n",
       "    <tr>\n",
       "      <th>...</th>\n",
       "      <td>...</td>\n",
       "      <td>...</td>\n",
       "      <td>...</td>\n",
       "      <td>...</td>\n",
       "    </tr>\n",
       "    <tr>\n",
       "      <th>999905</th>\n",
       "      <td>1704</td>\n",
       "      <td>857</td>\n",
       "      <td>5</td>\n",
       "      <td>997454160</td>\n",
       "    </tr>\n",
       "    <tr>\n",
       "      <th>999871</th>\n",
       "      <td>1704</td>\n",
       "      <td>1822</td>\n",
       "      <td>4</td>\n",
       "      <td>997453982</td>\n",
       "    </tr>\n",
       "    <tr>\n",
       "      <th>1000169</th>\n",
       "      <td>1704</td>\n",
       "      <td>2437</td>\n",
       "      <td>4</td>\n",
       "      <td>997454180</td>\n",
       "    </tr>\n",
       "    <tr>\n",
       "      <th>1000019</th>\n",
       "      <td>1704</td>\n",
       "      <td>2623</td>\n",
       "      <td>4</td>\n",
       "      <td>997454429</td>\n",
       "    </tr>\n",
       "    <tr>\n",
       "      <th>1000172</th>\n",
       "      <td>1704</td>\n",
       "      <td>1561</td>\n",
       "      <td>3</td>\n",
       "      <td>997454464</td>\n",
       "    </tr>\n",
       "  </tbody>\n",
       "</table>\n",
       "<p>196346 rows × 4 columns</p>\n",
       "</div>"
      ],
      "text/plain": [
       "         userid  movieid  rating  timestamp\n",
       "0             0     1063       5  978300760\n",
       "29            0      684       3  978824268\n",
       "30            0     2029       4  978824291\n",
       "31            0     2879       4  978300019\n",
       "33            0      562       4  978824268\n",
       "...         ...      ...     ...        ...\n",
       "999905     1704      857       5  997454160\n",
       "999871     1704     1822       4  997453982\n",
       "1000169    1704     2437       4  997454180\n",
       "1000019    1704     2623       4  997454429\n",
       "1000172    1704     1561       3  997454464\n",
       "\n",
       "[196346 rows x 4 columns]"
      ]
     },
     "execution_count": 36,
     "metadata": {},
     "output_type": "execute_result"
    }
   ],
   "source": [
    "testset_valid"
   ]
  },
  {
   "cell_type": "code",
   "execution_count": 37,
   "id": "92fa216c",
   "metadata": {
    "ExecuteTime": {
     "end_time": "2022-07-06T22:09:58.608069Z",
     "start_time": "2022-07-06T22:09:58.600202Z"
    }
   },
   "outputs": [
    {
     "data": {
      "text/html": [
       "<div>\n",
       "<style scoped>\n",
       "    .dataframe tbody tr th:only-of-type {\n",
       "        vertical-align: middle;\n",
       "    }\n",
       "\n",
       "    .dataframe tbody tr th {\n",
       "        vertical-align: top;\n",
       "    }\n",
       "\n",
       "    .dataframe thead th {\n",
       "        text-align: right;\n",
       "    }\n",
       "</style>\n",
       "<table border=\"1\" class=\"dataframe\">\n",
       "  <thead>\n",
       "    <tr style=\"text-align: right;\">\n",
       "      <th></th>\n",
       "      <th>userid</th>\n",
       "      <th>movieid</th>\n",
       "      <th>rating</th>\n",
       "      <th>timestamp</th>\n",
       "    </tr>\n",
       "  </thead>\n",
       "  <tbody>\n",
       "    <tr>\n",
       "      <th>32</th>\n",
       "      <td>0</td>\n",
       "      <td>1390</td>\n",
       "      <td>4</td>\n",
       "      <td>978824330</td>\n",
       "    </tr>\n",
       "    <tr>\n",
       "      <th>66</th>\n",
       "      <td>1</td>\n",
       "      <td>1496</td>\n",
       "      <td>3</td>\n",
       "      <td>978300174</td>\n",
       "    </tr>\n",
       "    <tr>\n",
       "      <th>187</th>\n",
       "      <td>2</td>\n",
       "      <td>100</td>\n",
       "      <td>4</td>\n",
       "      <td>978298486</td>\n",
       "    </tr>\n",
       "    <tr>\n",
       "      <th>235</th>\n",
       "      <td>3</td>\n",
       "      <td>2657</td>\n",
       "      <td>4</td>\n",
       "      <td>978294282</td>\n",
       "    </tr>\n",
       "    <tr>\n",
       "      <th>372</th>\n",
       "      <td>4</td>\n",
       "      <td>2800</td>\n",
       "      <td>2</td>\n",
       "      <td>978246576</td>\n",
       "    </tr>\n",
       "    <tr>\n",
       "      <th>...</th>\n",
       "      <td>...</td>\n",
       "      <td>...</td>\n",
       "      <td>...</td>\n",
       "      <td>...</td>\n",
       "    </tr>\n",
       "    <tr>\n",
       "      <th>992874</th>\n",
       "      <td>1700</td>\n",
       "      <td>1653</td>\n",
       "      <td>2</td>\n",
       "      <td>1001832291</td>\n",
       "    </tr>\n",
       "    <tr>\n",
       "      <th>993738</th>\n",
       "      <td>1701</td>\n",
       "      <td>126</td>\n",
       "      <td>3</td>\n",
       "      <td>1004811957</td>\n",
       "    </tr>\n",
       "    <tr>\n",
       "      <th>993900</th>\n",
       "      <td>1702</td>\n",
       "      <td>1684</td>\n",
       "      <td>4</td>\n",
       "      <td>1014524758</td>\n",
       "    </tr>\n",
       "    <tr>\n",
       "      <th>996774</th>\n",
       "      <td>1703</td>\n",
       "      <td>3406</td>\n",
       "      <td>3</td>\n",
       "      <td>995664198</td>\n",
       "    </tr>\n",
       "    <tr>\n",
       "      <th>1000167</th>\n",
       "      <td>1704</td>\n",
       "      <td>152</td>\n",
       "      <td>3</td>\n",
       "      <td>997454486</td>\n",
       "    </tr>\n",
       "  </tbody>\n",
       "</table>\n",
       "<p>1705 rows × 4 columns</p>\n",
       "</div>"
      ],
      "text/plain": [
       "         userid  movieid  rating   timestamp\n",
       "32            0     1390       4   978824330\n",
       "66            1     1496       3   978300174\n",
       "187           2      100       4   978298486\n",
       "235           3     2657       4   978294282\n",
       "372           4     2800       2   978246576\n",
       "...         ...      ...     ...         ...\n",
       "992874     1700     1653       2  1001832291\n",
       "993738     1701      126       3  1004811957\n",
       "993900     1702     1684       4  1014524758\n",
       "996774     1703     3406       3   995664198\n",
       "1000167    1704      152       3   997454486\n",
       "\n",
       "[1705 rows x 4 columns]"
      ]
     },
     "execution_count": 37,
     "metadata": {},
     "output_type": "execute_result"
    }
   ],
   "source": [
    "holdout_valid"
   ]
  },
  {
   "cell_type": "code",
   "execution_count": 38,
   "id": "a06d7b5c",
   "metadata": {
    "ExecuteTime": {
     "end_time": "2022-07-06T22:11:51.191770Z",
     "start_time": "2022-07-06T22:11:51.186086Z"
    }
   },
   "outputs": [
    {
     "data": {
      "text/plain": [
       "{'users': 'userid',\n",
       " 'items': 'movieid',\n",
       " 'order': 'timestamp',\n",
       " 'n_users': 4257,\n",
       " 'n_items': 3586}"
      ]
     },
     "execution_count": 38,
     "metadata": {},
     "output_type": "execute_result"
    }
   ],
   "source": [
    "\n",
    "data_description = dict(\n",
    "    users = data_index['users'].name,\n",
    "    items = data_index['items'].name,\n",
    "    order = 'timestamp',\n",
    "    n_users = len(data_index['users']),\n",
    "    n_items = len(data_index['items']),\n",
    ")\n",
    "data_description"
   ]
  },
  {
   "cell_type": "code",
   "execution_count": 40,
   "id": "36df4673",
   "metadata": {
    "ExecuteTime": {
     "end_time": "2022-07-06T22:19:19.104610Z",
     "start_time": "2022-07-06T22:19:19.062703Z"
    }
   },
   "outputs": [],
   "source": [
    "from scipy.sparse import csr_matrix\n",
    "m = matrix_from_data(training, data_description)"
   ]
  },
  {
   "cell_type": "code",
   "execution_count": 41,
   "id": "3de7f521",
   "metadata": {
    "ExecuteTime": {
     "end_time": "2022-07-06T22:19:21.685298Z",
     "start_time": "2022-07-06T22:19:21.681544Z"
    }
   },
   "outputs": [
    {
     "data": {
      "text/plain": [
       "<4257x3586 sparse matrix of type '<class 'numpy.float64'>'\n",
       "\twith 551996 stored elements in Compressed Sparse Row format>"
      ]
     },
     "execution_count": 41,
     "metadata": {},
     "output_type": "execute_result"
    }
   ],
   "source": [
    "m"
   ]
  },
  {
   "cell_type": "code",
   "execution_count": null,
   "id": "27b7e4ef",
   "metadata": {},
   "outputs": [],
   "source": []
  }
 ],
 "metadata": {
  "kernelspec": {
   "display_name": "Python 3 (ipykernel)",
   "language": "python",
   "name": "python3"
  },
  "language_info": {
   "codemirror_mode": {
    "name": "ipython",
    "version": 3
   },
   "file_extension": ".py",
   "mimetype": "text/x-python",
   "name": "python",
   "nbconvert_exporter": "python",
   "pygments_lexer": "ipython3",
   "version": "3.9.13"
  },
  "latex_envs": {
   "LaTeX_envs_menu_present": true,
   "autoclose": false,
   "autocomplete": true,
   "bibliofile": "biblio.bib",
   "cite_by": "apalike",
   "current_citInitial": 1,
   "eqLabelWithNumbers": true,
   "eqNumInitial": 1,
   "hotkeys": {
    "equation": "Ctrl-E",
    "itemize": "Ctrl-I"
   },
   "labels_anchors": false,
   "latex_user_defs": false,
   "report_style_numbering": false,
   "user_envs_cfg": false
  }
 },
 "nbformat": 4,
 "nbformat_minor": 5
}
